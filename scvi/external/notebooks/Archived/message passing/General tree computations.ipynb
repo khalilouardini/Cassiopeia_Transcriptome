{
 "cells": [
  {
   "cell_type": "code",
   "execution_count": 1,
   "metadata": {},
   "outputs": [],
   "source": [
    "import numpy as np\n",
    "import networkx as nx\n",
    "import matplotlib\n",
    "from scipy.stats import multivariate_normal\n",
    "%matplotlib inline"
   ]
  },
  {
   "cell_type": "markdown",
   "metadata": {},
   "source": [
    "## Let us try out networkx on an example tree"
   ]
  },
  {
   "cell_type": "markdown",
   "metadata": {},
   "source": [
    "We will use this general tree for all the incoming computations. Especially, the tree is defined by the following variables\n",
    "\\begin{align}\n",
    "(x_1, x_2, x_3, x_4, x_5, x_6, x_7, y_1, y_2, z_1) = (v_0, v_1, v_2, v_3, v_4, v_5, v_6, v_7, v_8, v_9)\n",
    "\\end{align}\n",
    "$x$ designates the leaves (observed or last layer of hidden variables). These variables will be connected later to an observation model. $y$ and $z$ denote the first order and second order of internal nodes. $v_9 = z_1$ is the root node (associated to the prior of the Gaussian random walk)."
   ]
  },
  {
   "cell_type": "code",
   "execution_count": 97,
   "metadata": {},
   "outputs": [
    {
     "data": {
      "image/png": "[encoded data removed]",
      "text/plain": [
       "<Figure size 432x288 with 1 Axes>"
      ]
     },
     "metadata": {},
     "output_type": "display_data"
    }
   ],
   "source": [
    "# let us encode the adjacency matrix \n",
    "# A_{ij} = 0 if no edge between i and j\n",
    "# A_{ij} > 0 means there is an edge and denotes the duration from the parent to the child\n",
    "# A_{ij} < 0 is not allowed\n",
    "\n",
    "A0 = np.array([[0, 0, 0, 0, 0, 0, 0, 0, 0, 1, 0, 0], \n",
    "              [0, 0, 0, 0, 0, 0, 0, 0, 0, 1, 0, 0], \n",
    "              [0, 0, 0, 0, 0, 0, 0, 0, 0, 1, 0, 0],\n",
    "              [0, 0, 0, 0, 0, 0, 0, 0, 0, 1, 0, 0],\n",
    "              [0, 0, 0, 0, 0, 0, 0, 0, 0, 1, 0, 0],\n",
    "              [0, 0, 0, 0, 0, 0, 0, 0, 0, 0, 1, 0],\n",
    "              [0, 0, 0, 0, 0, 0, 0, 0, 0, 0, 1, 0],\n",
    "              [0, 0, 0, 0, 0, 0, 0, 0, 0, 0, 1, 0],\n",
    "              [0, 0, 0, 0, 0, 0, 0, 0, 0, 0, 1, 0],\n",
    "              [1, 1, 1, 1, 1, 0, 0, 0, 0, 0, 0, 1],\n",
    "              [0, 0, 0, 0, 0, 1, 1, 1, 1, 0, 0, 1],\n",
    "              [0, 0, 0, 0, 0, 0, 0, 0, 0, 1, 1, 0]])\n",
    "\n",
    "T0 = nx.from_numpy_array(A0)\n",
    "nx.draw(T0, with_labels=True)"
   ]
  },
  {
   "cell_type": "code",
   "execution_count": 98,
   "metadata": {},
   "outputs": [
    {
     "name": "stdout",
     "output_type": "stream",
     "text": [
      "(0, {})\n",
      "(1, {})\n",
      "(2, {})\n",
      "(3, {})\n",
      "(4, {})\n",
      "(5, {})\n",
      "(6, {})\n",
      "(7, {})\n",
      "(8, {})\n",
      "(9, {})\n",
      "(10, {})\n",
      "(11, {})\n"
     ]
    }
   ],
   "source": [
    "for n in T0.nodes(data=True):\n",
    "    print(n)"
   ]
  },
  {
   "cell_type": "code",
   "execution_count": 99,
   "metadata": {},
   "outputs": [],
   "source": [
    "#parents = {1:10, 2:10, 3:10, 4:10, 5:10, 6:11, 7:11, 8:11, 9:11, 10:11, 10:12, 11:12}\n",
    "#parents = {1:20, 2:20, 3:20, 4:20, 5:20, 6:20, 7:19, 8:19, 9:18, 10:18, 11:18, 12:18, 13:17, 14:16,\n",
    "          #15:16, 16:21, 17:21, 18:21, 19:21, 20:21}\n",
    "#parents = {1:3, 2:3, 3:4, 4:5}\n",
    "#parents = {1:4, 2:4, 3:5, 4:6, 5:6, 6:7} #, 6:8, 7:8}\n",
    "#parents = {1:7, 2:5, 3:6, 4:8, 5:6, 6:8, 7:8} #, 6:8, 7:8}\n",
    "#parents = {1:8, 2:7, 3:6, 4:5, 5:6, 6:8, 7:8}\n",
    "#parents = {2: 1, 3: 1, 5: 1, 4: 3, 6: 5, 7: 5, 8: 7}\n",
    "#parents = {1:15, 2:12, 3:9, 4:11, 5:10, 6:8, 7:13, 8:10, 9:12, 10:13, 11:12, 12:14, 13:16, 14:16, 15:16 }\n",
    "#parents = {2: 1, 3: 1, 5: 1, 9: 1, 4: 3, 6: 5, 7: 5, 8: 7, 10: 9, 11: 9, 12: 9, 13: 11, 14: 12, 15: 12, 16: 15}\n",
    "#parents = {2: 1, 3: 1, 5: 1, 9: 1, 17: 1, 4: 3, 6: 5,\n",
    "#7: 5,8: 7,10: 9,11: 9,12: 9,13: 11,14: 12,15: 12,16: 15,18: 17,19: 17,20: 17,21: 17,22: 19, 23: 20,24: 20,26: 21,27: 21,28: 21,25: 24,29: 27,30: 28,31: 28,32: 31}\n",
    "parents = {2: 1,\n",
    "          3: 1,\n",
    "          5: 1,\n",
    "          9: 1,\n",
    "          4: 3,\n",
    "          6: 5,\n",
    "          7: 5,\n",
    "          8: 7,\n",
    "          10: 9,\n",
    "          11: 9,\n",
    "          12: 9,\n",
    "          13: 11,\n",
    "          14: 12,\n",
    "          15: 12,\n",
    "          16: 15}"
   ]
  },
  {
   "cell_type": "code",
   "execution_count": 100,
   "metadata": {},
   "outputs": [
    {
     "data": {
      "text/plain": [
       "[2, 3, 5, 9, 4, 6, 7, 8, 10, 11, 12, 13, 14, 15, 16]"
      ]
     },
     "execution_count": 100,
     "metadata": {},
     "output_type": "execute_result"
    }
   ],
   "source": [
    "L = list(parents.keys())\n",
    "n_nodes = len(L) + 1\n",
    "L"
   ]
  },
  {
   "cell_type": "code",
   "execution_count": 101,
   "metadata": {},
   "outputs": [
    {
     "data": {
      "text/plain": [
       "8"
      ]
     },
     "execution_count": 101,
     "metadata": {},
     "output_type": "execute_result"
    }
   ],
   "source": [
    "def adjacency_matrix(n_nodes, parents):\n",
    "    A = np.zeros((n_nodes, n_nodes))\n",
    "    for k in list(parents.keys()):\n",
    "        pi = parents[k]\n",
    "        #print(k, pi)\n",
    "        A[k - 1, pi - 1] = 1\n",
    "        A[pi - 1, k - 1] = 1\n",
    "    return A\n",
    "\n",
    "A = adjacency_matrix(n_nodes, parents)\n",
    "T = nx.from_numpy_array(A)\n",
    "leaves = [n for n in [node for node in T.nodes() if T.degree(node)==1] if n != 0]\n",
    "n_leaves = len(leaves)\n",
    "n_leaves"
   ]
  },
  {
   "cell_type": "code",
   "execution_count": 126,
   "metadata": {},
   "outputs": [
    {
     "data": {
      "text/plain": [
       "(8, [1, 3, 5, 7, 9, 12, 13, 15])"
      ]
     },
     "execution_count": 126,
     "metadata": {},
     "output_type": "execute_result"
    }
   ],
   "source": [
    "n_leaves, leaves"
   ]
  },
  {
   "cell_type": "code",
   "execution_count": 103,
   "metadata": {},
   "outputs": [
    {
     "data": {
      "image/png": "[encoded data removed]",
      "text/plain": [
       "<Figure size 432x288 with 1 Axes>"
      ]
     },
     "metadata": {},
     "output_type": "display_data"
    }
   ],
   "source": [
    "nx.draw(T, with_labels=True)"
   ]
  },
  {
   "cell_type": "markdown",
   "metadata": {},
   "source": [
    "In order to collect the prior information while computing the posterior predictive density, we need to add a virtual node with the prior information as follow"
   ]
  },
  {
   "cell_type": "code",
   "execution_count": 104,
   "metadata": {},
   "outputs": [
    {
     "data": {
      "image/png": "[encoded data removed]",
      "text/plain": [
       "<Figure size 432x288 with 1 Axes>"
      ]
     },
     "metadata": {},
     "output_type": "display_data"
    }
   ],
   "source": [
    "# add a fake node to simulate the prior\n",
    "T_add = nx.Graph(T)\n",
    "T_add.add_node(n_nodes)\n",
    "#T_add.add_edge(n_nodes - 1, n_nodes, weight=1.0)\n",
    "T_add.add_edge(0, n_nodes, weight=1.0)\n",
    "nx.draw(T_add, with_labels=True)"
   ]
  },
  {
   "cell_type": "markdown",
   "metadata": {},
   "source": [
    "## 1. Exact computations via matrix inversion"
   ]
  },
  {
   "cell_type": "markdown",
   "metadata": {},
   "source": [
    "For this, we need to compute the mean and covariance of the marginals. The mean will always be zero. We are therefore left with computing the covariances. For this, let us start by forming the precision matrix of the whole distribution\n",
    "\n",
    "\\begin{align}\n",
    "\\log p(x_1, x_2, x_3, x_4, y_1, x_6, x_7, x_8, y_2, z_1) = \\sum_{nodes} \\log p(node \\mid parent) \\\\\n",
    " = \\sum_{nodes} - \\frac{|| x - \\pi(x)||^2}{2 \\delta_{x, \\pi(x)}^2} \\\\\n",
    "  = \\sum_{nodes} -\\frac{1}{2} \\left[ \\frac{x^2}{\\delta_{x, \\pi(x)}^2} + \\frac{\\pi(x)^2}{\\delta_{x, \\pi(x)}^2} - 2\\frac{x\\pi(x)}{\\delta_{x, \\pi(x)}^2} \\right] \\\\\n",
    "  = \\sum_{ij} -\\frac{1}{2} \\Sigma^{-1}_{ij} x_i x_j\n",
    "\\end{align}\n",
    "\n",
    "From this we can identify the coefficients in linear time"
   ]
  },
  {
   "cell_type": "markdown",
   "metadata": {},
   "source": [
    "(z1) = (x10)\n",
    "\n",
    "(y1, y2) = (x9, x8)\n",
    "\n",
    "(x1, x2, x3, x4, x_5, x_6, x_7)"
   ]
  },
  {
   "cell_type": "code",
   "execution_count": 106,
   "metadata": {},
   "outputs": [
    {
     "name": "stdout",
     "output_type": "stream",
     "text": [
      "1 0\n",
      "2 0\n",
      "4 0\n",
      "8 0\n",
      "3 2\n",
      "5 4\n",
      "6 4\n",
      "7 6\n",
      "9 8\n",
      "10 8\n",
      "11 8\n",
      "12 10\n",
      "13 11\n",
      "14 11\n",
      "15 14\n"
     ]
    }
   ],
   "source": [
    "d = 2\n",
    "inverse_covariance = np.zeros((n_nodes * d, n_nodes * d))\n",
    "for i in parents:\n",
    "    i = i - 1\n",
    "    pi_ind = parents[i + 1] - 1\n",
    "    print(i, pi_ind)\n",
    "    inverse_covariance[i * d: (i + 1) * d, i * d: (i + 1) * d] += np.identity(d)\n",
    "    inverse_covariance[pi_ind * d: (pi_ind + 1) * d, pi_ind * d: (pi_ind + 1) * d] += np.identity(d)\n",
    "    inverse_covariance[pi_ind * d: (pi_ind + 1) * d, i * d: (i + 1) * d] += - np.identity(d)\n",
    "    inverse_covariance[i * d: (i + 1) * d, pi_ind * d: (pi_ind + 1) * d] += - np.identity(d)\n",
    "#inverse_covariance[(n_nodes - 1) * d: ((n_nodes - 1) + 1) * d, (n_nodes - 1) * d: ((n_nodes - 1) + 1) * d] += np.identity(d)\n",
    "inverse_covariance[0:d, 0:d] += np.identity(d)\n",
    "full_covariance = np.linalg.inv(inverse_covariance)"
   ]
  },
  {
   "cell_type": "code",
   "execution_count": 107,
   "metadata": {},
   "outputs": [
    {
     "name": "stdout",
     "output_type": "stream",
     "text": [
      "Inverse covariance\n",
      "[[ 5.  0. -1. ...  0.  0.  0.]\n",
      " [ 0.  5.  0. ...  0.  0.  0.]\n",
      " [-1.  0.  1. ...  0.  0.  0.]\n",
      " ...\n",
      " [ 0.  0.  0. ...  2.  0. -1.]\n",
      " [ 0.  0.  0. ...  0.  1.  0.]\n",
      " [ 0.  0.  0. ... -1.  0.  1.]]\n",
      "Full covariance\n",
      "[[1. 0. 1. ... 0. 1. 0.]\n",
      " [0. 1. 0. ... 1. 0. 1.]\n",
      " [1. 0. 2. ... 0. 1. 0.]\n",
      " ...\n",
      " [0. 1. 0. ... 4. 0. 4.]\n",
      " [1. 0. 1. ... 0. 5. 0.]\n",
      " [0. 1. 0. ... 4. 0. 5.]]\n"
     ]
    },
    {
     "data": {
      "text/plain": [
       "((32, 32), (32, 32))"
      ]
     },
     "execution_count": 107,
     "metadata": {},
     "output_type": "execute_result"
    }
   ],
   "source": [
    "print(\"Inverse covariance\")\n",
    "print(inverse_covariance)\n",
    "print(\"Full covariance\")\n",
    "print(full_covariance)\n",
    "\n",
    "inverse_covariance.shape, full_covariance.shape"
   ]
  },
  {
   "cell_type": "markdown",
   "metadata": {},
   "source": [
    "## 2. Exact computations via message passing\n",
    "\n",
    "Initialize the network with messages"
   ]
  },
  {
   "cell_type": "code",
   "execution_count": 292,
   "metadata": {},
   "outputs": [],
   "source": [
    "import copy\n",
    "\n",
    "def initialize_messages(G, d, evidence, prior_node):\n",
    "    ev = copy.deepcopy(evidence)\n",
    "    dic_nu = {}\n",
    "    dic_mu = {}\n",
    "    dic_log_z = {}\n",
    "    for i, x in enumerate(ev):\n",
    "        dic_nu[i] = 0.0\n",
    "        dic_log_z[i] = 0.0\n",
    "        dic_mu[i] = x\n",
    "    dic_nu[prior_node] = 0.0\n",
    "    dic_mu[prior_node] = np.zeros(d)\n",
    "    dic_log_z[prior_node] = 0.0\n",
    "    nx.set_node_attributes(G, dic_nu, 'nu')\n",
    "    nx.set_node_attributes(G, dic_mu, 'mu')\n",
    "    nx.set_node_attributes(G, dic_log_z, 'log_z')"
   ]
  },
  {
   "cell_type": "code",
   "execution_count": 293,
   "metadata": {},
   "outputs": [],
   "source": [
    "def initialize_visit(G, prior_node):\n",
    "    dic_visited = {}\n",
    "    for node in G:\n",
    "        dic_visited[node] = False\n",
    "    nx.set_node_attributes(G, dic_visited, 'visited')"
   ]
  },
  {
   "cell_type": "code",
   "execution_count": 294,
   "metadata": {},
   "outputs": [],
   "source": [
    "def product_without(L, exclude):\n",
    "    \"\"\"\n",
    "    L: list of elements\n",
    "    exclude: list of the elements indices to exlucde\n",
    "    \n",
    "    returns: product of all desired array elements\n",
    "    \"\"\"\n",
    "    prod = 1\n",
    "    for idx, x in enumerate(L):\n",
    "        if idx in exclude:\n",
    "            continue\n",
    "        else:\n",
    "            prod *= x\n",
    "    return prod   "
   ]
  },
  {
   "cell_type": "code",
   "execution_count": 302,
   "metadata": {},
   "outputs": [],
   "source": [
    "import pdb\n",
    "\n",
    "def perform_message_passing(T, root_node, prior_node, include_prior):\n",
    "    # print(root_node)\n",
    "    # flag the node as visited\n",
    "    T.nodes[root_node][\"visited\"] = True\n",
    "            \n",
    "    incoming_messages = []\n",
    "    # get list of neighbors that are not visited yet\n",
    "    for node in T.neighbors(root_node):\n",
    "        if not T.nodes[node][\"visited\"] and (node != prior_node  or (node == prior_node and include_prior) ):\n",
    "            #pdb.set_trace()\n",
    "            perform_message_passing(T, node, prior_node, include_prior)\n",
    "            incoming_messages.append(node)\n",
    "    \n",
    "    #pdb.set_trace()\n",
    "    \n",
    "    # collect and return \n",
    "    if len(incoming_messages) == 0:\n",
    "        # nothing to do. This happens on the leaves\n",
    "        return None\n",
    "    \n",
    "    elif len(incoming_messages) == 1:\n",
    "        # this happens when passing through the root\n",
    "        k = incoming_messages[0]\n",
    "        T.nodes[root_node][\"nu\"] = T.nodes[k][\"nu\"] + T[root_node][k][\"weight\"]\n",
    "        T.nodes[root_node][\"mu\"] += T.nodes[k][\"mu\"]\n",
    "        #if root_node != tree_root:\n",
    "        T.nodes[root_node][\"log_z\"] = 0.0\n",
    "        #else: \n",
    "        #    lambda_ = T.nodes[root_node][\"nu\"]\n",
    "        #    T.nodes[root_node][\"log_z\"] = -0.5 * np.sum(( T.nodes[root_node][\"mu\"]) ** 2) / lambda_\n",
    "        #    T.nodes[root_node][\"log_z\"] -= d * 0.5 * np.log(2 * np.pi * lambda_)                                         \n",
    "        #pdb.set_trace()\n",
    "            \n",
    "    elif len(incoming_messages) >= 2:\n",
    "        # children node i = incoming_messages[i]\n",
    "        # n: number of children\n",
    "        n = len(incoming_messages)\n",
    "        \n",
    "        #we will keep track of mean and variances of the children nodes in 2 lists\n",
    "        children_nu = [0.0]*n\n",
    "        children_mu = [0.0]*n\n",
    "        \n",
    "        #updates: mean and variance\n",
    "        \n",
    "        #lambda: used later for the normalizing constant\n",
    "        for i in range(n):\n",
    "            k = incoming_messages[i]\n",
    "            children_nu[i] = T.nodes[k][\"nu\"] + T[root_node][k][\"weight\"]\n",
    "            T.nodes[root_node][\"nu\"] += 1. / children_nu[i]\n",
    "            children_mu[i] = T.nodes[k][\"mu\"] / children_nu[i]\n",
    "            T.nodes[root_node][\"mu\"] += children_mu[i]\n",
    "            \n",
    "            \n",
    "        T.nodes[root_node][\"nu\"] = 1. / T.nodes[root_node][\"nu\"]\n",
    "        T.nodes[root_node][\"mu\"] *= T.nodes[root_node][\"nu\"]\n",
    "        \n",
    "        #find t\n",
    "        t = 0\n",
    "        for excluded_idx in range(n):\n",
    "            prod = product_without(children_nu, [excluded_idx])\n",
    "            t += prod\n",
    "            \n",
    "        #normalizing constant\n",
    "            Z_1 = -0.5 * (n - 1) * d * np.log(2 * np.pi)\n",
    "            Z_2 = -0.5 * d * np.log(t)\n",
    "            Z_3 = 0\n",
    "        \n",
    "        #nested for loop\n",
    "        for j in range(n):\n",
    "            for h in range(n):\n",
    "                if h == j:\n",
    "                    continue\n",
    "                else:\n",
    "                    prod_2 = product_without(children_nu, [j, h])\n",
    "            k = incoming_messages[h]\n",
    "            l = incoming_messages[j]\n",
    "            Z_3 += prod_2 * np.sum((T.nodes[k][\"mu\"] - T.nodes[l][\"mu\"]) ** 2)\n",
    "        Z_3 *= -0.5 / t\n",
    "        \n",
    "        T.nodes[root_node][\"log_z\"] = Z_1 + Z_2 + Z_3\n",
    "        \n",
    "        "
   ]
  },
  {
   "cell_type": "code",
   "execution_count": 303,
   "metadata": {},
   "outputs": [],
   "source": [
    "def aggregate_messages_into_leaves_likelihood(T, root, add_prior):\n",
    "    res = 0\n",
    "    \n",
    "    # agg Z messages\n",
    "    for node in T.nodes():\n",
    "        res += T.nodes[node][\"log_z\"]\n",
    "        \n",
    "    if add_prior:\n",
    "        # add prior\n",
    "        nu_inc = 1 + T.nodes[root][\"nu\"]\n",
    "        res += - 0.5 * np.sum(T.nodes[root][\"mu\"] ** 2) / nu_inc - d * 0.5 * np.log(2 * np.pi * nu_inc)\n",
    "    \n",
    "    return res"
   ]
  },
  {
   "cell_type": "markdown",
   "metadata": {},
   "source": [
    "### 2.a case for leaves marginals (for VI bound)"
   ]
  },
  {
   "cell_type": "markdown",
   "metadata": {},
   "source": [
    "the task here is to compute  $\\log p(𝑥1,𝑥2,𝑥3,𝑥4,x5,x6,x7)$ . This can be done quickly via marginalization of the Gaussian vector"
   ]
  },
  {
   "cell_type": "code",
   "execution_count": 305,
   "metadata": {},
   "outputs": [
    {
     "name": "stdout",
     "output_type": "stream",
     "text": [
      "Gaussian marginalization output O(n^3d^3):  -22.2332755388936\n",
      "scipy: 0.0006308555603027344seconds\n",
      "\n",
      "Message passing output O(nd):  -22.076047802375175\n",
      "message passing: 0.0001518726348876953seconds\n"
     ]
    }
   ],
   "source": [
    "import random\n",
    "\n",
    "ev = [np.array([1.0] * d)] * n_leaves\n",
    "evidence2 = ev + [np.array([0.0]*d) for i in range(n_nodes - n_leaves)]\n",
    "evidence_leaves2 = np.hstack(ev)\n",
    "\n",
    "#####\n",
    "evidence1 = [None] * n_nodes\n",
    "evidence_leaves1 = []\n",
    "for i in range(n_nodes):\n",
    "    if i in leaves:\n",
    "        rand = np.random.rand()\n",
    "        evidence1[i] =  np.array([rand] * d)\n",
    "        evidence_leaves1.append([rand] * d)\n",
    "    else:\n",
    "        evidence1[i] =  np.array([0.0] * d)\n",
    "        \n",
    "#evidence_leaves1 = np.hstack([np.array([1.0] * d)] * n_leaves)\n",
    "#evidence_leaves1 = np.array(evidence_leaves1).flatten()\n",
    "\n",
    "# Test\n",
    "evidence1 = np.array([[0., 0.],\n",
    "                    [0.39631839, 0.39631839],\n",
    "                    [0., 0.],\n",
    "                    [0.88514786, 0.88514786],\n",
    "                    [0., 0.],\n",
    "                    [0.02791887, 0.02791887],\n",
    "                    [0., 0.],\n",
    "                    [0.19234958, 0.19234958],\n",
    "                    [0., 0.],\n",
    "                    [0.36469069, 0.36469069],\n",
    "                    [0., 0.],\n",
    "                    [0., 0.],\n",
    "                    [0.05106667, 0.05106667],\n",
    "                    [0.05682752, 0.05682752],\n",
    "                    [0., 0.],\n",
    "                    [0.6672685, 0.6672685]]\n",
    "                   )\n",
    "    \n",
    "evidence_leaves1 = np.array([0.39631839, 0.39631839, 0.88514786, 0.88514786, 0.02791887,\n",
    "       0.02791887, 0.19234958, 0.19234958, 0.36469069, 0.36469069,\n",
    "       0.05106667, 0.05106667, 0.05682752, 0.05682752, 0.6672685 ,\n",
    "       0.6672685 ])\n",
    "####\n",
    "#pdb.set_trace()\n",
    "\n",
    "# marginalization of covariance\n",
    "\n",
    "######\n",
    "to_delete_idx = [i for i in T_add.nodes() if i not in leaves][:-1]\n",
    "to_delete = []\n",
    "for k in to_delete_idx:\n",
    "    to_delete += [k * d , k * d + 1]\n",
    "x = np.delete(full_covariance, to_delete, 0)\n",
    "leaves_covariance = np.delete(x, to_delete, 1)\n",
    "#######\n",
    "\n",
    "#import pdb\n",
    "#pdb.set_trace()\n",
    "\n",
    "#######\n",
    "#leaves_covariance = full_covariance[:n_leaves * d, :n_leaves * d]\n",
    "\n",
    "leaves_mean = np.array([0.0] * n_leaves * d)\n",
    "\n",
    "# message passing: call from the root\n",
    "#root = n_nodes - 1\n",
    "root = 0\n",
    "prior_node = n_nodes\n",
    "tree = T_add\n",
    "collect_prior_node = False\n",
    "\n",
    "initialize_visit(tree, prior_node)\n",
    "initialize_messages(tree,\n",
    "                    d,\n",
    "                    evidence1,\n",
    "                    prior_node)\n",
    "\n",
    "#pdb.set_trace()\n",
    "\n",
    "perform_message_passing(tree, root, prior_node, collect_prior_node)\n",
    "\n",
    "import time\n",
    "\n",
    "t = time.time()\n",
    "print(\"Gaussian marginalization output O(n^3d^3): \",\n",
    "      multivariate_normal.logpdf(evidence_leaves1, #\n",
    "                                 leaves_mean,\n",
    "                                  leaves_covariance))\n",
    "print(\"scipy: \" + str(time.time() - t) + \"seconds\")\n",
    "\n",
    "print(\"\")\n",
    "\n",
    "t = time.time()\n",
    "print(\"Message passing output O(nd): \", \n",
    "      aggregate_messages_into_leaves_likelihood(tree, root, add_prior=True)) \n",
    "print(\"message passing: \" + str(time.time() - t) + \"seconds\")"
   ]
  },
  {
   "cell_type": "code",
   "execution_count": 246,
   "metadata": {},
   "outputs": [
    {
     "data": {
      "image/png": "[encoded data removed]",
      "text/plain": [
       "<Figure size 432x288 with 1 Axes>"
      ]
     },
     "metadata": {},
     "output_type": "display_data"
    }
   ],
   "source": [
    "nx.draw(T, with_labels=True)"
   ]
  },
  {
   "cell_type": "markdown",
   "metadata": {},
   "source": [
    "### 2.b case for posterior predictive density"
   ]
  },
  {
   "cell_type": "code",
   "execution_count": 134,
   "metadata": {},
   "outputs": [
    {
     "data": {
      "image/png": "[encoded data removed]",
      "text/plain": [
       "<Figure size 432x288 with 1 Axes>"
      ]
     },
     "metadata": {},
     "output_type": "display_data"
    }
   ],
   "source": [
    "nx.draw(T_add, with_labels=True)"
   ]
  },
  {
   "cell_type": "markdown",
   "metadata": {},
   "source": [
    "First, let us try to compute the probability of a leave $n$ given observation at all the others, for example\n",
    "$$x_9 \\mid x_1, ..., x_8$$\n",
    "For this, we need simply need to maginalize $x_9, y_1, y_2, z_1 \\mid x_1, ..., x_8$, itself given by the Gaussian condioning formula"
   ]
  },
  {
   "cell_type": "code",
   "execution_count": 135,
   "metadata": {},
   "outputs": [],
   "source": [
    "# code to marginalize covariance\n",
    "import pdb\n",
    "\n",
    "def marginalize_covariance(covariance, delete_list, d):\n",
    "    to_delete = []\n",
    "    for i in range(len(delete_list)):\n",
    "        to_delete.append([])\n",
    "    for i, to_delete_idx in enumerate(delete_list):\n",
    "        for k in to_delete_idx:\n",
    "            to_delete[i].append(k * d) \n",
    "            to_delete[i].append(k * d + 1)\n",
    "    if len(delete_list) == 1:\n",
    "        x = np.delete(covariance, to_delete, 0)\n",
    "        marg_covariance = np.delete(x, to_delete, 1)\n",
    "    else:\n",
    "        x = np.delete(covariance, to_delete[0], 0)\n",
    "        marg_covariance = np.delete(x, to_delete[1], 1)\n",
    "    return marg_covariance"
   ]
  },
  {
   "cell_type": "code",
   "execution_count": 287,
   "metadata": {},
   "outputs": [
    {
     "data": {
      "text/plain": [
       "[0, 2, 4, 6, 8, 10, 11, 14, 16]"
      ]
     },
     "execution_count": 287,
     "metadata": {},
     "output_type": "execute_result"
    }
   ],
   "source": [
    "[i for i in T_add.nodes() if (i not in leaves)][:-1]"
   ]
  },
  {
   "cell_type": "code",
   "execution_count": 283,
   "metadata": {},
   "outputs": [
    {
     "name": "stdout",
     "output_type": "stream",
     "text": [
      "Gaussian conditioning formula O(n^3d^3):  [365.60798234 365.60798234] 2.590707964601769\n",
      "took0.0005512237548828125seconds\n",
      "\n",
      "Message passing output O(nd):  [365.60798234 365.60798234] 2.59070796460177\n",
      "took0.0002541542053222656seconds\n",
      "None\n"
     ]
    }
   ],
   "source": [
    "query_node = 15\n",
    "\n",
    "evidence = [None] * n_nodes\n",
    "evidence_leaves = []\n",
    "for i in range(n_nodes):\n",
    "    if (i in leaves) and (i != query_node):\n",
    "        rand = np.random.rand() * 1000\n",
    "        evidence[i] =  np.array([rand] * d)\n",
    "        evidence_leaves.append([rand] * d)\n",
    "    else:\n",
    "        evidence[i] =  np.array([0.0] * d)\n",
    "        \n",
    "#evidence_leaves = [np.array([1.0] * d)] * (n_leaves - 1)\n",
    "evidence_leaves = np.array(evidence_leaves).flatten()\n",
    "\n",
    "# Gaussian conditioning formula\n",
    "to_delete_idx_ii = [i for i in T_add.nodes() if (i not in leaves)][:-1] + [query_node]\n",
    "to_delete_idx_ll = [i for i in T_add.nodes() if (i in leaves) and (i != query_node)]\n",
    "\n",
    "# partition index\n",
    "I = [idx for idx in list(range(n_nodes)) if idx not in to_delete_idx_ii]\n",
    "L = [idx for idx in list(range(n_nodes)) if idx not in to_delete_idx_ll]\n",
    "\n",
    "# covariance of the observed leaves\n",
    "cov_ii = marginalize_covariance(full_covariance, [to_delete_idx_ii], d)\n",
    "cov_ll = marginalize_covariance(full_covariance, [to_delete_idx_ll], d)\n",
    "cov_il = marginalize_covariance(full_covariance, [to_delete_idx_ii, to_delete_idx_ll], d)\n",
    "cov_li = np.copy(cov_il.T)\n",
    "\n",
    "internal_post_mean_transform = np.dot(cov_li, np.linalg.inv(cov_ii))\n",
    "internal_post_covar = cov_ll - np.dot(np.dot(cov_li, np.linalg.inv(cov_ii)), cov_il)\n",
    "\n",
    "# message passing: call from the leaf and collect the prior information\n",
    "\n",
    "prior_node = n_nodes\n",
    "tree = T_add\n",
    "collect_prior_node = True\n",
    "query_idx = L.index(query_node)\n",
    "\n",
    "# perform message passing\n",
    "initialize_visit(tree, prior_node)\n",
    "initialize_messages(tree, d, evidence, prior_node)\n",
    "perform_message_passing(tree, query_node, prior_node, collect_prior_node)\n",
    "\n",
    "import time \n",
    "t = time.time()\n",
    "\n",
    "print(\"Gaussian conditioning formula O(n^3d^3): \",\n",
    "      np.dot(internal_post_mean_transform, np.hstack(evidence_leaves))[query_idx*d : query_idx*d + 2],\n",
    "      internal_post_covar[query_idx*d, query_idx*d])\n",
    "print(\"took\" + str(time.time() - t) + \"seconds\")\n",
    "\n",
    "print(\"\")\n",
    "\n",
    "t = time.time()\n",
    "print(\"Message passing output O(nd): \", \n",
    "      tree.nodes[query_node][\"mu\"], tree.nodes[query_node][\"nu\"])\n",
    "print(print(\"took\" + str(time.time() - t) + \"seconds\"))"
   ]
  },
  {
   "cell_type": "code",
   "execution_count": 284,
   "metadata": {},
   "outputs": [
    {
     "data": {
      "text/plain": [
       "[0, 2, 4, 6, 8, 10, 11, 14, 15]"
      ]
     },
     "execution_count": 284,
     "metadata": {},
     "output_type": "execute_result"
    }
   ],
   "source": [
    "L"
   ]
  },
  {
   "cell_type": "code",
   "execution_count": 285,
   "metadata": {},
   "outputs": [
    {
     "data": {
      "text/plain": [
       "[1, 3, 5, 7, 9, 12, 13]"
      ]
     },
     "execution_count": 285,
     "metadata": {},
     "output_type": "execute_result"
    }
   ],
   "source": [
    "I"
   ]
  },
  {
   "cell_type": "markdown",
   "metadata": {},
   "source": [
    "### Internal nodes"
   ]
  },
  {
   "cell_type": "code",
   "execution_count": 306,
   "metadata": {},
   "outputs": [
    {
     "data": {
      "image/png": "[encoded data removed]",
      "text/plain": [
       "<Figure size 432x288 with 1 Axes>"
      ]
     },
     "metadata": {},
     "output_type": "display_data"
    }
   ],
   "source": [
    "nx.draw(T_add, with_labels=True)"
   ]
  },
  {
   "cell_type": "markdown",
   "metadata": {},
   "source": [
    "Second, let us try to compute the probability of an internal node $n$ given observation at all the leaves, for example\n",
    "$$y_1 \\mid x_1, ..., x_9$$\n",
    "For this, we need simply need to marginalize $y_1, y_2, z_1 \\mid x_1, ..., x_9$, itself given by the Gaussian conditioning formula"
   ]
  },
  {
   "cell_type": "code",
   "execution_count": 291,
   "metadata": {},
   "outputs": [
    {
     "name": "stdout",
     "output_type": "stream",
     "text": [
      "Gaussian conditioning formula O(n^3d^3):  [ 47.47082169 363.02709641] 0.26473099914602916\n",
      "took0.0003769397735595703seconds\n",
      "Message passing output O(nd):  [ 47.47082169 363.02709641] 0.26473099914602904\n",
      "took0.0001690387725830078seconds\n",
      "None\n",
      "\n",
      "Gaussian conditioning formula O(n^3d^3):  [ 37.17975888 196.20232657] 0.5661827497865071\n",
      "took0.00033593177795410156seconds\n",
      "Message passing output O(nd):  [ 37.17975888 196.20232657] 0.5661827497865073\n",
      "took0.00015616416931152344seconds\n",
      "None\n",
      "\n",
      "Gaussian conditioning formula O(n^3d^3):  [ 67.98508286 462.13131074] 0.44235695986336476\n",
      "took0.0003418922424316406seconds\n",
      "Message passing output O(nd):  [ 67.98508286 462.13131074] 0.44235695986336465\n",
      "took0.0001399517059326172seconds\n",
      "None\n",
      "\n",
      "Gaussian conditioning formula O(n^3d^3):  [ 63.54020785 376.77465356] 0.6105892399658406\n",
      "took0.0003800392150878906seconds\n",
      "Message passing output O(nd):  [ 63.54020785 376.77465356] 0.6105892399658411\n",
      "took0.0001537799835205078seconds\n",
      "None\n",
      "\n",
      "Gaussian conditioning formula O(n^3d^3):  [ 43.91187434 332.98600683] 0.35012809564474745\n",
      "took0.0005390644073486328seconds\n",
      "Message passing output O(nd):  [ 43.91187434 332.98600683] 0.3501280956447481\n",
      "took0.0004868507385253906seconds\n",
      "None\n",
      "\n",
      "Gaussian conditioning formula O(n^3d^3):  [ 39.30192129 596.81534242] 0.5875320239111868\n",
      "took0.00023698806762695312seconds\n",
      "Message passing output O(nd):  [ 39.30192129 596.81534242] 0.587532023911187\n",
      "took0.00013685226440429688seconds\n",
      "None\n",
      "\n",
      "Gaussian conditioning formula O(n^3d^3):  [ 45.66696811 293.60746708] 0.4560204953031599\n",
      "took0.0002682209014892578seconds\n",
      "Message passing output O(nd):  [ 45.66696811 293.60746708] 0.4560204953031597\n",
      "took0.0001380443572998047seconds\n",
      "None\n",
      "\n",
      "Gaussian conditioning formula O(n^3d^3):  [ 31.45796354 345.95333629] 0.6140051238257893\n",
      "took0.0002799034118652344seconds\n",
      "Message passing output O(nd):  [ 31.45796354 345.95333629] 0.61400512382579\n",
      "took0.0001373291015625seconds\n",
      "None\n",
      "\n"
     ]
    }
   ],
   "source": [
    "for query_node in [0, 2, 4, 6, 8, 10, 11, 14]:\n",
    "    evidence = [None] * n_nodes\n",
    "    evidence_leaves = []\n",
    "    for i in range(n_nodes):\n",
    "        if (i in leaves):\n",
    "            rand_1, rand_2 = np.random.rand() *100, np.random.rand()*1000\n",
    "            evidence[i] =  np.array([rand_1, rand_2])\n",
    "            evidence_leaves.append([rand_1, rand_2])\n",
    "        else:\n",
    "            evidence[i] =  np.array([0.0] * d)\n",
    "\n",
    "    #evidence_leaves = [np.array([1.0] * d)] * (n_leaves)\n",
    "    evidence_leaves = np.array(evidence_leaves).flatten()\n",
    "\n",
    "    # TEST\n",
    "    evidence = np.array([ [0., 0.],\n",
    "              [88.27739235, 823.81583794],\n",
    "              [0., 0.],\n",
    "              [26.88869607, 29.37755672],\n",
    "              [0., 0.],\n",
    "              [92.94421904, 646.59218223],\n",
    "              [0., 0.],\n",
    "              [59.09533284, 291.41799639],\n",
    "              [0., 0.],\n",
    "              [43.20778628, 78.49412141],\n",
    "              [0., 0.],\n",
    "              [0., 0.],\n",
    "              [ 34.69196824, 860.644678  ],\n",
    "              [ 61.63106644, 201.88305813],\n",
    "              [0., 0.],\n",
    "              [ 17.24895897, 398.2992055 ]])\n",
    "\n",
    "    evidence_leaves = np.array([88.27739235, 823.81583794, 26.88869607, 29.37755672,\n",
    "                       92.94421904, 646.59218223, 59.09533284, 291.41799639,\n",
    "                       43.20778628, 78.49412141, 34.69196824, 860.644678,\n",
    "                       61.63106644, 201.88305813, 17.24895897, 398.2992055])\n",
    "\n",
    "    # Gaussian conditioning formula\n",
    "    to_delete_idx_ii = [i for i in T_add.nodes() if (i not in leaves)][:-1]\n",
    "    to_delete_idx_ll = [i for i in T_add.nodes() if (i in leaves)]\n",
    "\n",
    "    # partition index\n",
    "    I = [idx for idx in list(range(n_nodes)) if idx not in to_delete_idx_ii]\n",
    "    L = [idx for idx in list(range(n_nodes)) if idx not in to_delete_idx_ll]\n",
    "\n",
    "    # covariance of the observed leaves\n",
    "    cov_ii = marginalize_covariance(full_covariance, [to_delete_idx_ii], d)\n",
    "    cov_ll = marginalize_covariance(full_covariance, [to_delete_idx_ll], d)\n",
    "    cov_il = marginalize_covariance(full_covariance, [to_delete_idx_ii, to_delete_idx_ll], d)\n",
    "    cov_li = np.copy(cov_il.T)\n",
    "\n",
    "    internal_post_mean_transform = np.dot(cov_li, np.linalg.inv(cov_ii))\n",
    "    internal_post_covar = cov_ll - np.dot(np.dot(cov_li, np.linalg.inv(cov_ii)), cov_il)\n",
    "\n",
    "    # message passing: call from the leaf and collect the prior information\n",
    "    prior_node = n_nodes\n",
    "    tree = T_add\n",
    "    collect_prior_node = True\n",
    "    query_idx = L.index(query_node)\n",
    "\n",
    "    # perform message passing\n",
    "    initialize_visit(tree, prior_node)\n",
    "    initialize_messages(tree, d, evidence, prior_node)\n",
    "    perform_message_passing(tree, query_node, prior_node, collect_prior_node)\n",
    "\n",
    "    import time \n",
    "    t = time.time()\n",
    "\n",
    "    print(\"Gaussian conditioning formula O(n^3d^3): \",\n",
    "          np.dot(internal_post_mean_transform, np.hstack(evidence_leaves))[query_idx*d : query_idx*d + 2],\n",
    "          internal_post_covar[query_idx*d, query_idx*d])\n",
    "    print(\"took\" + str(time.time() - t) + \"seconds\")\n",
    "\n",
    "    t = time.time()\n",
    "    print(\"Message passing output O(nd): \", \n",
    "          tree.nodes[query_node][\"mu\"], tree.nodes[query_node][\"nu\"])\n",
    "    print(print(\"took\" + str(time.time() - t) + \"seconds\"))\n",
    "    \n",
    "    print(\"\")\n"
   ]
  },
  {
   "cell_type": "code",
   "execution_count": 271,
   "metadata": {},
   "outputs": [
    {
     "data": {
      "text/plain": [
       "[0, 2, 4, 6, 8, 10, 11, 14]"
      ]
     },
     "execution_count": 271,
     "metadata": {},
     "output_type": "execute_result"
    }
   ],
   "source": [
    "to_delete_idx_ii"
   ]
  },
  {
   "cell_type": "code",
   "execution_count": 275,
   "metadata": {},
   "outputs": [
    {
     "data": {
      "text/plain": [
       "[1, 3, 5, 7, 9, 12, 13, 15]"
      ]
     },
     "execution_count": 275,
     "metadata": {},
     "output_type": "execute_result"
    }
   ],
   "source": [
    "to_delete_idx_ll"
   ]
  },
  {
   "cell_type": "code",
   "execution_count": 282,
   "metadata": {},
   "outputs": [
    {
     "name": "stdout",
     "output_type": "stream",
     "text": [
      "True\n",
      "True\n",
      "True\n",
      "True\n",
      "True\n",
      "True\n",
      "True\n",
      "True\n",
      "True\n",
      "True\n",
      "True\n",
      "True\n",
      "True\n",
      "True\n",
      "True\n",
      "True\n",
      "True\n",
      "True\n",
      "True\n",
      "True\n",
      "True\n",
      "True\n",
      "True\n",
      "True\n",
      "True\n",
      "True\n",
      "True\n",
      "True\n",
      "True\n",
      "True\n",
      "True\n",
      "True\n",
      "True\n",
      "True\n",
      "True\n",
      "True\n",
      "True\n",
      "True\n",
      "True\n",
      "True\n",
      "True\n",
      "True\n",
      "True\n",
      "True\n",
      "True\n",
      "True\n",
      "True\n",
      "True\n",
      "True\n",
      "True\n",
      "True\n",
      "True\n",
      "True\n",
      "True\n",
      "True\n",
      "True\n",
      "True\n",
      "True\n",
      "True\n",
      "True\n",
      "True\n",
      "True\n",
      "True\n",
      "True\n",
      "True\n",
      "True\n",
      "True\n",
      "True\n",
      "True\n",
      "True\n",
      "True\n",
      "True\n",
      "True\n",
      "True\n",
      "True\n",
      "True\n",
      "True\n",
      "True\n",
      "True\n",
      "True\n",
      "True\n",
      "True\n",
      "True\n",
      "True\n",
      "True\n",
      "True\n",
      "True\n",
      "True\n",
      "True\n",
      "True\n",
      "True\n",
      "True\n",
      "True\n",
      "True\n",
      "True\n",
      "True\n",
      "True\n",
      "True\n",
      "True\n",
      "True\n",
      "True\n",
      "True\n",
      "True\n",
      "True\n",
      "True\n",
      "True\n",
      "True\n",
      "True\n",
      "True\n",
      "True\n",
      "True\n",
      "True\n",
      "True\n",
      "True\n",
      "True\n",
      "True\n",
      "True\n",
      "True\n",
      "True\n",
      "True\n",
      "True\n",
      "True\n",
      "True\n",
      "True\n",
      "True\n",
      "True\n",
      "True\n",
      "True\n",
      "True\n",
      "True\n",
      "True\n",
      "True\n",
      "True\n",
      "True\n",
      "True\n",
      "True\n",
      "True\n",
      "True\n",
      "True\n",
      "True\n",
      "True\n",
      "True\n",
      "True\n",
      "True\n",
      "True\n",
      "True\n",
      "True\n",
      "True\n",
      "True\n",
      "True\n",
      "True\n",
      "True\n",
      "True\n",
      "True\n",
      "True\n",
      "True\n",
      "True\n",
      "True\n",
      "True\n",
      "True\n",
      "True\n",
      "True\n",
      "True\n",
      "True\n",
      "True\n",
      "True\n",
      "True\n",
      "True\n",
      "True\n",
      "True\n",
      "True\n",
      "True\n",
      "True\n",
      "True\n",
      "True\n",
      "True\n",
      "True\n",
      "True\n",
      "True\n",
      "True\n",
      "True\n",
      "True\n",
      "True\n",
      "True\n",
      "True\n",
      "True\n",
      "True\n",
      "True\n",
      "True\n",
      "True\n",
      "True\n",
      "True\n",
      "True\n",
      "True\n",
      "True\n",
      "True\n",
      "True\n",
      "True\n",
      "True\n",
      "True\n",
      "True\n",
      "True\n",
      "True\n",
      "True\n",
      "True\n",
      "True\n",
      "True\n",
      "True\n",
      "True\n",
      "True\n",
      "True\n",
      "True\n",
      "True\n",
      "True\n",
      "True\n",
      "True\n",
      "True\n",
      "True\n",
      "True\n",
      "True\n",
      "True\n",
      "True\n",
      "True\n",
      "True\n",
      "True\n",
      "True\n",
      "True\n",
      "True\n",
      "True\n",
      "True\n",
      "True\n",
      "True\n",
      "True\n",
      "True\n",
      "True\n",
      "True\n",
      "True\n",
      "True\n",
      "True\n",
      "True\n",
      "True\n",
      "True\n",
      "True\n",
      "True\n",
      "True\n",
      "True\n",
      "True\n",
      "True\n",
      "True\n",
      "True\n",
      "True\n",
      "True\n",
      "True\n",
      "True\n",
      "True\n",
      "True\n"
     ]
    }
   ],
   "source": [
    "for i, j in zip(cov_ii.flatten(), leaves_covariance.flatten()):\n",
    "    print(i == j)"
   ]
  },
  {
   "cell_type": "code",
   "execution_count": 281,
   "metadata": {},
   "outputs": [
    {
     "data": {
      "text/plain": [
       "True"
      ]
     },
     "execution_count": 281,
     "metadata": {},
     "output_type": "execute_result"
    }
   ],
   "source": [
    "np.all(cov_ii == leaves_covariance)"
   ]
  },
  {
   "cell_type": "code",
   "execution_count": 272,
   "metadata": {},
   "outputs": [
    {
     "data": {
      "image/png": "[encoded data removed]",
      "text/plain": [
       "<Figure size 432x288 with 1 Axes>"
      ]
     },
     "metadata": {},
     "output_type": "display_data"
    }
   ],
   "source": [
    "nx.draw(T, with_labels=True)"
   ]
  },
  {
   "cell_type": "code",
   "execution_count": 203,
   "metadata": {},
   "outputs": [
    {
     "data": {
      "text/plain": [
       "[0, 2, 4, 6, 8, 10, 11, 14]"
      ]
     },
     "execution_count": 203,
     "metadata": {},
     "output_type": "execute_result"
    }
   ],
   "source": [
    "to_delete_idx_ii"
   ]
  },
  {
   "cell_type": "code",
   "execution_count": 205,
   "metadata": {},
   "outputs": [
    {
     "data": {
      "text/plain": [
       "[1, 3, 5, 7, 9, 12, 13, 15]"
      ]
     },
     "execution_count": 205,
     "metadata": {},
     "output_type": "execute_result"
    }
   ],
   "source": [
    "to_delete_idx_ll"
   ]
  },
  {
   "cell_type": "code",
   "execution_count": 172,
   "metadata": {},
   "outputs": [],
   "source": [
    "import ete3\n",
    "\n",
    "def networkx_to_ete3(graph, root):\n",
    "    subtrees = {node[0]: ete3.Tree(name=node[0]) for node in graph.nodes(data=True)}\n",
    "    [*map(lambda edge: subtrees[edge[0]].add_child(subtrees[edge[1]]), graph.edges())]\n",
    "    tree = subtrees[root]\n",
    "    return tree"
   ]
  },
  {
   "cell_type": "code",
   "execution_count": 173,
   "metadata": {},
   "outputs": [
    {
     "data": {
      "text/plain": [
       "Tree node '0' (0x125b40c5)"
      ]
     },
     "execution_count": 173,
     "metadata": {},
     "output_type": "execute_result"
    }
   ],
   "source": [
    "root = 0  #[n for n, d in T_add.in_degree() if d==0] [0]\n",
    "t = networkx_to_ete3(T, root)\n",
    "t"
   ]
  },
  {
   "cell_type": "code",
   "execution_count": 174,
   "metadata": {},
   "outputs": [
    {
     "name": "stdout",
     "output_type": "stream",
     "text": [
      "\n",
      "   /-1\n",
      "  |\n",
      "  |-- /-3\n",
      "  |\n",
      "  |   /-5\n",
      "--|--|\n",
      "  |   \\- /-7\n",
      "  |\n",
      "  |   /-9\n",
      "  |  |\n",
      "   \\-|-- /-12\n",
      "     |\n",
      "     |   /-13\n",
      "      \\-|\n",
      "         \\- /-15\n"
     ]
    }
   ],
   "source": [
    "print(t)"
   ]
  },
  {
   "cell_type": "code",
   "execution_count": null,
   "metadata": {},
   "outputs": [],
   "source": []
  }
 ],
 "metadata": {
  "kernelspec": {
   "display_name": "Python 3",
   "language": "python",
   "name": "python3"
  },
  "language_info": {
   "codemirror_mode": {
    "name": "ipython",
    "version": 3
   },
   "file_extension": ".py",
   "mimetype": "text/x-python",
   "name": "python",
   "nbconvert_exporter": "python",
   "pygments_lexer": "ipython3",
   "version": "3.7.7"
  }
 },
 "nbformat": 4,
 "nbformat_minor": 2
}
