{
 "cells": [
  {
   "cell_type": "code",
   "execution_count": 1,
   "metadata": {},
   "outputs": [],
   "source": [
    "import numpy as np\n",
    "import networkx as nx\n",
    "import matplotlib\n",
    "from scipy.stats import multivariate_normal\n",
    "%matplotlib inline"
   ]
  },
  {
   "cell_type": "markdown",
   "metadata": {},
   "source": [
    "## Let us try out networkx on an example tree"
   ]
  },
  {
   "cell_type": "markdown",
   "metadata": {},
   "source": [
    "We will use this tree for all the incoming computations. Especially, the tree is defined by the following variables\n",
    "\\begin{align}\n",
    "(x_1, x_2, x_3, x_4, y_1, y_2, z_1) = (v_0, v_1, v_2, v_3, v_4, v_5, v_6)\n",
    "\\end{align}\n",
    "$x$ designates the leaves (observed or last layer of hidden variables). These variables will be connected later to an observation model. $y$ and $z$ denotes the first order and second order of internal nodes. $v_6 = z_1$ is the root node (associated to the prior of the Gaussian random walk)."
   ]
  },
  {
   "cell_type": "code",
   "execution_count": 2,
   "metadata": {},
   "outputs": [],
   "source": [
    "# let us encode the adjacency matrix \n",
    "# A_{ij} = 0 if no edge between i and j\n",
    "# A_{ij} > 0 means there is an edge and denotes the duration from the parent to the child\n",
    "# A_{ij} < 0 is not allowed\n",
    "A = np.array([[0, 0, 0, 0, 1, 0, 0], \n",
    "              [0, 0, 0, 0, 1, 0, 0],\n",
    "              [0, 0, 0, 0, 0, 1, 0],\n",
    "              [0, 0, 0, 0, 0, 1, 0],\n",
    "              [1, 1, 0, 0, 0, 0, 1],\n",
    "              [0, 0, 1, 1, 0, 0, 1],\n",
    "              [0, 0, 0, 0, 1, 1, 0]])\n",
    "\n",
    "T = nx.from_numpy_array(A)"
   ]
  },
  {
   "cell_type": "code",
   "execution_count": 3,
   "metadata": {},
   "outputs": [
    {
     "data": {
      "image/png": "[encoded data removed]",
      "text/plain": [
       "<Figure size 432x288 with 1 Axes>"
      ]
     },
     "metadata": {},
     "output_type": "display_data"
    }
   ],
   "source": [
    "nx.draw(T, with_labels=True)"
   ]
  },
  {
   "cell_type": "markdown",
   "metadata": {},
   "source": [
    "In order to collect the prior information while computing the posterior predictive density, we need to add a virtual node with the prior information as follow"
   ]
  },
  {
   "cell_type": "code",
   "execution_count": 4,
   "metadata": {},
   "outputs": [
    {
     "data": {
      "image/png": "[encoded data removed]",
      "text/plain": [
       "<Figure size 432x288 with 1 Axes>"
      ]
     },
     "metadata": {},
     "output_type": "display_data"
    }
   ],
   "source": [
    "# add a fake node to simulate the prior\n",
    "T_add = nx.Graph(T)\n",
    "T_add.add_node(7)\n",
    "T_add.add_edge(6, 7, weight=1)\n",
    "nx.draw(T_add, with_labels=True)"
   ]
  },
  {
   "cell_type": "markdown",
   "metadata": {},
   "source": [
    "## 1. Exact computations via matrix inversion"
   ]
  },
  {
   "cell_type": "markdown",
   "metadata": {},
   "source": [
    "For this, we need to compute the mean and covariance of the marginals. The mean will always be zero. We are therefore left with computing the covariances. For this, let us start by forming the precision matrix of the whole distribution\n",
    "\n",
    "\\begin{align}\n",
    "\\log p(x1, y1, x2, z1, x3, y2, x4) = \\sum_{nodes} \\log p(node \\mid parent) \\\\\n",
    " = \\sum_{nodes} - \\frac{|| x - \\pi(x)||^2}{2 \\delta_{x, \\pi(x)}^2} \\\\\n",
    "  = \\sum_{nodes} -\\frac{1}{2} \\left[ \\frac{x^2}{\\delta_{x, \\pi(x)}^2} + \\frac{\\pi(x)^2}{\\delta_{x, \\pi(x)}^2} - 2\\frac{x\\pi(x)}{\\delta_{x, \\pi(x)}^2} \\right] \\\\\n",
    "  = \\sum_{ij} -\\frac{1}{2} \\Sigma^{-1}_{ij} x_i x_j\n",
    "\\end{align}\n",
    "\n",
    "From this we can identify the coefficients in linear time"
   ]
  },
  {
   "cell_type": "markdown",
   "metadata": {},
   "source": [
    "(z1) = (x7)\n",
    "\n",
    "(y1, y2) = (x5, x6)\n",
    "\n",
    "(x1, x2, x3, x4)"
   ]
  },
  {
   "cell_type": "code",
   "execution_count": 5,
   "metadata": {},
   "outputs": [],
   "source": [
    "parents = {1:5, 2:5, 3:6, 4:6, 5:7, 6:7}"
   ]
  },
  {
   "cell_type": "code",
   "execution_count": 6,
   "metadata": {},
   "outputs": [],
   "source": [
    "d = 2\n",
    "inverse_covariance = np.zeros((7 * d, 7 * d))\n",
    "for i in range(6):\n",
    "    pi_ind = parents[i + 1] - 1\n",
    "    inverse_covariance[i * d: (i + 1) * d, i * d: (i + 1) * d] += np.identity(d)\n",
    "    inverse_covariance[pi_ind * d: (pi_ind + 1) * d, pi_ind * d: (pi_ind + 1) * d] += np.identity(d)\n",
    "    inverse_covariance[pi_ind * d: (pi_ind + 1) * d, i * d: (i + 1) * d] += - np.identity(d)\n",
    "    inverse_covariance[i * d: (i + 1) * d, pi_ind * d: (pi_ind + 1) * d] += - np.identity(d)\n",
    "inverse_covariance[4 * d: (4 + 1) * d, 4 * d: (4 + 1) * d] += np.identity(d)\n",
    "\n",
    "full_covariance = np.linalg.inv(inverse_covariance)"
   ]
  },
  {
   "cell_type": "code",
   "execution_count": 7,
   "metadata": {},
   "outputs": [
    {
     "name": "stdout",
     "output_type": "stream",
     "text": [
      "Inverse covariance\n",
      "[[ 1.  0.  0.  0.  0.  0.  0.  0. -1.  0.  0.  0.  0.  0.]\n",
      " [ 0.  1.  0.  0.  0.  0.  0.  0.  0. -1.  0.  0.  0.  0.]\n",
      " [ 0.  0.  1.  0.  0.  0.  0.  0. -1.  0.  0.  0.  0.  0.]\n",
      " [ 0.  0.  0.  1.  0.  0.  0.  0.  0. -1.  0.  0.  0.  0.]\n",
      " [ 0.  0.  0.  0.  1.  0.  0.  0.  0.  0. -1.  0.  0.  0.]\n",
      " [ 0.  0.  0.  0.  0.  1.  0.  0.  0.  0.  0. -1.  0.  0.]\n",
      " [ 0.  0.  0.  0.  0.  0.  1.  0.  0.  0. -1.  0.  0.  0.]\n",
      " [ 0.  0.  0.  0.  0.  0.  0.  1.  0.  0.  0. -1.  0.  0.]\n",
      " [-1.  0. -1.  0.  0.  0.  0.  0.  4.  0.  0.  0. -1.  0.]\n",
      " [ 0. -1.  0. -1.  0.  0.  0.  0.  0.  4.  0.  0.  0. -1.]\n",
      " [ 0.  0.  0.  0. -1.  0. -1.  0.  0.  0.  3.  0. -1.  0.]\n",
      " [ 0.  0.  0.  0.  0. -1.  0. -1.  0.  0.  0.  3.  0. -1.]\n",
      " [ 0.  0.  0.  0.  0.  0.  0.  0. -1.  0. -1.  0.  2.  0.]\n",
      " [ 0.  0.  0.  0.  0.  0.  0.  0.  0. -1.  0. -1.  0.  2.]]\n",
      "Full covariance\n",
      "[[2. 0. 1. 0. 1. 0. 1. 0. 1. 0. 1. 0. 1. 0.]\n",
      " [0. 2. 0. 1. 0. 1. 0. 1. 0. 1. 0. 1. 0. 1.]\n",
      " [1. 0. 2. 0. 1. 0. 1. 0. 1. 0. 1. 0. 1. 0.]\n",
      " [0. 1. 0. 2. 0. 1. 0. 1. 0. 1. 0. 1. 0. 1.]\n",
      " [1. 0. 1. 0. 4. 0. 3. 0. 1. 0. 3. 0. 2. 0.]\n",
      " [0. 1. 0. 1. 0. 4. 0. 3. 0. 1. 0. 3. 0. 2.]\n",
      " [1. 0. 1. 0. 3. 0. 4. 0. 1. 0. 3. 0. 2. 0.]\n",
      " [0. 1. 0. 1. 0. 3. 0. 4. 0. 1. 0. 3. 0. 2.]\n",
      " [1. 0. 1. 0. 1. 0. 1. 0. 1. 0. 1. 0. 1. 0.]\n",
      " [0. 1. 0. 1. 0. 1. 0. 1. 0. 1. 0. 1. 0. 1.]\n",
      " [1. 0. 1. 0. 3. 0. 3. 0. 1. 0. 3. 0. 2. 0.]\n",
      " [0. 1. 0. 1. 0. 3. 0. 3. 0. 1. 0. 3. 0. 2.]\n",
      " [1. 0. 1. 0. 2. 0. 2. 0. 1. 0. 2. 0. 2. 0.]\n",
      " [0. 1. 0. 1. 0. 2. 0. 2. 0. 1. 0. 2. 0. 2.]]\n"
     ]
    },
    {
     "data": {
      "text/plain": [
       "((14, 14), (14, 14))"
      ]
     },
     "execution_count": 7,
     "metadata": {},
     "output_type": "execute_result"
    }
   ],
   "source": [
    "print(\"Inverse covariance\")\n",
    "print(inverse_covariance)\n",
    "print(\"Full covariance\")\n",
    "print(full_covariance)\n",
    "\n",
    "inverse_covariance.shape, full_covariance.shape"
   ]
  },
  {
   "cell_type": "markdown",
   "metadata": {},
   "source": [
    "## 2. Exact computations via message passing"
   ]
  },
  {
   "cell_type": "markdown",
   "metadata": {},
   "source": [
    "Initialize the network with messages"
   ]
  },
  {
   "cell_type": "code",
   "execution_count": 8,
   "metadata": {},
   "outputs": [],
   "source": [
    "def initialize_messages(G, d, evidence, prior_node):\n",
    "    dic_nu = {}\n",
    "    dic_mu = {}\n",
    "    dic_log_z = {}\n",
    "    for i, x in enumerate(evidence):\n",
    "        dic_nu[i] = 0\n",
    "        dic_log_z[i] = 0\n",
    "        dic_mu[i] = x\n",
    "    dic_nu[prior_node] = 0\n",
    "    dic_mu[prior_node] = np.zeros(d)\n",
    "    dic_log_z[prior_node] = 0\n",
    "    nx.set_node_attributes(G, dic_nu, 'nu')\n",
    "    nx.set_node_attributes(G, dic_mu, 'mu')\n",
    "    nx.set_node_attributes(G, dic_log_z, 'log_z')"
   ]
  },
  {
   "cell_type": "code",
   "execution_count": 9,
   "metadata": {},
   "outputs": [],
   "source": [
    "def initialize_visit(G, prior_node):\n",
    "    dic_visited = {}\n",
    "    for node in G:\n",
    "        dic_visited[node] = False\n",
    "    nx.set_node_attributes(G, dic_visited, 'visited')"
   ]
  },
  {
   "cell_type": "code",
   "execution_count": 10,
   "metadata": {},
   "outputs": [],
   "source": [
    "def perform_message_passing_2(T, root_node, prior_node, include_prior):\n",
    "    # print(root_node)\n",
    "    # flag the node as visited\n",
    "    T.nodes[root_node][\"visited\"] = True\n",
    "            \n",
    "    incoming_messages = []\n",
    "    # get list of neighbors that are not visited yet\n",
    "    for node in T.neighbors(root_node):\n",
    "        if not T.nodes[node][\"visited\"] and (node != prior_node  or (node == prior_node and include_prior) ):\n",
    "            perform_message_passing(T, node, prior_node, include_prior)\n",
    "            incoming_messages.append(node)\n",
    "            \n",
    "    # collect and return \n",
    "    if len(incoming_messages) == 0:\n",
    "        # nothing to do. This happens on the leaves\n",
    "        return None\n",
    "    \n",
    "    elif len(incoming_messages) == 1:\n",
    "        # this happens when passing through the root\n",
    "        k = incoming_messages[0]\n",
    "        T.nodes[root_node][\"nu\"] = T.nodes[k][\"nu\"] + T[root_node][k][\"weight\"]\n",
    "        T.nodes[root_node][\"mu\"] = T.nodes[k][\"mu\"]\n",
    "        T.nodes[root_node][\"log_z\"] = 0\n",
    "            \n",
    "    elif len(incoming_messages) == 2:\n",
    "        # let us give them arbitrary names k and l (could be left and right)\n",
    "        k = incoming_messages[0]\n",
    "        l = incoming_messages[1]\n",
    "        \n",
    "        # let us compute the updates\n",
    "        k_nu_inc = T.nodes[k][\"nu\"] + T[root_node][k][\"weight\"]\n",
    "        l_nu_inc = T.nodes[l][\"nu\"] + T[root_node][l][\"weight\"]\n",
    "        \n",
    "        T.nodes[root_node][\"nu\"] = 1. / ( 1. / k_nu_inc + 1. / l_nu_inc)\n",
    "        T.nodes[root_node][\"mu\"] = T.nodes[k][\"mu\"] / k_nu_inc + T.nodes[l][\"mu\"] / l_nu_inc\n",
    "        T.nodes[root_node][\"mu\"] *= T.nodes[root_node][\"nu\"]\n",
    "        \n",
    "        lambda_ = k_nu_inc + l_nu_inc\n",
    "        T.nodes[root_node][\"log_z\"] = -0.5 * np.sum((T.nodes[k][\"mu\"] - T.nodes[l][\"mu\"]) ** 2) / lambda_\n",
    "        T.nodes[root_node][\"log_z\"] -= d * 0.5 * np.log(2 * np.pi * lambda_)         \n",
    "\n",
    "    elif len(incoming_messages) == 3:\n",
    "        # This happens when performing the posterior predictive variant of the message passing\n",
    "         # let us give them arbitrary names k, l and m \n",
    "        k = incoming_messages[0]\n",
    "        l = incoming_messages[1]       \n",
    "        m = incoming_messages[2]\n",
    "        \n",
    "        # let us compute the updates\n",
    "        k_nu_inc = T.nodes[k][\"nu\"] + T[root_node][k][\"weight\"]\n",
    "        l_nu_inc = T.nodes[l][\"nu\"] + T[root_node][l][\"weight\"]\n",
    "        m_nu_inc = T.nodes[m][\"nu\"] + T[root_node][m][\"weight\"]\n",
    "        \n",
    "        T.nodes[root_node][\"nu\"] = 1. / ( 1. / k_nu_inc + 1. / l_nu_inc + 1. / m_nu_inc)\n",
    "        T.nodes[root_node][\"mu\"] = T.nodes[k][\"mu\"] / k_nu_inc + T.nodes[l][\"mu\"] / l_nu_inc + T.nodes[m][\"mu\"] / m_nu_inc\n",
    "        T.nodes[root_node][\"mu\"] *= T.nodes[root_node][\"nu\"]\n",
    "        \n",
    "        lambda_ = k_nu_inc * l_nu_inc + k_nu_inc * m_nu_inc + l_nu_inc * m_nu_inc\n",
    "        T.nodes[root_node][\"log_z\"] = m_nu_inc * np.sum((T.nodes[k][\"mu\"] - T.nodes[l][\"mu\"]) ** 2)\n",
    "        T.nodes[root_node][\"log_z\"] += l_nu_inc * np.sum((T.nodes[k][\"mu\"] - T.nodes[m][\"mu\"]) ** 2) \n",
    "        T.nodes[root_node][\"log_z\"] += k_nu_inc * np.sum((T.nodes[l][\"mu\"] - T.nodes[m][\"mu\"]) ** 2) \n",
    "        T.nodes[root_node][\"log_z\"] *= -0.5 / lambda_\n",
    "        T.nodes[root_node][\"log_z\"] -= d * 0.5 * np.log(2 * np.pi * lambda_)\n",
    "        \n",
    "    else:\n",
    "        # Here there is a problem, we might have tried to compute something wierd\n",
    "        raise NotImplementedError(\"This should not happen (more than 3). Node\" + str(root_node))"
   ]
  },
  {
   "cell_type": "code",
   "execution_count": 11,
   "metadata": {},
   "outputs": [],
   "source": [
    "def product_without(L, exclude):\n",
    "    \"\"\"\n",
    "    L: list of elements\n",
    "    exclude: list of the elements indices to exlucde\n",
    "    \n",
    "    returns: product of all desired array elements\n",
    "    \"\"\"\n",
    "    prod = 1\n",
    "    for idx, x in enumerate(L):\n",
    "        if idx in exclude:\n",
    "            continue\n",
    "        else:\n",
    "            prod *= x\n",
    "    return prod   \n",
    "\n",
    "def perform_message_passing(T, root_node, prior_node, include_prior):\n",
    "    # print(root_node)\n",
    "    # flag the node as visited\n",
    "    T.nodes[root_node][\"visited\"] = True\n",
    "            \n",
    "    incoming_messages = []\n",
    "    # get list of neighbors that are not visited yet\n",
    "    for node in T.neighbors(root_node):\n",
    "        if not T.nodes[node][\"visited\"] and (node != prior_node  or (node == prior_node and include_prior) ):\n",
    "            perform_message_passing(T, node, prior_node, include_prior)\n",
    "            incoming_messages.append(node)\n",
    "            \n",
    "    # collect and return \n",
    "    if len(incoming_messages) == 0:\n",
    "        # nothing to do. This happens on the leaves\n",
    "        return None\n",
    "    \n",
    "    elif len(incoming_messages) == 1:\n",
    "        # this happens when passing through the root\n",
    "        k = incoming_messages[0]\n",
    "        T.nodes[root_node][\"nu\"] = T.nodes[k][\"nu\"] + T[root_node][k][\"weight\"]\n",
    "        T.nodes[root_node][\"mu\"] = T.nodes[k][\"mu\"]\n",
    "        T.nodes[root_node][\"log_z\"] = 0   \n",
    "        \n",
    "    elif len(incoming_messages) >= 2:\n",
    "        # children node i = incoming_messages[i]\n",
    "        # n: number of children\n",
    "        n = len(incoming_messages)\n",
    "\n",
    "        #we will keep track of mean and variances of the children nodes in 2 lists\n",
    "        children_nu = [0]*n\n",
    "        children_mu = [0]*n\n",
    "\n",
    "        #updates: mean and variance\n",
    "\n",
    "        #lambda: used later for the normalizing constant\n",
    "        for i in range(n):\n",
    "            k = incoming_messages[i]\n",
    "            children_nu[i] = T.nodes[k][\"nu\"] + T[root_node][k][\"weight\"]\n",
    "            T.nodes[root_node][\"nu\"] += 1. / children_nu[i]\n",
    "            children_mu[i] = T.nodes[k][\"mu\"] / children_nu[i]\n",
    "            T.nodes[root_node][\"mu\"] += children_mu[i]\n",
    "\n",
    "\n",
    "        T.nodes[root_node][\"nu\"] = 1. / T.nodes[root_node][\"nu\"]\n",
    "        T.nodes[root_node][\"mu\"] *= T.nodes[root_node][\"nu\"]\n",
    "\n",
    "        #find t\n",
    "        t = 0\n",
    "        for excluded_idx in range(n):\n",
    "            prod = product_without(children_nu, [excluded_idx])\n",
    "            t += prod\n",
    "\n",
    "        #normalizing constant\n",
    "        Z_1 = -0.5 * (n - 1) * d * np.log(2 * np.pi)\n",
    "        Z_2 = -0.5 * d * np.log(t)\n",
    "        Z_3 = 0\n",
    "\n",
    "        #nested for loop\n",
    "        for j in range(n):\n",
    "            for h in range(n):\n",
    "                if h == j:\n",
    "                    continue\n",
    "                else:\n",
    "                    prod_2 = product_without(children_nu, [j, h])\n",
    "            k = incoming_messages[h]\n",
    "            l = incoming_messages[j]\n",
    "            Z_3 += prod_2 * np.sum((T.nodes[k][\"mu\"] - T.nodes[l][\"mu\"]) ** 2)\n",
    "        Z_3 *= -0.5 / t\n",
    "\n",
    "        T.nodes[root_node][\"log_z\"] = Z_1 + Z_2 + Z_3"
   ]
  },
  {
   "cell_type": "code",
   "execution_count": 12,
   "metadata": {},
   "outputs": [],
   "source": [
    "def aggregate_messages_into_leaves_likelihood(T, root, add_prior):\n",
    "    res = 0\n",
    "    \n",
    "    # agg Z messages\n",
    "    for node in T.nodes():\n",
    "        res += T.nodes[node][\"log_z\"]\n",
    "        \n",
    "    if add_prior:\n",
    "        # add prior\n",
    "        nu_inc = 1 + T.nodes[root][\"nu\"]\n",
    "        res += - 0.5 * np.sum(T.nodes[root][\"mu\"] ** 2) / nu_inc - d * 0.5 * np.log(2 * np.pi * nu_inc)\n",
    "    \n",
    "    return res"
   ]
  },
  {
   "cell_type": "markdown",
   "metadata": {},
   "source": [
    "### 2.a case for leaves marginals (for VI bound)"
   ]
  },
  {
   "cell_type": "markdown",
   "metadata": {},
   "source": [
    "the task here is to compute $\\log p(x_1, x_2, x_3, x_4)$. This can be done quickly via marginalization of the Gaussian vector"
   ]
  },
  {
   "cell_type": "code",
   "execution_count": 16,
   "metadata": {},
   "outputs": [
    {
     "name": "stdout",
     "output_type": "stream",
     "text": [
      "Gaussian marginalization output O(n^3d^3):  -10.890603962634772\n",
      "Message passing output O(nd):  -10.967459274789377\n"
     ]
    }
   ],
   "source": [
    "evidence = [np.array([1.0] * d), np.array([1.0] * d), np.array([1.0] * d), np.array([1.0] * d)]\n",
    "\n",
    "# marginalization of covariance\n",
    "leaves_covariance = full_covariance[:4 * d, :4 * d]\n",
    "leaves_mean = np.array([0] * 4 * d)\n",
    "\n",
    "# message passing: call from the root\n",
    "root = 6\n",
    "prior_node = 7\n",
    "tree = T_add\n",
    "collect_prior_node = False\n",
    "\n",
    "initialize_visit(tree, prior_node)\n",
    "initialize_messages(tree, d, evidence + [0] * 1 * d, prior_node)\n",
    "perform_message_passing_2(tree, root, prior_node, collect_prior_node)\n",
    "\n",
    "print(\"Gaussian marginalization output O(n^3d^3): \",\n",
    "      multivariate_normal.logpdf(np.hstack(evidence), leaves_mean, leaves_covariance))\n",
    "\n",
    "print(\"Message passing output O(nd): \", \n",
    "      aggregate_messages_into_leaves_likelihood(tree, root, add_prior=True)) "
   ]
  },
  {
   "cell_type": "markdown",
   "metadata": {},
   "source": [
    "### 2.b case for posterior predictive density"
   ]
  },
  {
   "cell_type": "markdown",
   "metadata": {},
   "source": [
    "First, let us try to compute the probability of a leave $n$ given observation at all the others, for example\n",
    "$$x_4 \\mid x_1, x_2, x_3$$\n",
    "For this, we need simply need to maginalize $x_4, y_1, y_2, z_1 \\mid x_1, x_2, x_3$, itself given by the Gaussian condioning formula"
   ]
  },
  {
   "cell_type": "code",
   "execution_count": 38,
   "metadata": {},
   "outputs": [
    {
     "data": {
      "image/png": "[encoded data removed]",
      "text/plain": [
       "<Figure size 432x288 with 1 Axes>"
      ]
     },
     "metadata": {},
     "output_type": "display_data"
    }
   ],
   "source": [
    "nx.draw(T, with_labels=True)"
   ]
  },
  {
   "cell_type": "code",
   "execution_count": 53,
   "metadata": {},
   "outputs": [
    {
     "data": {
      "text/plain": [
       "((8, 8), (14, 14), (6, 6))"
      ]
     },
     "execution_count": 53,
     "metadata": {},
     "output_type": "execute_result"
    }
   ],
   "source": [
    "leaves_covariance.shape, full_covariance.shape, cov_ii.shape"
   ]
  },
  {
   "cell_type": "code",
   "execution_count": 40,
   "metadata": {},
   "outputs": [
    {
     "name": "stdout",
     "output_type": "stream",
     "text": [
      "Gaussian conditioning formula O(n^3d^3):  [1. 1.] 1.7000000000000002\n",
      "Message passing output O(nd):  [0.84615385 0.84615385] 1.6153846153846154\n"
     ]
    }
   ],
   "source": [
    "#calculate the mean and variance of x_4 | x_1, x_2, x_3\n",
    "evidence = [np.array([1] * d), np.array([2] * d), np.array([1] * d)]\n",
    "\n",
    "# Gaussian conditioning formula\n",
    "cov_ii = full_covariance[3 * d:, 3 * d:]\n",
    "cov_il = full_covariance[3 * d:, :3 * d]\n",
    "cov_ll = full_covariance[:3 * d, :3 * d]\n",
    "cov_li = full_covariance[:3 * d, 3 * d:]\n",
    "\n",
    "internal_post_mean_transform = np.dot(cov_il, np.linalg.inv(cov_ll))\n",
    "internal_post_covar = cov_ii - np.dot(np.dot(cov_il, np.linalg.inv(cov_ll)), cov_li)\n",
    "\n",
    "# message passing: call from the leaf and collect the prior information\n",
    "query_node = 3\n",
    "prior_node = 7\n",
    "tree = T_add\n",
    "collect_prior_node = True\n",
    "\n",
    "# perform message passing\n",
    "initialize_visit(tree, prior_node)\n",
    "initialize_messages(tree, d, evidence + [0] * 4 * d, prior_node)\n",
    "perform_message_passing(tree, query_node, prior_node, collect_prior_node)\n",
    "\n",
    "print(\"Gaussian conditioning formula O(n^3d^3): \",\n",
    "      np.dot(internal_post_mean_transform, np.hstack(evidence))[0: d], internal_post_covar[0, 0])\n",
    "\n",
    "print(\"Message passing output O(nd): \", \n",
    "      tree.nodes[query_node][\"mu\"], tree.nodes[query_node][\"nu\"])"
   ]
  },
  {
   "cell_type": "code",
   "execution_count": 50,
   "metadata": {},
   "outputs": [
    {
     "data": {
      "text/plain": [
       "((6, 6), (6, 8), (8, 8), (8, 6), (14, 14))"
      ]
     },
     "execution_count": 50,
     "metadata": {},
     "output_type": "execute_result"
    }
   ],
   "source": [
    "cov_ii.shape, cov_il.shape, cov_ll.shape, cov_li.shape, full_covariance.shape"
   ]
  },
  {
   "cell_type": "code",
   "execution_count": 46,
   "metadata": {},
   "outputs": [
    {
     "data": {
      "text/plain": [
       "((8, 6), (6,))"
      ]
     },
     "execution_count": 46,
     "metadata": {},
     "output_type": "execute_result"
    }
   ],
   "source": [
    "internal_post_mean_transform.shape, np.hstack(evidence).shape"
   ]
  },
  {
   "cell_type": "markdown",
   "metadata": {},
   "source": [
    "Second, let us try to compute the probability of an internal nodes $n$ given observation at all the leaves, for example\n",
    "$$y_1 \\mid x_1, x_2, x_3, x_4$$\n",
    "For this, we need simply need to maginalize $y_1, y_2, z_1 \\mid x_1, x_2, x_3, x_4$, itself given by the Gaussian conditioning formula"
   ]
  },
  {
   "cell_type": "code",
   "execution_count": 49,
   "metadata": {},
   "outputs": [
    {
     "name": "stdout",
     "output_type": "stream",
     "text": [
      "Gaussian conditioning formula O(n^3d^3):  [1. 1.] 0.2941176470588236\n",
      "Message passing output O(nd):  [1.23809524 1.23809524] 0.38095238095238093\n"
     ]
    }
   ],
   "source": [
    "#calculate the mean and variance of y_1 | x_1, x_2, x_3\n",
    "evidence = [np.array([1] * d), np.array([2] * d), np.array([1] * d), np.array([1] * d)]\n",
    "\n",
    "# Gaussian conditioning formula\n",
    "cov_ii = full_covariance[4 * d:, 4 * d:]\n",
    "cov_il = full_covariance[4 * d:, :4 * d]\n",
    "cov_ll = full_covariance[:4 * d, :4 * d]\n",
    "cov_li = full_covariance[:4 * d, 4 * d:]\n",
    "\n",
    "internal_post_mean_transform = np.dot(cov_il, np.linalg.inv(cov_ll))\n",
    "internal_post_covar = cov_ii - np.dot(np.dot(cov_il, np.linalg.inv(cov_ll)), cov_li)\n",
    "\n",
    "# message passing: call from the leaf and collect the prior information\n",
    "query_node = 4\n",
    "prior_node = 7\n",
    "tree = T_add\n",
    "collect_prior_node = True\n",
    "\n",
    "# perform message passing\n",
    "initialize_visit(tree, prior_node)\n",
    "initialize_messages(tree, d, evidence + [0] * 3 * d, prior_node)\n",
    "perform_message_passing(tree, query_node, prior_node, collect_prior_node)\n",
    "\n",
    "print(\"Gaussian conditioning formula O(n^3d^3): \",\n",
    "      np.dot(internal_post_mean_transform, np.hstack(evidence))[0: d], internal_post_covar[0, 0])\n",
    "\n",
    "print(\"Message passing output O(nd): \", \n",
    "      tree.nodes[query_node][\"mu\"], tree.nodes[query_node][\"nu\"])"
   ]
  },
  {
   "cell_type": "code",
   "execution_count": null,
   "metadata": {},
   "outputs": [],
   "source": []
  }
 ],
 "metadata": {
  "kernelspec": {
   "display_name": "Python 3",
   "language": "python",
   "name": "python3"
  },
  "language_info": {
   "codemirror_mode": {
    "name": "ipython",
    "version": 3
   },
   "file_extension": ".py",
   "mimetype": "text/x-python",
   "name": "python",
   "nbconvert_exporter": "python",
   "pygments_lexer": "ipython3",
   "version": "3.7.7"
  }
 },
 "nbformat": 4,
 "nbformat_minor": 2
}
