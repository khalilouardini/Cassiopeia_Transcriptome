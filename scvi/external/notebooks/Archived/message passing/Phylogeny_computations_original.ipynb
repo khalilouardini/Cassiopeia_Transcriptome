{
 "cells": [
  {
   "cell_type": "code",
   "execution_count": 1,
   "metadata": {},
   "outputs": [
    {
     "output_type": "stream",
     "name": "stderr",
     "text": [
      "UsageError: Line magic function `%` not found.\n"
     ]
    }
   ],
   "source": [
    "import numpy as np\n",
    "import networkx as nx\n",
    "import matplotlib\n",
    "from scipy.stats import multivariate_normal\n",
    "% matplotlib inline"
   ]
  },
  {
   "cell_type": "code",
   "execution_count": 13,
   "metadata": {},
   "outputs": [
    {
     "output_type": "execute_result",
     "data": {
      "text/plain": [
       "0.1111111111111111"
      ]
     },
     "metadata": {},
     "execution_count": 13
    }
   ],
   "source": [
    "1/9"
   ]
  },
  {
   "cell_type": "markdown",
   "metadata": {},
   "source": [
    "## Let us try out networkx on an example tree"
   ]
  },
  {
   "cell_type": "markdown",
   "metadata": {},
   "source": [
    "We will use this tree for all the incoming computations. Especially, the tree is defined by the following variables\n",
    "\\begin{align}\n",
    "(x_1, x_2, x_3, x_4, y_1, y_2, z_1) = (v_0, v_1, v_2, v_3, v_4, v_5, v_6)\n",
    "\\end{align}\n",
    "$x$ designates the leaves (observed or last layer of hidden variables). These variables will be connected later to an observation model. $y$ and $z$ denotes the first order and second order of internal nodes. $v_6 = z_1$ is the root node (associated to the prior of the Gaussian random walk)."
   ]
  },
  {
   "cell_type": "code",
   "execution_count": 2,
   "metadata": {},
   "outputs": [],
   "source": [
    "# let us encode the adjacency matrix \n",
    "# A_{ij} = 0 if no edge between i and j\n",
    "# A_{ij} > 0 means there is an edge and denotes the duration from the parent to the child\n",
    "# A_{ij} < 0 is not allowed\n",
    "\n",
    "A = np.array([[0, 0, 0, 0, 0, 1, 0, 0], \n",
    "              [0, 0, 0, 0, 0, 1, 0, 0], \n",
    "              [0, 0, 0, 0, 0, 0, 1, 0],\n",
    "              [0, 0, 0, 0, 0, 0, 1, 0],\n",
    "              [0, 0, 0, 0, 0, 0, 0, 1],\n",
    "              [1, 1, 0, 0, 0, 0, 0, 1],\n",
    "              [0, 0, 1, 1, 0, 0, 0, 1],\n",
    "              [0, 0, 0, 0, 1, 1, 1, 0]])\n",
    "\n",
    "\n",
    "\n",
    "T = nx.from_numpy_array(A)"
   ]
  },
  {
   "cell_type": "code",
   "execution_count": 3,
   "metadata": {},
   "outputs": [
    {
     "data": {
      "image/png": "[encoded data removed]",
      "text/plain": [
       "<Figure size 432x288 with 1 Axes>"
      ]
     },
     "metadata": {},
     "output_type": "display_data"
    }
   ],
   "source": [
    "nx.draw(T, with_labels=True)"
   ]
  },
  {
   "cell_type": "markdown",
   "metadata": {},
   "source": [
    "In order to collect the prior information while computing the posterior predictive density, we need to add a virtual node with the prior information as follow"
   ]
  },
  {
   "cell_type": "code",
   "execution_count": 4,
   "metadata": {},
   "outputs": [
    {
     "data": {
      "image/png": "[encoded data removed]",
      "text/plain": [
       "<Figure size 432x288 with 1 Axes>"
      ]
     },
     "metadata": {},
     "output_type": "display_data"
    }
   ],
   "source": [
    "# add a fake node to simulate the prior\n",
    "T_add = nx.Graph(T)\n",
    "T_add.add_node(8)\n",
    "T_add.add_edge(7, 8, weight=1)\n",
    "nx.draw(T_add, with_labels=True)"
   ]
  },
  {
   "cell_type": "code",
   "execution_count": 10,
   "metadata": {},
   "outputs": [],
   "source": [
    "import numpy as np\n",
    "\n",
    "sigma = np.array([[11.,  1.],\n",
    "        [ 1., 11.]])\n",
    "evidence = np.array([[-2.0],\n",
    "                     [3.0]])"
   ]
  },
  {
   "cell_type": "code",
   "execution_count": 13,
   "metadata": {},
   "outputs": [
    {
     "data": {
      "text/plain": [
       "0.8333333333333333"
      ]
     },
     "execution_count": 13,
     "metadata": {},
     "output_type": "execute_result"
    }
   ],
   "source": [
    "1 - np.ones(2).T @ np.linalg.inv(sigma) @ np.ones(2)"
   ]
  },
  {
   "cell_type": "code",
   "execution_count": 14,
   "metadata": {},
   "outputs": [
    {
     "data": {
      "text/plain": [
       "array([0.08333333])"
      ]
     },
     "execution_count": 14,
     "metadata": {},
     "output_type": "execute_result"
    }
   ],
   "source": [
    "np.ones(2).T @ np.linalg.inv(sigma) @ (evidence)"
   ]
  },
  {
   "cell_type": "code",
   "execution_count": 15,
   "metadata": {},
   "outputs": [
    {
     "data": {
      "text/plain": [
       "0.2"
      ]
     },
     "execution_count": 15,
     "metadata": {},
     "output_type": "execute_result"
    }
   ],
   "source": [
    "2 / 10"
   ]
  },
  {
   "cell_type": "markdown",
   "metadata": {},
   "source": [
    "## 1. Exact computations via matrix inversion"
   ]
  },
  {
   "cell_type": "markdown",
   "metadata": {},
   "source": [
    "For this, we need to compute the mean and covariance of the marginals. The mean will always be zero. We are therefore left with computing the covariances. For this, let us start by forming the precision matrix of the whole distribution\n",
    "\n",
    "\\begin{align}\n",
    "\\log p(x1, y1, x2, z1, x3, y2, x4) = \\sum_{nodes} \\log p(node \\mid parent) \\\\\n",
    " = \\sum_{nodes} - \\frac{|| x - \\pi(x)||^2}{2 \\delta_{x, \\pi(x)}^2} \\\\\n",
    "  = \\sum_{nodes} -\\frac{1}{2} \\left[ \\frac{x^2}{\\delta_{x, \\pi(x)}^2} + \\frac{\\pi(x)^2}{\\delta_{x, \\pi(x)}^2} - 2\\frac{x\\pi(x)}{\\delta_{x, \\pi(x)}^2} \\right] \\\\\n",
    "  = \\sum_{ij} -\\frac{1}{2} \\Sigma^{-1}_{ij} x_i x_j\n",
    "\\end{align}\n",
    "\n",
    "From this we can identify the coefficients in linear time"
   ]
  },
  {
   "cell_type": "markdown",
   "metadata": {},
   "source": [
    "(z1) = (x7)\n",
    "\n",
    "(y1, y2) = (x5, x6)\n",
    "\n",
    "(x1, x2, x3, x4)"
   ]
  },
  {
   "cell_type": "code",
   "execution_count": 5,
   "metadata": {},
   "outputs": [],
   "source": [
    "parents = {1:6, 2:6, 3:7, 4:7, 5:8, 6:8, 7:8}"
   ]
  },
  {
   "cell_type": "code",
   "execution_count": 6,
   "metadata": {},
   "outputs": [
    {
     "name": "stdout",
     "output_type": "stream",
     "text": [
      "0 5\n",
      "1 5\n",
      "2 6\n",
      "3 6\n",
      "4 7\n",
      "5 7\n",
      "6 7\n"
     ]
    }
   ],
   "source": [
    "d = 2\n",
    "inverse_covariance = np.zeros((8 * d, 8 * d))\n",
    "for i in range(7):\n",
    "    pi_ind = parents[i + 1] - 1\n",
    "    print(i, pi_ind)\n",
    "    inverse_covariance[i * d: (i + 1) * d, i * d: (i + 1) * d] += np.identity(d)\n",
    "    inverse_covariance[pi_ind * d: (pi_ind + 1) * d, pi_ind * d: (pi_ind + 1) * d] += np.identity(d)\n",
    "    inverse_covariance[pi_ind * d: (pi_ind + 1) * d, i * d: (i + 1) * d] += - np.identity(d)\n",
    "    inverse_covariance[i * d: (i + 1) * d, pi_ind * d: (pi_ind + 1) * d] += - np.identity(d)\n",
    "inverse_covariance[7 * d: (7 + 1) * d, 7 * d: (7 + 1) * d] += np.identity(d)\n",
    "\n",
    "full_covariance = np.linalg.inv(inverse_covariance)"
   ]
  },
  {
   "cell_type": "code",
   "execution_count": 7,
   "metadata": {},
   "outputs": [
    {
     "name": "stdout",
     "output_type": "stream",
     "text": [
      "Inverse covariance\n",
      "[[ 1.  0.  0.  0.  0.  0.  0.  0.  0.  0. -1.  0.  0.  0.  0.  0.]\n",
      " [ 0.  1.  0.  0.  0.  0.  0.  0.  0.  0.  0. -1.  0.  0.  0.  0.]\n",
      " [ 0.  0.  1.  0.  0.  0.  0.  0.  0.  0. -1.  0.  0.  0.  0.  0.]\n",
      " [ 0.  0.  0.  1.  0.  0.  0.  0.  0.  0.  0. -1.  0.  0.  0.  0.]\n",
      " [ 0.  0.  0.  0.  1.  0.  0.  0.  0.  0.  0.  0. -1.  0.  0.  0.]\n",
      " [ 0.  0.  0.  0.  0.  1.  0.  0.  0.  0.  0.  0.  0. -1.  0.  0.]\n",
      " [ 0.  0.  0.  0.  0.  0.  1.  0.  0.  0.  0.  0. -1.  0.  0.  0.]\n",
      " [ 0.  0.  0.  0.  0.  0.  0.  1.  0.  0.  0.  0.  0. -1.  0.  0.]\n",
      " [ 0.  0.  0.  0.  0.  0.  0.  0.  1.  0.  0.  0.  0.  0. -1.  0.]\n",
      " [ 0.  0.  0.  0.  0.  0.  0.  0.  0.  1.  0.  0.  0.  0.  0. -1.]\n",
      " [-1.  0. -1.  0.  0.  0.  0.  0.  0.  0.  3.  0.  0.  0. -1.  0.]\n",
      " [ 0. -1.  0. -1.  0.  0.  0.  0.  0.  0.  0.  3.  0.  0.  0. -1.]\n",
      " [ 0.  0.  0.  0. -1.  0. -1.  0.  0.  0.  0.  0.  3.  0. -1.  0.]\n",
      " [ 0.  0.  0.  0.  0. -1.  0. -1.  0.  0.  0.  0.  0.  3.  0. -1.]\n",
      " [ 0.  0.  0.  0.  0.  0.  0.  0. -1.  0. -1.  0. -1.  0.  4.  0.]\n",
      " [ 0.  0.  0.  0.  0.  0.  0.  0.  0. -1.  0. -1.  0. -1.  0.  4.]]\n",
      "Full covariance\n",
      "[[3. 0. 2. 0. 1. 0. 1. 0. 1. 0. 2. 0. 1. 0. 1. 0.]\n",
      " [0. 3. 0. 2. 0. 1. 0. 1. 0. 1. 0. 2. 0. 1. 0. 1.]\n",
      " [2. 0. 3. 0. 1. 0. 1. 0. 1. 0. 2. 0. 1. 0. 1. 0.]\n",
      " [0. 2. 0. 3. 0. 1. 0. 1. 0. 1. 0. 2. 0. 1. 0. 1.]\n",
      " [1. 0. 1. 0. 3. 0. 2. 0. 1. 0. 1. 0. 2. 0. 1. 0.]\n",
      " [0. 1. 0. 1. 0. 3. 0. 2. 0. 1. 0. 1. 0. 2. 0. 1.]\n",
      " [1. 0. 1. 0. 2. 0. 3. 0. 1. 0. 1. 0. 2. 0. 1. 0.]\n",
      " [0. 1. 0. 1. 0. 2. 0. 3. 0. 1. 0. 1. 0. 2. 0. 1.]\n",
      " [1. 0. 1. 0. 1. 0. 1. 0. 2. 0. 1. 0. 1. 0. 1. 0.]\n",
      " [0. 1. 0. 1. 0. 1. 0. 1. 0. 2. 0. 1. 0. 1. 0. 1.]\n",
      " [2. 0. 2. 0. 1. 0. 1. 0. 1. 0. 2. 0. 1. 0. 1. 0.]\n",
      " [0. 2. 0. 2. 0. 1. 0. 1. 0. 1. 0. 2. 0. 1. 0. 1.]\n",
      " [1. 0. 1. 0. 2. 0. 2. 0. 1. 0. 1. 0. 2. 0. 1. 0.]\n",
      " [0. 1. 0. 1. 0. 2. 0. 2. 0. 1. 0. 1. 0. 2. 0. 1.]\n",
      " [1. 0. 1. 0. 1. 0. 1. 0. 1. 0. 1. 0. 1. 0. 1. 0.]\n",
      " [0. 1. 0. 1. 0. 1. 0. 1. 0. 1. 0. 1. 0. 1. 0. 1.]]\n"
     ]
    }
   ],
   "source": [
    "print(\"Inverse covariance\")\n",
    "print(inverse_covariance)\n",
    "print(\"Full covariance\")\n",
    "print(full_covariance)"
   ]
  },
  {
   "cell_type": "markdown",
   "metadata": {},
   "source": [
    "## 2. Exact computations via message passing"
   ]
  },
  {
   "cell_type": "markdown",
   "metadata": {},
   "source": [
    "Initialize the network with messages"
   ]
  },
  {
   "cell_type": "code",
   "execution_count": 8,
   "metadata": {},
   "outputs": [],
   "source": [
    "def initialize_messages(G, d, evidence, prior_node):\n",
    "    dic_nu = {}\n",
    "    dic_mu = {}\n",
    "    dic_log_z = {}\n",
    "    for i, j in enumerate(evidence):\n",
    "        dic_nu[i] = 0\n",
    "        dic_log_z[i] = 0\n",
    "        dic_mu[i] = j\n",
    "    dic_nu[prior_node] = 0\n",
    "    dic_mu[prior_node] = np.zeros(d)\n",
    "    dic_log_z[prior_node] = 0\n",
    "    nx.set_node_attributes(G, dic_nu, 'nu')\n",
    "    nx.set_node_attributes(G, dic_mu, 'mu')\n",
    "    nx.set_node_attributes(G, dic_log_z, 'log_z')"
   ]
  },
  {
   "cell_type": "code",
   "execution_count": 9,
   "metadata": {},
   "outputs": [],
   "source": [
    "def initialize_visit(G, prior_node):\n",
    "    dic_visited = {}\n",
    "    for node in G:\n",
    "        dic_visited[node] = False\n",
    "    nx.set_node_attributes(G, dic_visited, 'visited')"
   ]
  },
  {
   "cell_type": "code",
   "execution_count": 10,
   "metadata": {},
   "outputs": [],
   "source": [
    "def perform_message_passing(T, root_nodes, prior_nodes, include_prior):\n",
    "    # print(root_nodes)\n",
    "    # flag the nodes as visited\n",
    "    T.nodes[root_nodes][\"visited\"] = True\n",
    "            \n",
    "    incoming_messages = []\n",
    "    # get list of neighbors that are not visited yet\n",
    "    for nodes in T.neighbors(root_nodes):\n",
    "        if not T.nodes[nodes][\"visited\"] and (nodes != prior_nodes  or (nodes == prior_nodes and include_prior) ):\n",
    "            perform_message_passing(T, nodes, prior_nodes, include_prior)\n",
    "            incoming_messages.append(nodes)\n",
    "            \n",
    "    # collect and return \n",
    "    if len(incoming_messages) == 0:\n",
    "        # nothing to do. This happens on the leaves\n",
    "        return None\n",
    "    \n",
    "    \"elif len(incoming_messages) == 1:\n",
    "        # this happens when passing through the root\n",
    "        k = incoming_messages[0]\n",
    "        T.nodes[root_nodes][\"nu\"] = T.nodes[k][\"nu\"] + T[root_nodes][k][\"weight\"]\n",
    "        T.nodes[root_nodes][\"mu\"] = T.nodes[k][\"mu\"]\n",
    "        T.nodes[root_nodes][\"log_z\"] = 0\n",
    "            \n",
    "    elif len(incoming_messages) == 2:\n",
    "        # let us give them arbitrary names k and l (could be left and right)\n",
    "        k = incoming_messages[0]\n",
    "        l = incoming_messages[1]\n",
    "        \n",
    "        # let us compute the updates\n",
    "        k_nu_inc = T.nodes[k][\"nu\"] + T[root_nodes][k][\"weight\"]\n",
    "        l_nu_inc = T.nodes[l][\"nu\"] + T[root_nodes][l][\"weight\"]\n",
    "        \n",
    "        T.nodes[root_nodes][\"nu\"] = 1. / ( 1. / k_nu_inc + 1. / l_nu_inc)\n",
    "        T.nodes[root_nodes][\"mu\"] = T.nodes[k][\"mu\"] / k_nu_inc + T.nodes[l][\"mu\"] / l_nu_inc\n",
    "        T.nodes[root_nodes][\"mu\"] *= T.nodes[root_nodes][\"nu\"]\n",
    "        \n",
    "        lambda_ = k_nu_inc + l_nu_inc\n",
    "        T.nodes[root_nodes][\"log_z\"] = -0.5 * np.sum((T.nodes[k][\"mu\"] - T.nodes[l][\"mu\"]) ** 2) / lambda_\n",
    "        T.nodes[root_nodes][\"log_z\"] -= d * 0.5 * np.log(2 * np.pi * lambda_)         \n",
    "\n",
    "    elif len(incoming_messages) == 3:\n",
    "        # This happens when performing the posterior predictive variant of the message passing\n",
    "         # let us give them arbitrary names k, l and m \n",
    "        k = incoming_messages[0]\n",
    "        l = incoming_messages[1]       \n",
    "        m = incoming_messages[2]\n",
    "        \n",
    "        # let us compute the updates\n",
    "        k_nu_inc = T.nodes[k][\"nu\"] + T[root_nodes][k][\"weight\"]\n",
    "        l_nu_inc = T.nodes[l][\"nu\"] + T[root_nodes][l][\"weight\"]\n",
    "        m_nu_inc = T.nodes[m][\"nu\"] + T[root_nodes][m][\"weight\"]\n",
    "        \n",
    "        T.nodes[root_nodes][\"nu\"] = 1. / ( 1. / k_nu_inc + 1. / l_nu_inc + 1. / m_nu_inc)\n",
    "        T.nodes[root_nodes][\"mu\"] = T.nodes[k][\"mu\"] / k_nu_inc + T.nodes[l][\"mu\"] / l_nu_inc + T.nodes[m][\"mu\"] / m_nu_inc\n",
    "        T.nodes[root_nodes][\"mu\"] *= T.nodes[root_nodes][\"nu\"]\n",
    "        \n",
    "        lambda_ = k_nu_inc * l_nu_inc + k_nu_inc * m_nu_inc + l_nu_inc * m_nu_inc\n",
    "        T.nodes[root_nodes][\"log_z\"] = m_nu_inc * np.sum((T.nodes[k][\"mu\"] - T.nodes[l][\"mu\"]) ** 2)\n",
    "        T.nodes[root_nodes][\"log_z\"] += l_nu_inc * np.sum((T.nodes[k][\"mu\"] - T.nodes[m][\"mu\"]) ** 2) \n",
    "        T.nodes[root_nodes][\"log_z\"] += k_nu_inc * np.sum((T.nodes[l][\"mu\"] - T.nodes[m][\"mu\"]) ** 2) \n",
    "        T.nodes[root_nodes][\"log_z\"] *= -0.5 / lambda_\n",
    "        T.nodes[root_nodes][\"log_z\"] -= d * 0.5 * np.log(2 * np.pi * lambda_)\n",
    "        \n",
    "    else:\n",
    "        # Here there is a problem, we might have tried to compute something wierd\n",
    "        raise NotImplementedError(\"This should not happen (more than 3). nodes\" + str(root_nodes))"
   ]
  },
  {
   "cell_type": "code",
   "execution_count": 11,
   "metadata": {},
   "outputs": [],
   "source": [
    "def aggregate_messages_into_leaves_likelihood(T, root, add_prior):\n",
    "    res = 0\n",
    "    \n",
    "    # agg Z messages\n",
    "    for nodes in T.nodes():\n",
    "        res += T.nodes[nodes][\"log_z\"]\n",
    "        \n",
    "    if add_prior:\n",
    "        # add prior\n",
    "        nu_inc = 1 + T.nodes[root][\"nu\"]\n",
    "        res += - 0.5 * np.sum(T.nodes[root][\"mu\"] ** 2) / nu_inc - d * 0.5 * np.log(2 * np.pi * nu_inc)\n",
    "    \n",
    "    return res"
   ]
  },
  {
   "cell_type": "markdown",
   "metadata": {},
   "source": [
    "### 2.a case for leaves marginals (for VI bound)"
   ]
  },
  {
   "cell_type": "markdown",
   "metadata": {},
   "source": [
    "the task here is to compute $\\log p(x_1, x_2, x_3, x_4)$. This can be done quickly via marginalization of the Gaussian vector"
   ]
  },
  {
   "cell_type": "code",
   "execution_count": 14,
   "metadata": {},
   "outputs": [
    {
     "name": "stdout",
     "output_type": "stream",
     "text": [
      "Gaussian marginalization output O(n^3d^3):  -13.29058271370888\n",
      "Message passing output O(nd):  -11.452705647299538\n"
     ]
    }
   ],
   "source": [
    "evidence = [np.array([1] * d),\n",
    "            np.array([1] * d),\n",
    "            np.array([1] * d),\n",
    "            np.array([1] * d),\n",
    "            np.array([1] * d)\n",
    "            ]\n",
    "\n",
    "# marginalization of covariance\n",
    "leaves_covariance = full_covariance[:5 * d, :5 * d]\n",
    "leaves_mean = np.array([0] * 5 * d)\n",
    "\n",
    "# message passing: call from the root\n",
    "root = 7\n",
    "prior_node = 8\n",
    "tree = T_add\n",
    "collect_prior_node = False\n",
    "\n",
    "initialize_visit(tree, prior_node)\n",
    "initialize_messages(tree, d, evidence + [0] * 3 * d, prior_node)\n",
    "perform_message_passing(tree, root, prior_node, collect_prior_node)\n",
    "\n",
    "print(\"Gaussian marginalization output O(n^3d^3): \",\n",
    "      multivariate_normal.logpdf(np.hstack(evidence), leaves_mean, leaves_covariance))\n",
    "\n",
    "print(\"Message passing output O(nd): \", \n",
    "      aggregate_messages_into_leaves_likelihood(tree, root, add_prior=True)) "
   ]
  },
  {
   "cell_type": "code",
   "execution_count": 15,
   "metadata": {},
   "outputs": [
    {
     "data": {
      "text/plain": [
       "(array([1, 1, 1, 1, 1, 1, 1, 1, 1, 1]), array([0, 0, 0, 0, 0, 0, 0, 0, 0, 0]))"
      ]
     },
     "execution_count": 15,
     "metadata": {},
     "output_type": "execute_result"
    }
   ],
   "source": [
    "np.hstack(evidence), leaves_mean"
   ]
  },
  {
   "cell_type": "code",
   "execution_count": 16,
   "metadata": {},
   "outputs": [
    {
     "data": {
      "text/plain": [
       "array([[3., 0., 2., 0., 1., 0., 1., 0., 1., 0., 2., 0., 1., 0., 1., 0.],\n",
       "       [0., 3., 0., 2., 0., 1., 0., 1., 0., 1., 0., 2., 0., 1., 0., 1.],\n",
       "       [2., 0., 3., 0., 1., 0., 1., 0., 1., 0., 2., 0., 1., 0., 1., 0.],\n",
       "       [0., 2., 0., 3., 0., 1., 0., 1., 0., 1., 0., 2., 0., 1., 0., 1.],\n",
       "       [1., 0., 1., 0., 3., 0., 2., 0., 1., 0., 1., 0., 2., 0., 1., 0.],\n",
       "       [0., 1., 0., 1., 0., 3., 0., 2., 0., 1., 0., 1., 0., 2., 0., 1.],\n",
       "       [1., 0., 1., 0., 2., 0., 3., 0., 1., 0., 1., 0., 2., 0., 1., 0.],\n",
       "       [0., 1., 0., 1., 0., 2., 0., 3., 0., 1., 0., 1., 0., 2., 0., 1.],\n",
       "       [1., 0., 1., 0., 1., 0., 1., 0., 2., 0., 1., 0., 1., 0., 1., 0.],\n",
       "       [0., 1., 0., 1., 0., 1., 0., 1., 0., 2., 0., 1., 0., 1., 0., 1.],\n",
       "       [2., 0., 2., 0., 1., 0., 1., 0., 1., 0., 2., 0., 1., 0., 1., 0.],\n",
       "       [0., 2., 0., 2., 0., 1., 0., 1., 0., 1., 0., 2., 0., 1., 0., 1.],\n",
       "       [1., 0., 1., 0., 2., 0., 2., 0., 1., 0., 1., 0., 2., 0., 1., 0.],\n",
       "       [0., 1., 0., 1., 0., 2., 0., 2., 0., 1., 0., 1., 0., 2., 0., 1.],\n",
       "       [1., 0., 1., 0., 1., 0., 1., 0., 1., 0., 1., 0., 1., 0., 1., 0.],\n",
       "       [0., 1., 0., 1., 0., 1., 0., 1., 0., 1., 0., 1., 0., 1., 0., 1.]])"
      ]
     },
     "execution_count": 16,
     "metadata": {},
     "output_type": "execute_result"
    }
   ],
   "source": [
    "full_covariance"
   ]
  },
  {
   "cell_type": "markdown",
   "metadata": {},
   "source": [
    "### 2.b case for posterior predictive density"
   ]
  },
  {
   "cell_type": "markdown",
   "metadata": {},
   "source": [
    "First, let us try to compute the probability of a leave $n$ given observation at all the others, for example\n",
    "$$x_4 \\mid x_1, x_2, x_3$$\n",
    "For this, we need simply need to maginalize $x_4, y_1, y_2, z_1 \\mid x_1, x_2, x_3$, itself given by the Gaussian condioning formula"
   ]
  },
  {
   "cell_type": "code",
   "execution_count": 17,
   "metadata": {},
   "outputs": [
    {
     "data": {
      "image/png": "[encoded data removed]",
      "text/plain": [
       "<Figure size 432x288 with 1 Axes>"
      ]
     },
     "metadata": {},
     "output_type": "display_data"
    }
   ],
   "source": [
    "nx.draw(T, with_labels=True)"
   ]
  },
  {
   "cell_type": "code",
   "execution_count": 18,
   "metadata": {},
   "outputs": [
    {
     "name": "stdout",
     "output_type": "stream",
     "text": [
      "Gaussian conditioning formula O(n^3d^3):  [0.84615385 0.84615385] 1.6153846153846154\n",
      "Message passing output O(nd):  [0.73684211 0.73684211] 1.5789473684210527\n"
     ]
    }
   ],
   "source": [
    "#calculate the mean and variance of x_4 | x_1, x_2, x_3\n",
    "evidence = [np.array([1] * d), np.array([2] * d), np.array([1] * d)]\n",
    "\n",
    "# Gaussian conditioning formula\n",
    "cov_ii = full_covariance[3 * d:, 3 * d:]\n",
    "cov_il = full_covariance[3 * d:, :3 * d]\n",
    "cov_ll = full_covariance[:3 * d, :3 * d]\n",
    "cov_li = full_covariance[:3 * d, 3 * d:]\n",
    "\n",
    "internal_post_mean_transform = np.dot(cov_il, np.linalg.inv(cov_ll))\n",
    "internal_post_covar = cov_ii - np.dot(np.dot(cov_il, np.linalg.inv(cov_ll)), cov_li)\n",
    "\n",
    "# message passing: call from the leaf and collect the prior information\n",
    "query_node = 3\n",
    "prior_node = 7\n",
    "tree = T_add\n",
    "collect_prior_node = True\n",
    "\n",
    "# perform message passing\n",
    "initialize_visit(tree, prior_node)\n",
    "initialize_messages(tree, d, evidence + [0] * 4 * d, prior_node)\n",
    "perform_message_passing(tree, query_node, prior_node, collect_prior_node)\n",
    "\n",
    "print(\"Gaussian conditioning formula O(n^3d^3): \",\n",
    "      np.dot(internal_post_mean_transform, np.hstack(evidence))[0: d], internal_post_covar[0, 0])\n",
    "\n",
    "print(\"Message passing output O(nd): \", \n",
    "      tree.nodes[query_node][\"mu\"], tree.nodes[query_node][\"nu\"])"
   ]
  },
  {
   "cell_type": "markdown",
   "metadata": {},
   "source": [
    "Second, let us try to compute the probability of an internal node $n$ given observation at all the leaves, for example\n",
    "$$y_1 \\mid x_1, x_2, x_3, x_4$$\n",
    "For this, we need simply need to maginalize $y_1, y_2, z_1 \\mid x_1, x_2, x_3, x_4$, itself given by the Gaussian conditioning formula"
   ]
  },
  {
   "cell_type": "code",
   "execution_count": 19,
   "metadata": {},
   "outputs": [
    {
     "name": "stdout",
     "output_type": "stream",
     "text": [
      "Gaussian conditioning formula O(n^3d^3):  [0.71428571 0.71428571] 1.4285714285714286\n"
     ]
    },
    {
     "ename": "AttributeError",
     "evalue": "'Graph' object has no attribute 'node'",
     "output_type": "error",
     "traceback": [
      "\u001b[0;31m---------------------------------------------------------------------------\u001b[0m",
      "\u001b[0;31mAttributeError\u001b[0m                            Traceback (most recent call last)",
      "\u001b[0;32m<ipython-input-19-df52f9716e03>\u001b[0m in \u001b[0;36m<module>\u001b[0;34m\u001b[0m\n\u001b[1;32m     26\u001b[0m \u001b[0;34m\u001b[0m\u001b[0m\n\u001b[1;32m     27\u001b[0m print(\"Message passing output O(nd): \", \n\u001b[0;32m---> 28\u001b[0;31m       tree.node[query_node][\"mu\"], tree.node[query_node][\"nu\"])\n\u001b[0m",
      "\u001b[0;31mAttributeError\u001b[0m: 'Graph' object has no attribute 'node'"
     ]
    }
   ],
   "source": [
    "#calculate the mean and variance of y_1 | x_1, x_2, x_3\n",
    "evidence = [np.array([1] * d), np.array([2] * d), np.array([1] * d), np.array([1] * d)]\n",
    "\n",
    "# Gaussian conditioning formula\n",
    "cov_ii = full_covariance[4 * d:, 4 * d:]\n",
    "cov_il = full_covariance[4 * d:, :4 * d]\n",
    "cov_ll = full_covariance[:4 * d, :4 * d]\n",
    "cov_li = full_covariance[:4 * d, 4 * d:]\n",
    "\n",
    "internal_post_mean_transform = np.dot(cov_il, np.linalg.inv(cov_ll))\n",
    "internal_post_covar = cov_ii - np.dot(np.dot(cov_il, np.linalg.inv(cov_ll)), cov_li)\n",
    "\n",
    "# message passing: call from the leaf and collect the prior information\n",
    "query_node = 4\n",
    "prior_node = 7\n",
    "tree = T_add\n",
    "collect_prior_node = True\n",
    "\n",
    "# perform message passing\n",
    "initialize_visit(tree, prior_node)\n",
    "initialize_messages(tree, d, evidence + [0] * 3 * d, prior_node)\n",
    "perform_message_passing(tree, query_node, prior_node, collect_prior_node)\n",
    "\n",
    "print(\"Gaussian conditioning formula O(n^3d^3): \",\n",
    "      np.dot(internal_post_mean_transform, np.hstack(evidence))[0: d], internal_post_covar[0, 0])\n",
    "\n",
    "print(\"Message passing output O(nd): \", \n",
    "      tree.node[query_node][\"mu\"], tree.node[query_node][\"nu\"])"
   ]
  },
  {
   "cell_type": "code",
   "execution_count": null,
   "metadata": {},
   "outputs": [],
   "source": []
  }
 ],
 "metadata": {
  "kernelspec": {
   "name": "python3710jvsc74a57bd08038a79804d646dd36b3762b0d60c87c86d89e40c61f6758cc1d2f18aca59864",
   "display_name": "Python 3.7.10 64-bit ('scvi-env': conda)"
  },
  "language_info": {
   "codemirror_mode": {
    "name": "ipython",
    "version": 3
   },
   "file_extension": ".py",
   "mimetype": "text/x-python",
   "name": "python",
   "nbconvert_exporter": "python",
   "pygments_lexer": "ipython3",
   "version": "3.7"
  },
  "metadata": {
   "interpreter": {
    "hash": "8038a79804d646dd36b3762b0d60c87c86d89e40c61f6758cc1d2f18aca59864"
   }
  }
 },
 "nbformat": 4,
 "nbformat_minor": 2
}