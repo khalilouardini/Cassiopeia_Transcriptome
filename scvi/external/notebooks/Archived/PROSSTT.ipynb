{
 "cells": [
  {
   "cell_type": "code",
   "execution_count": 2,
   "metadata": {},
   "outputs": [
    {
     "name": "stdout",
     "output_type": "stream",
     "text": [
      "The autoreload extension is already loaded. To reload it, use:\n",
      "  %reload_ext autoreload\n"
     ]
    }
   ],
   "source": [
    "# general tools\n",
    "%load_ext autoreload\n",
    "%autoreload 2\n",
    "import numpy as np\n",
    "from numpy import random\n",
    "import os"
   ]
  },
  {
   "cell_type": "code",
   "execution_count": 3,
   "metadata": {},
   "outputs": [],
   "source": [
    "os.chdir('/Users/khalilouardini/Desktop/projects/prosstt/prosstt')\n",
    "import tree\n",
    "import simulation as sim\n",
    "import sim_utils as sut\n",
    "os.chdir('/Users/khalilouardini/Desktop/projects/scVI/scvi/notebooks')"
   ]
  },
  {
   "cell_type": "code",
   "execution_count": 4,
   "metadata": {},
   "outputs": [],
   "source": [
    "rseed = 42\n",
    "random.seed(rseed)"
   ]
  },
  {
   "cell_type": "code",
   "execution_count": 11,
   "metadata": {},
   "outputs": [
    {
     "data": {
      "text/plain": [
       "19"
      ]
     },
     "execution_count": 11,
     "metadata": {},
     "output_type": "execute_result"
    }
   ],
   "source": [
    "t2 = tree.Tree()\n",
    "t2.modules"
   ]
  },
  {
   "cell_type": "markdown",
   "metadata": {},
   "source": [
    "**Import Cassiopeia tree**"
   ]
  },
  {
   "cell_type": "code",
   "execution_count": 7,
   "metadata": {},
   "outputs": [],
   "source": [
    "from ete3 import Tree\n",
    "\n",
    "tree_name = \"/Users/khalilouardini/Desktop/projects/scVI/scvi/data/Cassiopeia_trees/3726_NT_T1_tree.processed.collapsed.tree\"\n",
    "with open(tree_name, \"r\") as myfile:\n",
    "    tree_string = myfile.readlines()[0]\n",
    "    \n",
    "tree_ete3 = Tree(tree_name, 1)\n",
    "branch_names = []\n",
    "\n",
    "for n in tree_ete3.traverse():\n",
    "    branch_names.append(n.name)"
   ]
  },
  {
   "cell_type": "markdown",
   "metadata": {},
   "source": [
    "**Parse Newick format topology** "
   ]
  },
  {
   "cell_type": "code",
   "execution_count": 8,
   "metadata": {},
   "outputs": [],
   "source": [
    "import newick\n",
    "from prosstt.tree import Tree\n",
    "\n",
    "newick_tree = newick.loads(tree_string)\n",
    "t = Tree.from_newick(tree_string, modules=3, genes=10, density=None)"
   ]
  },
  {
   "cell_type": "markdown",
   "metadata": {},
   "source": [
    "**Print some of the tree attributes**"
   ]
  },
  {
   "cell_type": "code",
   "execution_count": 9,
   "metadata": {},
   "outputs": [
    {
     "name": "stdout",
     "output_type": "stream",
     "text": [
      ">>>> Branch length: \n",
      "  0|0|0|0|0|0|0|0|0|0|0|0|0|0|0|0|0|0|0|0|0|0|0|0|0|0|0|0|0       2\n",
      "0|0|0|0|0|0|0|0|0|2|0|0|0|0|0|0|0|0|0|0|0|0|0|0|0|0|0|0|0       2\n",
      "2|2|2|2|6|11|0|9|2|0|2|0|7|4|0|0|0|0|6|4|0|4|0|3|10|0|2|2|2     2\n",
      "6|3|0|4|9|0|8|5|0|0|4|10|11|0|0|0|0|0|2|9|0|0|0|0|17|0|0|0|0    2\n",
      "0|2|2|2|2|0|2|0|2|2|2|0|2|0|0|0|0|0|0|0|0|2|0|3|5|22|-|-|-      2\n",
      "                                                               ..\n",
      "L6.GCACATACATCCCATC-1                                           2\n",
      "L6.CTGTGCTTCATTGCGA-1                                           2\n",
      "L6.CTAGCCTCATCAGTCA-1                                           2\n",
      "L6.CAGAGAGAGAAGCCCA-1                                           2\n",
      "L6.ACTGAGTGTAATCACC-1                                           2\n",
      "Name: time, Length: 1080, dtype: int64 \n",
      "\n",
      ">>>> Number of genes:\n",
      " 10 \n",
      "\n",
      ">>>> Branch points: \n",
      " 308 \n",
      "\n",
      ">>>> Number of modules:\n",
      " 3 \n",
      "\n",
      ">>>> Barcode of root cell:\n",
      " 0|0|0|0|0|0|0|0|0|0|0|0|0|0|0|0|0|0|0|0|0|0|0|0|0|0|0|0|0 \n",
      "\n",
      ">>>> max time in the tree:\n",
      " 32 \n",
      "\n"
     ]
    }
   ],
   "source": [
    "print('>>>> Branch length: \\n  {} \\n'.format(t.time))\n",
    "print('>>>> Number of genes:\\n {} \\n'.format(t.G))\n",
    "print('>>>> Branch points: \\n {} \\n'.format(t.branch_points))\n",
    "print('>>>> Number of modules:\\n {} \\n'.format(t.modules))\n",
    "print('>>>> Barcode of root cell:\\n {} \\n'.format(t.root))\n",
    "print('>>>> max time in the tree:\\n {} \\n'.format(t.get_max_time()))"
   ]
  },
  {
   "cell_type": "markdown",
   "metadata": {},
   "source": [
    "**Simulate average gene expression along the tree**"
   ]
  },
  {
   "cell_type": "code",
   "execution_count": 12,
   "metadata": {},
   "outputs": [],
   "source": [
    "X, pseudotimes, branch, scalings = sim.sample_whole_tree_restricted(t2)"
   ]
  },
  {
   "cell_type": "code",
   "execution_count": 13,
   "metadata": {},
   "outputs": [
    {
     "data": {
      "text/plain": [
       "(80, 500)"
      ]
     },
     "execution_count": 13,
     "metadata": {},
     "output_type": "execute_result"
    }
   ],
   "source": [
    "X.shape"
   ]
  }
 ],
 "metadata": {
  "kernelspec": {
   "display_name": "Python 3",
   "language": "python",
   "name": "python3"
  },
  "language_info": {
   "codemirror_mode": {
    "name": "ipython",
    "version": 3
   },
   "file_extension": ".py",
   "mimetype": "text/x-python",
   "name": "python",
   "nbconvert_exporter": "python",
   "pygments_lexer": "ipython3",
   "version": "3.7.7"
  }
 },
 "nbformat": 4,
 "nbformat_minor": 4
}
