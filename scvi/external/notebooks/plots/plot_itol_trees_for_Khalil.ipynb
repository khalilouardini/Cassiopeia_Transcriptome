{
 "cells": [
  {
   "cell_type": "markdown",
   "metadata": {},
   "source": [
    "## Plotting trees with iTOL\n",
    "\n",
    "This is a notebook that provides a basic tutorial on how to plot trees with [iTOL](https://itol.embl.de/).\n",
    "\n",
    "At the very least you'll need a tree (in newick format) to be plotted. You can also annotate the leaves with various other pieces of information, both discrete and continuous values. Here we'll just focus on plotting continuous values.\n",
    "\n",
    "To get started, you'll need to make sure you have `ete3`, `pandas`, and `itolapi` installed (all of them should be pip installable).\n",
    "\n",
    "_Note_: for some reason, iTOL requires that the tree you're going to be uploaded end with the suffix `.tree`. Keep that in mind if you see some cryptic errors!"
   ]
  },
  {
   "cell_type": "code",
   "execution_count": 19,
   "metadata": {},
   "outputs": [
    {
     "name": "stdout",
     "output_type": "stream",
     "text": [
      "The autoreload extension is already loaded. To reload it, use:\n",
      "  %reload_ext autoreload\n"
     ]
    }
   ],
   "source": [
    "import os\n",
    "%load_ext autoreload\n",
    "%autoreload 2"
   ]
  },
  {
   "cell_type": "code",
   "execution_count": 41,
   "metadata": {},
   "outputs": [],
   "source": [
    "import os\n",
    "import sys\n",
    "\n",
    "from ete3 import Tree\n",
    "import pandas as pd\n",
    "\n",
    "sys.path.append('/Users/khalilouardini/Desktop/projects/scVI/scvi/notebooks/plots')\n",
    "import plot_tree_itol, itol_manager"
   ]
  },
  {
   "cell_type": "code",
   "execution_count": 42,
   "metadata": {},
   "outputs": [
    {
     "data": {
      "text/plain": [
       "(                                                    GE-1-imputed\n",
       " 0|0|0|0|0|0|0|0|0|0|0|0|0|0|0|0|0|0|0|0|0|0|0|0...             0\n",
       " 0|0|0|0|0|0|0|0|0|2|0|0|0|0|0|0|0|0|0|0|0|0|0|0...             0\n",
       " 2|2|2|2|6|11|0|9|2|0|2|0|7|4|0|0|0|0|6|4|0|4|0|...             0\n",
       " 6|3|0|4|9|0|8|5|0|0|4|10|11|0|0|0|0|0|2|9|0|0|0...             0\n",
       " 0|2|2|2|2|0|2|0|2|2|2|0|2|0|0|0|0|0|0|0|0|2|0|3...             0,\n",
       "                        GE-1-leaves\n",
       " L6.GTTTCTAGTGAAGGCT-1            0\n",
       " L6.CCCTCCTCAGCTGCTG-1            4\n",
       " L6.TGGCGCATCTCGTATT-1            3\n",
       " L6.CGTGAGCTCACTCCTG-1            2\n",
       " L6.CCTCTGAAGAAACGAG-1            0,\n",
       "                                                     GE-1-groundtruth\n",
       " 0|0|0|0|0|0|0|0|0|0|0|0|0|0|0|0|0|0|0|0|0|0|0|0...                 2\n",
       " 0|0|0|0|0|0|0|0|0|2|0|0|0|0|0|0|0|0|0|0|0|0|0|0...                 0\n",
       " 2|2|2|2|6|11|0|9|2|0|2|0|7|4|0|0|0|0|6|4|0|4|0|...                 0\n",
       " 6|3|0|4|9|0|8|5|0|0|4|10|11|0|0|0|0|0|2|9|0|0|0...                 1\n",
       " 0|2|2|2|2|0|2|0|2|2|2|0|2|0|0|0|0|0|0|0|0|2|0|3...                 3,\n",
       "                                                     GE-1-avg\n",
       " 0|0|0|0|0|0|0|0|0|0|0|0|0|0|0|0|0|0|0|0|0|0|0|0...         2\n",
       " 0|0|0|0|0|0|0|0|0|2|0|0|0|0|0|0|0|0|0|0|0|0|0|0...         0\n",
       " 2|2|2|2|6|11|0|9|2|0|2|0|7|4|0|0|0|0|6|4|0|4|0|...         0\n",
       " 6|3|0|4|9|0|8|5|0|0|4|10|11|0|0|0|0|0|2|9|0|0|0...         1\n",
       " 0|2|2|2|2|0|2|0|2|2|2|0|2|0|0|0|0|0|0|0|0|2|0|3...         3,\n",
       "                                                     GE-1-scvi\n",
       " 0|0|0|0|0|0|0|0|0|0|0|0|0|0|0|0|0|0|0|0|0|0|0|0...          0\n",
       " 0|0|0|0|0|0|0|0|0|2|0|0|0|0|0|0|0|0|0|0|0|0|0|0...          1\n",
       " 2|2|2|2|6|11|0|9|2|0|2|0|7|4|0|0|0|0|6|4|0|4|0|...          5\n",
       " 6|3|0|4|9|0|8|5|0|0|4|10|11|0|0|0|0|0|2|9|0|0|0...          3\n",
       " 0|2|2|2|2|0|2|0|2|2|2|0|2|0|0|0|0|0|0|0|0|2|0|3...          0,\n",
       "                                                     variance\n",
       " 0|0|0|0|0|0|0|0|0|0|0|0|0|0|0|0|0|0|0|0|0|0|0|0...     0.238\n",
       " 0|0|0|0|0|0|0|0|0|2|0|0|0|0|0|0|0|0|0|0|0|0|0|0...     0.483\n",
       " 2|2|2|2|6|11|0|9|2|0|2|0|7|4|0|0|0|0|6|4|0|4|0|...     0.360\n",
       " 6|3|0|4|9|0|8|5|0|0|4|10|11|0|0|0|0|0|2|9|0|0|0...     0.408\n",
       " 0|2|2|2|2|0|2|0|2|2|2|0|2|0|0|0|0|0|0|0|0|2|0|3...     0.415)"
      ]
     },
     "execution_count": 42,
     "metadata": {},
     "output_type": "execute_result"
    }
   ],
   "source": [
    "#tree_name = '/Users/khalilouardini/Desktop/projects/scVI/scvi/notebooks/plots/3726_NT_T1_tree.processed.tree'\n",
    "# tree_name = \"../../data/Cassiopeia_trees/lg7_tree_hybrid_priors.alleleThresh.collapsed.txt\"\n",
    "tree_name = \"../../data/Cassiopeia_trees/tree_test.txt\"\n",
    "with open (tree_name, \"r\") as myfile:\n",
    "    tree_string = myfile.readlines()\n",
    "tree = Tree(tree_string[0], 1)\n",
    "\n",
    "#tree = Tree(tree_name, 1)\n",
    "# read in data to be plotted\n",
    "# continuous data\n",
    "\n",
    "#fitness = pd.read_csv(f\"/Users/khalilouardini/Desktop/projects/scVI/scvi/notebooks/plots/mean_fitness.3726_NT_T1.txt\", sep='\\t', index_col = 0)\n",
    "ge = pd.read_csv('/Users/khalilouardini/Desktop/projects/scVI/scvi/notebooks/plots/GE-1-imputed.txt',\n",
    "                  sep ='\\t',\n",
    "                  index_col = 0)\n",
    "\n",
    "ge_leaves = pd.read_csv('/Users/khalilouardini/Desktop/projects/scVI/scvi/notebooks/plots/GE-1-leaves.txt',\n",
    "                  sep ='\\t',\n",
    "                  index_col = 0)\n",
    "\n",
    "ge_gt = pd.read_csv('/Users/khalilouardini/Desktop/projects/scVI/scvi/notebooks/plots/GE-1-gt.txt',\n",
    "                  sep ='\\t',\n",
    "                  index_col = 0)\n",
    "\n",
    "ge_avg = pd.read_csv('/Users/khalilouardini/Desktop/projects/scVI/scvi/notebooks/plots/GE-1-avg.txt',\n",
    "                  sep ='\\t',\n",
    "                  index_col = 0)\n",
    "\n",
    "ge_scvi = pd.read_csv('/Users/khalilouardini/Desktop/projects/scVI/scvi/notebooks/plots/GE-1-scvi.txt',\n",
    "                  sep ='\\t',\n",
    "                  index_col = 0)\n",
    "\n",
    "variance = pd.read_csv('/Users/khalilouardini/Desktop/projects/scVI/scvi/notebooks/plots/variance.txt',\n",
    "                  sep ='\\t',\n",
    "                  index_col = 0)\n",
    "\n",
    "ge.head(5), ge_leaves.head(5), ge_gt.head(5), ge_avg.head(5), ge_scvi.head(5), variance.head(5)"
   ]
  },
  {
   "cell_type": "markdown",
   "metadata": {},
   "source": [
    "### Set up iTOL\n",
    "\n",
    "You'll have to create your own iTOL account using the link above and then find your own api key which will let you \"batch\" upload trees to the server. \n",
    "\n",
    "Aftering doing this, we're going to create the requisite files for plotting the tree with the leaves annotated by fitness. This makes use of the `plot_tree_itol` utilities file."
   ]
  },
  {
   "cell_type": "code",
   "execution_count": 43,
   "metadata": {},
   "outputs": [],
   "source": [
    "apiKey = 'GMkmiUxXIyzqip9q2YxVyg'\n",
    "projectName = 'CasVI'\n",
    "tree_out = \"Collapsed Tree gt\""
   ]
  },
  {
   "cell_type": "markdown",
   "metadata": {},
   "source": [
    "GE color gradient"
   ]
  },
  {
   "cell_type": "code",
   "execution_count": 44,
   "metadata": {
    "scrolled": true
   },
   "outputs": [],
   "source": [
    "files = []\n",
    "files += itol_manager.create_gradient_from_df(ge_leaves, tree, 'GE-1-leaves')"
   ]
  },
  {
   "cell_type": "markdown",
   "metadata": {},
   "source": [
    "Annotations"
   ]
  },
  {
   "cell_type": "code",
   "execution_count": 45,
   "metadata": {},
   "outputs": [],
   "source": [
    "files += [itol_manager.create_annotation_file_for_itol(tree, ge, 'annotations/annotations_imputed.txt')]\n",
    "files += [itol_manager.create_annotation_file_for_itol(tree, ge_gt, 'annotations/annotations_gt.txt')]\n",
    "files += [itol_manager.create_annotation_file_for_itol(tree, ge_avg, 'annotations/annotations_avg.txt')]\n",
    "files += [itol_manager.create_annotation_file_for_itol(tree, ge_scvi, 'annotations/annotations_scvi.txt')]\n",
    "#files += [itol_manager.create_annotation_file_for_itol(tree, variance, 'annotations/variance_analysis.txt')]"
   ]
  },
  {
   "cell_type": "code",
   "execution_count": 46,
   "metadata": {},
   "outputs": [
    {
     "data": {
      "text/plain": [
       "['GE-1-leaves.GE-1-leaves.txt',\n",
       " 'annotations/annotations_imputed.txt',\n",
       " 'annotations/annotations_gt.txt',\n",
       " 'annotations/annotations_avg.txt',\n",
       " 'annotations/annotations_scvi.txt']"
      ]
     },
     "execution_count": 46,
     "metadata": {},
     "output_type": "execute_result"
    }
   ],
   "source": [
    "files"
   ]
  },
  {
   "cell_type": "code",
   "execution_count": 47,
   "metadata": {},
   "outputs": [
    {
     "name": "stdout",
     "output_type": "stream",
     "text": [
      "iTOL output: ERR 8: In annotations_avg.txt: Couldn't find ID 0|0|0|0|0|0|0|0|0|0|0|0|0|0|0|0|0|0|0|0|0|0|0|0|0|0|0|0|0 in the tree\n",
      "ERR 8: In annotations_gt.txt: Couldn't find ID 0|0|0|0|0|0|0|0|0|0|0|0|0|0|0|0|0|0|0|0|0|0|0|0|0|0|0|0|0 in the tree\n",
      "ERR 8: In annotations_imputed.txt: Couldn't find ID 0|0|0|0|0|0|0|0|0|0|0|0|0|0|0|0|0|0|0|0|0|0|0|0|0|0|0|0|0 in the tree\n",
      "ERR 8: In annotations_scvi.txt: Couldn't find ID 0|0|0|0|0|0|0|0|0|0|0|0|0|0|0|0|0|0|0|0|0|0|0|0|0|0|0|0|0 in the tree\n",
      "SUCCESS: 18423239310401607468647\n",
      "\n",
      "Tree Web Page URL: http://itol.embl.de/external.cgi?tree=18423239310401607468647&restore_saved=1\n",
      "Warnings: [\"ERR 8: In annotations_avg.txt: Couldn't find ID 0|0|0|0|0|0|0|0|0|0|0|0|0|0|0|0|0|0|0|0|0|0|0|0|0|0|0|0|0 in the tree\", \"ERR 8: In annotations_gt.txt: Couldn't find ID 0|0|0|0|0|0|0|0|0|0|0|0|0|0|0|0|0|0|0|0|0|0|0|0|0|0|0|0|0 in the tree\", \"ERR 8: In annotations_imputed.txt: Couldn't find ID 0|0|0|0|0|0|0|0|0|0|0|0|0|0|0|0|0|0|0|0|0|0|0|0|0|0|0|0|0 in the tree\", \"ERR 8: In annotations_scvi.txt: Couldn't find ID 0|0|0|0|0|0|0|0|0|0|0|0|0|0|0|0|0|0|0|0|0|0|0|0|0|0|0|0|0 in the tree\"]\n"
     ]
    }
   ],
   "source": [
    "plot_tree_itol.upload_to_itol(tree, apiKey, projectName, \n",
    "                              files = files, outfp = tree_out,\n",
    "                              tree_name = 'collapsed_tree_gt')"
   ]
  },
  {
   "cell_type": "code",
   "execution_count": 18,
   "metadata": {},
   "outputs": [],
   "source": [
    "# clean up workspace\n",
    "for file in files:\n",
    "    os.remove(file)"
   ]
  }
 ],
 "metadata": {
  "kernelspec": {
   "display_name": "Python 3",
   "language": "python",
   "name": "python3"
  },
  "language_info": {
   "codemirror_mode": {
    "name": "ipython",
    "version": 3
   },
   "file_extension": ".py",
   "mimetype": "text/x-python",
   "name": "python",
   "nbconvert_exporter": "python",
   "pygments_lexer": "ipython3",
   "version": "3.7.7"
  }
 },
 "nbformat": 4,
 "nbformat_minor": 4
}
