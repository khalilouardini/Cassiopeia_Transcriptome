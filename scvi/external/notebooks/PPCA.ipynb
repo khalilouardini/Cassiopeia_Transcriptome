{
 "cells": [
  {
   "cell_type": "markdown",
   "metadata": {},
   "source": [
    "# 0. Standard imports"
   ]
  },
  {
   "cell_type": "code",
   "execution_count": 3,
   "metadata": {},
   "outputs": [],
   "source": [
    "%load_ext autoreload\n",
    "%autoreload 2\n",
    "%matplotlib inline\n",
    "\n",
    "import os\n",
    "import sys\n",
    "import seaborn as sns\n",
    "import matplotlib.pyplot as plt\n",
    "import numpy as np\n",
    "import pandas as pd\n",
    "sys.path.append('/Users/khalilouardini/Desktop/projects/cascVI/scvi')"
   ]
  },
  {
   "cell_type": "markdown",
   "metadata": {},
   "source": [
    "***import ete3 Tree***"
   ]
  },
  {
   "cell_type": "code",
   "execution_count": 4,
   "metadata": {},
   "outputs": [],
   "source": [
    "from ete3 import Tree\n",
    "\n",
    "#tree_name = \"/Users/khalilouardini/Desktop/projects/scVI/scvi/data/Cassiopeia_trees/3726_NT_T1_tree.processed.collapsed.tree\"\n",
    "#tree_name = \"/Users/khalilouardini/Desktop/projects/scVI/scvi/data/Cassiopeia_trees/tree_test.txt\"\n",
    "#tree = Tree(tree_name, 1)\n",
    "\n",
    "tree = Tree()\n",
    "tree.populate(20)\n",
    "\n",
    "leaves = tree.get_leaves()\n",
    "\n",
    "for i, n in enumerate(tree.traverse('levelorder')):\n",
    "    n.add_features(index=i)\n",
    "    if not n.is_leaf():\n",
    "        n.name = str(i)"
   ]
  },
  {
   "cell_type": "code",
   "execution_count": 5,
   "metadata": {},
   "outputs": [],
   "source": [
    "# Data\n",
    "from anndata import AnnData\n",
    "from sklearn.manifold import TSNE\n",
    "import matplotlib.pyplot as plt\n",
    "from dataset.tree import TreeDataset, GeneExpressionDataset\n",
    "from dataset.poisson_glm import Poisson_GLM\n",
    "from dataset.ppca import PPCA\n",
    "from dataset.anndataset import AnnDatasetFromAnnData\n",
    "\n",
    "# Models\n",
    "from models import *;\n",
    "import scanpy as sc\n",
    "from inference.tree_inference import TreeTrainer\n",
    "from inference.inference import UnsupervisedTrainer\n",
    "from inference import posterior\n",
    "from models.treevae import TreeVAE\n",
    "\n",
    "# Utils\n",
    "from utils.data_util import get_leaves, get_internal\n",
    "from utils.metrics import ks_pvalue, accuracy_imputation, correlations, correlations2, knn_purity, knn_purity_stratified\n",
    "from utils.plots_util import plot_histograms, plot_scatter_mean, plot_ecdf_ks, plot_density, plot_embedding\n",
    "from utils.plots_util import plot_losses, plot_elbo, plot_common_ancestor, plot_one_gene, training_dashboard\n",
    "from utils.baselines import avg_weighted_baseline, scvi_baseline, scvi_baseline_z, cascvi_baseline_z"
   ]
  },
  {
   "cell_type": "markdown",
   "metadata": {},
   "source": [
    "# 1. Simulations (Gaussian Likelihood model)"
   ]
  },
  {
   "cell_type": "markdown",
   "metadata": {},
   "source": [
    "We assume that the latent variables $z \\in \\mathbb{R}^{N x D}$ are gaussian (correlated). A phylogenetic tree $\\tau$ (with $N$ nodes) encodes the covariance $\\Sigma$ of $z$. \n",
    "\n",
    "$$\\mathbf{z}=(z_1, ..., z_N) \\sim \\mathcal{N}(0, \\Sigma)$$\n",
    "\n",
    "$z$ is partitionned into two groups:\n",
    "\n",
    "- the leaves $\\mathcal{L} = {1, ..., L}$\n",
    "- the internal nodes $\\mathcal{I} = {L + 1, ..., N}$\n",
    "\n",
    "***\n",
    "\n",
    "***We describe the generative model***:\n",
    "\n",
    "Consider a dataset of $ X={x_n}_{n=1}^{L} $ (also partitioned such that $1, ..., N = \\mathcal{L} \\bigcup \\mathcal{I}$) such that $x_n \\in \\mathbb{R}^{P}$. We aim to represent each $x_n$ under a latent variable $z_n \\in \\mathbb{R}^{D}$ with  with $D << P$ lower dimension. \n",
    "We only observe data at the leaves. the generative model is defined $\\forall n \\in \\mathcal{L}$\n",
    "\n",
    "The set of principal axes $W$ relates the latent variables to the data.\n",
    "\n",
    "The corresponding data point is generated via a projection:\n",
    "\n",
    "$$\n",
    "\\forall n \\in \\mathcal{L}, x_n =  W z_n + e_n\n",
    "$$\n",
    "\n",
    "with $W \\in \\mathbb{R}^{P x D}$ and $e_n \\sim \\mathcal{N}(0, \\sigma^2 I_P)$. Thus:\n",
    "\n",
    "\n",
    "$$\n",
    "\\forall n \\in \\mathcal{L},  x_n | z_n \\sim \\mathcal{N}(W z_n, \\sigma^2 I_P)\n",
    "$$\n",
    "\n",
    "After marginalization\n",
    "\n",
    "$$\n",
    "\\forall n \\in \\mathcal{L}, x_n \\sim \\mathcal{N}(0, W^T W + \\sigma^2 I_P)\n",
    "$$\n",
    "\n",
    "The posterior $p(z_n|x_n)$ for each $n$ is also ***tractable***, indeed\n",
    "\n",
    "$\\begin{pmatrix} x_n \\\\ z_n \\end{pmatrix} = \\begin{pmatrix} W z_n + e \\\\ z_n \\end{pmatrix}$ is a gaussian vector (because for $a \\in \\mathbb{R}$, $b \\in \\mathbb{R}$, $a(W z_n + e) + bz_n$ is still gaussian) such that:\n",
    "\n",
    "$$\n",
    "\\begin{pmatrix} x_n \\\\ z_n \\end{pmatrix} \\sim \\mathcal{N}(\\begin{pmatrix} 0 \\\\ 0 \\end{pmatrix}, \\begin{pmatrix} W^T W + \\sigma^2 I_P  & W\\Sigma_n \\\\ (W\\Sigma_n)^T & \\Sigma_n \\end{pmatrix})\n",
    "$$\n",
    "\n",
    "where $\\Sigma_n$ is the marginalized covariance $\\Sigma$ of $z_n$\n",
    "\n",
    "Therefore we can use the conditioning formula to infer the mean and the covariance of the (gaussian) posterior $p(z_n|x_n)$:\n",
    "\n",
    "$$\n",
    "\\mu_{z_n|x_n} = (W\\Sigma_{n}(W^{T} W + \\sigma^{2} I_{P})^{-1}\\Sigma_{n}^{T}W^{T}) x_{n} \\\\\n",
    "\\Sigma_{z_n|x_n} = \\Sigma_n - W\\Sigma_{n}(W^{T} W + \\sigma^{2} I_{P})^{-1}\\Sigma_{n}^{T}W^{T}\n",
    "$$\n",
    "\n",
    "***\n",
    "\n",
    "***Imputation at internal nodes***\n",
    "\n",
    "Let $j \\in \\mathcal{I}$, and $X_{\\mathcal{L}} = {x_1, ... x_L}$ the set of leaves.\n",
    "We want to infer $p(x_j|X_{\\mathcal{L}})$. If we consider that the data at the internal nodes is \"seen\" and that the generative model is also known $\\forall n \\in \\mathcal{I}$, we could easily (and accurately) compute $p(x_j|X_{\\mathcal{L}})$ by using the gaussian conditioning formula on the gaussian vector:\n",
    "\n",
    "$$\n",
    "\\begin{pmatrix} x_j \\\\ X_{\\mathcal{L}} \\end{pmatrix}\n",
    "$$\n",
    "\n",
    "In the case of unseen data at the internal nodes, one can estimate the posterior predictive density:\n",
    "\n",
    "1. $$\n",
    "p(x_j|X_{\\mathcal{L}}) = p(x_j|x_1, ..., x_L) = \\int p(x_j|z_j)p(z_j|z_1,...,z_L)\\prod_{i=1}^{L}p(z_i|x_i)(dz_j,dz_1,...,dz_L)\n",
    "$$\n",
    "\n",
    "Therefore:\n",
    "$$\n",
    "p(x_j|x_1, ..., x_L) \\approx  p(x_j|z_j)p(z_j|z_1,...,z_L)\\prod_{i=1}^{L}p(z_i|x_i)\n",
    "$$\n",
    "\n",
    "$$\n",
    "p(x_j|x_1, ..., x_L) \\approx  \\mathcal{N}(x_j|Wz_j, \\sigma^2I_P)  \\mathcal{N}(z_j|\\mu_{j|\\mathcal{I}}, \\Sigma_{j|\\mathcal{I}}) \\prod_{i=1}^{L} \\mathcal{N}(z_i|\\mu_{z_i|x_i}, \\Sigma_{z_i|x_i})\n",
    "$$\n",
    "\n",
    "2. $ p(x_j|X_{\\mathcal{L}}) = Wp(z_j|X_{\\mathcal{L}}) + p(e_j)$"
   ]
  },
  {
   "cell_type": "code",
   "execution_count": 6,
   "metadata": {},
   "outputs": [
    {
     "name": "stdout",
     "output_type": "stream",
     "text": [
      "\n",
      "         /-aaaaaaaaaa\n",
      "      /-|\n",
      "     |   \\-aaaaaaaaab\n",
      "   /-|\n",
      "  |  |   /-aaaaaaaaac\n",
      "  |   \\-|\n",
      "  |      \\-aaaaaaaaad\n",
      "  |\n",
      "--|      /-aaaaaaaaae\n",
      "  |   /-|\n",
      "  |  |  |   /-aaaaaaaaaf\n",
      "  |  |   \\-|\n",
      "  |  |      \\-aaaaaaaaag\n",
      "  |  |\n",
      "   \\-|      /-aaaaaaaaah\n",
      "     |   /-|\n",
      "     |  |  |   /-aaaaaaaaai\n",
      "     |  |   \\-|\n",
      "     |  |      \\-aaaaaaaaaj\n",
      "     |  |\n",
      "      \\-|      /-aaaaaaaaak\n",
      "        |   /-|\n",
      "        |  |  |   /-aaaaaaaaal\n",
      "        |  |   \\-|\n",
      "        |  |      \\-aaaaaaaaam\n",
      "         \\-|\n",
      "           |      /-aaaaaaaaan\n",
      "           |   /-|\n",
      "           |  |   \\-aaaaaaaaao\n",
      "            \\-|\n",
      "              |   /-aaaaaaaaap\n",
      "               \\-|\n",
      "                 |   /-aaaaaaaaaq\n",
      "                  \\-|\n",
      "                    |   /-aaaaaaaaar\n",
      "                     \\-|\n",
      "                       |   /-aaaaaaaaas\n",
      "                        \\-|\n",
      "                           \\-aaaaaaaaat\n"
     ]
    }
   ],
   "source": [
    "print(tree)"
   ]
  },
  {
   "cell_type": "code",
   "execution_count": 7,
   "metadata": {},
   "outputs": [],
   "source": [
    "d = 5\n",
    "p = 100\n",
    "vis = True\n",
    "leaves_only = False\n",
    "var = 1.0\n",
    "sigma_scale = 1.0\n",
    "\n",
    "ppca = PPCA(tree, p, d, vis, leaves_only, var, sigma_scale)\n",
    "\n",
    "ppca.simulate_latent()"
   ]
  },
  {
   "cell_type": "markdown",
   "metadata": {},
   "source": [
    "***Marginalization***"
   ]
  },
  {
   "cell_type": "code",
   "execution_count": 8,
   "metadata": {},
   "outputs": [
    {
     "data": {
      "text/plain": [
       "(100, 100)"
      ]
     },
     "execution_count": 8,
     "metadata": {},
     "output_type": "execute_result"
    }
   ],
   "source": [
    "ppca.leaves_covariance_z.shape"
   ]
  },
  {
   "cell_type": "code",
   "execution_count": 78,
   "metadata": {},
   "outputs": [],
   "source": [
    "ppca.simulate_normal()"
   ]
  },
  {
   "cell_type": "code",
   "execution_count": 79,
   "metadata": {},
   "outputs": [
    {
     "name": "stdout",
     "output_type": "stream",
     "text": [
      "Log-Likelihood of the tree -6130.980496595257\n",
      "LogLikelihood of the leaves -3133.6575982758677\n"
     ]
    }
   ],
   "source": [
    "lik_tree = ppca.likelihood_obs(leaves_only=False)\n",
    "lik_leaves = ppca.likelihood_obs(leaves_only=True)\n",
    "\n",
    "print(\"Log-Likelihood of the tree {}\".format(lik_tree))\n",
    "print(\"LogLikelihood of the leaves {}\".format(lik_leaves))"
   ]
  },
  {
   "cell_type": "markdown",
   "metadata": {},
   "source": [
    "***Get data***"
   ]
  },
  {
   "cell_type": "code",
   "execution_count": 80,
   "metadata": {},
   "outputs": [
    {
     "data": {
      "text/plain": [
       "((20, 100), (20, 100), (19, 100), (19, 100), (20, 5))"
      ]
     },
     "execution_count": 80,
     "metadata": {},
     "output_type": "execute_result"
    }
   ],
   "source": [
    "# Latent vectors\n",
    "leaves_z, _, _ = get_leaves(ppca.z, ppca.mu, tree)\n",
    "\n",
    "#FIXED training set\n",
    "leaves_X, leaves_idx, mu = get_leaves(ppca.X, ppca.mu, tree)\n",
    "\n",
    "# internal nodes data (for imputation)\n",
    "internal_X, internal_idx, internal_mu = get_internal(ppca.X, ppca.mu, tree)\n",
    "\n",
    "leaves_X.shape, mu.shape, internal_X.shape, internal_mu.shape, leaves_z.shape"
   ]
  },
  {
   "cell_type": "markdown",
   "metadata": {},
   "source": [
    "***Posterior Distributions***"
   ]
  },
  {
   "cell_type": "markdown",
   "metadata": {},
   "source": [
    "evidence"
   ]
  },
  {
   "cell_type": "code",
   "execution_count": 81,
   "metadata": {},
   "outputs": [
    {
     "data": {
      "text/plain": [
       "(2000,)"
      ]
     },
     "execution_count": 81,
     "metadata": {},
     "output_type": "execute_result"
    }
   ],
   "source": [
    "evidence_leaves = ppca.get_evidence_leaves_levelorder(X=ppca.X, dim=ppca.dim)\n",
    "evidence_leaves.shape"
   ]
  },
  {
   "cell_type": "markdown",
   "metadata": {},
   "source": [
    "Leaves covariance"
   ]
  },
  {
   "cell_type": "code",
   "execution_count": 82,
   "metadata": {},
   "outputs": [],
   "source": [
    "ppca.compute_leaves_covariance()"
   ]
  },
  {
   "cell_type": "markdown",
   "metadata": {},
   "source": [
    "Posterior mean and covariance"
   ]
  },
  {
   "cell_type": "code",
   "execution_count": 83,
   "metadata": {},
   "outputs": [],
   "source": [
    "posterior_mean, posterior_cov = ppca.compute_posterior()"
   ]
  },
  {
   "cell_type": "markdown",
   "metadata": {},
   "source": [
    "Posterior predictive density "
   ]
  },
  {
   "cell_type": "code",
   "execution_count": 84,
   "metadata": {},
   "outputs": [],
   "source": [
    "predictive_mean, predictive_cov = ppca.compute_posterior_predictive()"
   ]
  },
  {
   "cell_type": "markdown",
   "metadata": {},
   "source": [
    "## Preliminary: Baselines"
   ]
  },
  {
   "cell_type": "markdown",
   "metadata": {},
   "source": [
    "***Baseline 1: Unweighted Average of gene expression in Clade***\n",
    "\n",
    "The simple idea here is to impute the value of an internal node, with the (un)weighted average of the gene expression values of the leaves, taking the query internal node as the root of the subtree."
   ]
  },
  {
   "cell_type": "code",
   "execution_count": 99,
   "metadata": {},
   "outputs": [],
   "source": [
    "weighted = True\n",
    "imputed_avg = avg_weighted_baseline(tree=tree, \n",
    "                                    weighted=True, \n",
    "                                    X=ppca.X,\n",
    "                                    rounding=False)\n",
    "\n",
    "#get internal nodes\n",
    "avg_X = np.array([x for x in imputed_avg.values()]).reshape(-1, ppca.X.shape[1])\n",
    "internal_avg_X, _, _ = get_internal(avg_X, ppca.mu, tree)"
   ]
  },
  {
   "cell_type": "markdown",
   "metadata": {},
   "source": [
    "***Baseline 2: (groundtruth) posterior predictive density***"
   ]
  },
  {
   "cell_type": "code",
   "execution_count": 100,
   "metadata": {},
   "outputs": [
    {
     "name": "stderr",
     "output_type": "stream",
     "text": [
      "//anaconda3/envs/berkeley/lib/python3.7/site-packages/ipykernel_launcher.py:6: RuntimeWarning: covariance is not positive-semidefinite.\n",
      "  \n"
     ]
    }
   ],
   "source": [
    "imputed_ppca = {}\n",
    "for n in tree.traverse('levelorder'):\n",
    "    if not n.is_leaf():\n",
    "        samples = np.array([np.random.multivariate_normal(mean=predictive_mean[n.name],\n",
    "                                                            cov=predictive_cov[n.name])\n",
    "                           for i in range(20)])\n",
    "        imputed_ppca[n.name] = np.mean(samples, axis=0)\n",
    "\n",
    "internal_ppca_X = np.array([x for x in imputed_ppca.values()]).reshape(-1, ppca.X.shape[1])"
   ]
  },
  {
   "cell_type": "markdown",
   "metadata": {},
   "source": [
    "***Baseline 3: Message Passing Oracle***\n",
    "\n",
    "\n",
    "i.e, \n",
    "\n",
    "1. sample from $z_1, ..., z_n \\sim p(z_1, ..., z_n|x_1, ..., x_n)$ (conditionning formula)\n",
    "2. impute $z_i \\sim p(z_i | z_1, ..., z_n)$ (Message Passing)\n",
    "3. Decode $p(x_i|z_i) = W z_i + \\sigma^2 I_P$ (Generative model)"
   ]
  },
  {
   "cell_type": "code",
   "execution_count": null,
   "metadata": {},
   "outputs": [],
   "source": []
  },
  {
   "cell_type": "code",
   "execution_count": 101,
   "metadata": {},
   "outputs": [
    {
     "data": {
      "image/png": "[encoded data removed]",
      "text/plain": [
       "<Figure size 1440x360 with 3 Axes>"
      ]
     },
     "metadata": {
      "needs_background": "light"
     },
     "output_type": "display_data"
    }
   ],
   "source": [
    "data = {'groundtruth': internal_X.T, 'average': internal_avg_X.T, 'ppca':internal_ppca_X.T}\n",
    "df1 = correlations2(data, 'None', True)\n",
    "df1.head(5)\n",
    "plt.show()"
   ]
  },
  {
   "cell_type": "code",
   "execution_count": 103,
   "metadata": {},
   "outputs": [
    {
     "data": {
      "text/plain": [
       "((100,), (100, 100))"
      ]
     },
     "execution_count": 103,
     "metadata": {},
     "output_type": "execute_result"
    }
   ],
   "source": [
    "predictive_mean['0'].shape, predictive_cov['0'].shape"
   ]
  },
  {
   "cell_type": "markdown",
   "metadata": {},
   "source": [
    "# 2. Fitting CascVI"
   ]
  },
  {
   "cell_type": "code",
   "execution_count": null,
   "metadata": {},
   "outputs": [],
   "source": [
    "import scanpy as sc\n",
    "\n",
    "# anndata + gene and celle filtering\n",
    "adata = AnnData(leaves_X)\n",
    "adata.obs_names = [n.name for n in list(tree.get_leaves())]\n",
    "#sc.pp.filter_genes(adata, min_counts=3)\n",
    "#sc.pp.filter_cells(adata, min_counts=0)"
   ]
  },
  {
   "cell_type": "code",
   "execution_count": null,
   "metadata": {},
   "outputs": [],
   "source": [
    "scvi_dataset = AnnDatasetFromAnnData(adata)\n",
    "scvi_dataset.initialize_cell_attribute('barcodes', adata.obs_names)"
   ]
  },
  {
   "cell_type": "markdown",
   "metadata": {},
   "source": [
    "***Create a TreeDataset object***"
   ]
  },
  {
   "cell_type": "code",
   "execution_count": null,
   "metadata": {},
   "outputs": [],
   "source": [
    "# treeVAE\n",
    "import copy\n",
    "\n",
    "tree_bis = copy.deepcopy(tree)\n",
    "cas_dataset = TreeDataset(scvi_dataset, tree=tree_bis)\n",
    "cas_dataset\n",
    "\n",
    "# No batches beacause of the message passing\n",
    "use_batches = False\n",
    "use_cuda = False"
   ]
  },
  {
   "cell_type": "markdown",
   "metadata": {},
   "source": [
    "***Initialize model***"
   ]
  },
  {
   "cell_type": "code",
   "execution_count": null,
   "metadata": {},
   "outputs": [],
   "source": [
    "#var = 1.0\n",
    "vae = TreeVAE(cas_dataset.nb_genes,\n",
    "              tree = tree,\n",
    "              n_batch=cas_dataset.n_batches * use_batches,\n",
    "              n_latent=glm.latent,\n",
    "              n_hidden=128,\n",
    "              n_layers=1,\n",
    "              reconstruction_loss='poisson',\n",
    "              prior_t = var,\n",
    "              ldvae = False\n",
    "             )"
   ]
  },
  {
   "cell_type": "markdown",
   "metadata": {},
   "source": [
    "***Hyperparameters***"
   ]
  },
  {
   "cell_type": "code",
   "execution_count": null,
   "metadata": {},
   "outputs": [],
   "source": [
    "n_epochs = 400\n",
    "lr = 1e-3\n",
    "lambda_ = 1.0"
   ]
  },
  {
   "cell_type": "markdown",
   "metadata": {},
   "source": [
    "***trainer***"
   ]
  },
  {
   "cell_type": "code",
   "execution_count": null,
   "metadata": {
    "scrolled": true
   },
   "outputs": [],
   "source": [
    "freq = 10\n",
    "trainer = TreeTrainer(\n",
    "    model = vae,\n",
    "    gene_dataset = cas_dataset,\n",
    "    lambda_ = lambda_,\n",
    "    train_size=1.0,\n",
    "    test_size=0,\n",
    "    use_cuda=use_cuda,\n",
    "    frequency=freq,\n",
    "    n_epochs_kl_warmup=None\n",
    ")"
   ]
  },
  {
   "cell_type": "markdown",
   "metadata": {},
   "source": [
    "***Start training***"
   ]
  },
  {
   "cell_type": "code",
   "execution_count": null,
   "metadata": {
    "scrolled": true
   },
   "outputs": [],
   "source": [
    "trainer.train(n_epochs=n_epochs,\n",
    "              lr=lr)"
   ]
  },
  {
   "cell_type": "markdown",
   "metadata": {},
   "source": [
    "***Loss Functions***"
   ]
  },
  {
   "cell_type": "code",
   "execution_count": null,
   "metadata": {},
   "outputs": [],
   "source": [
    "training_dashboard(trainer, vae.encoder_variance)"
   ]
  },
  {
   "cell_type": "markdown",
   "metadata": {},
   "source": [
    "### 3. Posterior and MV imputation"
   ]
  },
  {
   "cell_type": "code",
   "execution_count": null,
   "metadata": {},
   "outputs": [],
   "source": [
    "full_posterior = trainer.create_posterior(trainer.model, cas_dataset, trainer.clades,\n",
    "                                indices=np.arange(len(cas_dataset))\n",
    "                                         )"
   ]
  },
  {
   "cell_type": "markdown",
   "metadata": {},
   "source": [
    "***Missing Value imputation By Posterior Predictive sampling***"
   ]
  },
  {
   "cell_type": "code",
   "execution_count": null,
   "metadata": {},
   "outputs": [],
   "source": [
    "empirical_l = np.mean(np.sum(glm.X, axis=1))\n",
    "\n",
    "# CascVI impitations\n",
    "imputed = {}\n",
    "imputed_z = {}\n",
    "imputed_gt = {}\n",
    "\n",
    "for n in tree.traverse('levelorder'):\n",
    "    if not n.is_leaf():\n",
    "        imputed[n.name], imputed_z[n.name] = full_posterior.imputation_internal(n.name,\n",
    "                                                            give_mean=False,\n",
    "                                                            library_size=empirical_l\n",
    "                                                           )\n",
    "        imputed_gt[n.name] = glm.X[n.index]"
   ]
  },
  {
   "cell_type": "code",
   "execution_count": null,
   "metadata": {
    "scrolled": true
   },
   "outputs": [],
   "source": [
    "imputed_X = [x for x in imputed.values()]\n",
    "imputed_X = np.array(imputed_X).reshape(-1, cas_dataset.X.shape[1])\n",
    "#plot_histograms(imputed_X, \"Histogram of CasscVI imputed gene expression data\")"
   ]
  },
  {
   "cell_type": "markdown",
   "metadata": {},
   "source": [
    "***CascVI Baseline 1 (Average of reconstructions)***"
   ]
  },
  {
   "cell_type": "code",
   "execution_count": null,
   "metadata": {},
   "outputs": [],
   "source": [
    "imputed_cascvi_1 = scvi_baseline(tree, full_posterior, True)"
   ]
  },
  {
   "cell_type": "markdown",
   "metadata": {},
   "source": [
    "***CascVI Baseline 2 (Reconstruction of Averaged latent space)***"
   ]
  },
  {
   "cell_type": "code",
   "execution_count": null,
   "metadata": {},
   "outputs": [],
   "source": [
    "imputed_cascvi_2, imputed_cascvi_2_z = scvi_baseline_z(tree=tree,\n",
    "                                   model=vae,\n",
    "                                   posterior=full_posterior,\n",
    "                                   weighted=True,\n",
    "                                   n_samples_z=1,\n",
    "                                   library_size=empirical_l\n",
    "                                  )"
   ]
  },
  {
   "cell_type": "markdown",
   "metadata": {},
   "source": [
    "# 4. Baselines"
   ]
  },
  {
   "cell_type": "markdown",
   "metadata": {},
   "source": [
    "***Baseline 1: Unweighted Average of gene expression in Clade***\n",
    "\n",
    "The simple idea here is to impute the value of an internal node, with the (un)weighted average of the gene expression values of the leaves, taking the query internal node as the root of the subtree."
   ]
  },
  {
   "cell_type": "code",
   "execution_count": null,
   "metadata": {},
   "outputs": [],
   "source": [
    "weighted = True\n",
    "imputed_avg = avg_weighted_baseline(tree, True, glm.X)\n",
    "\n",
    "#get internal nodes\n",
    "avg_X = np.array([x for x in imputed_avg.values()]).reshape(-1, glm.X.shape[1])\n",
    "internal_avg_X, _, _ = get_internal(avg_X, glm.mu, tree)\n",
    "#plot_histograms(avg_X,\n",
    "#               'Histograms of imputed GE values with the average baseline')"
   ]
  },
  {
   "cell_type": "markdown",
   "metadata": {},
   "source": [
    "***Baseline 2: (Un)weighted Average of decoded latent vectors, with scVI***"
   ]
  },
  {
   "cell_type": "markdown",
   "metadata": {},
   "source": [
    "We use the same averaging of the subtrees leaves in **Baseline 1**, only this time, the gene expression data is recovered with scVI"
   ]
  },
  {
   "cell_type": "code",
   "execution_count": null,
   "metadata": {},
   "outputs": [],
   "source": [
    "# anndata\n",
    "gene_dataset = GeneExpressionDataset()\n",
    "gene_dataset.populate_from_data(leaves_X)"
   ]
  },
  {
   "cell_type": "code",
   "execution_count": null,
   "metadata": {},
   "outputs": [],
   "source": [
    "n_epochs = 400\n",
    "\n",
    "vae_scvi = VAE(gene_dataset.nb_genes,\n",
    "                  n_batch=cas_dataset.n_batches * use_batches,\n",
    "                  n_hidden=128,\n",
    "                  n_layers=1,\n",
    "                  reconstruction_loss='poisson',\n",
    "                  n_latent=glm.latent)\n",
    "\n",
    "trainer_scvi = UnsupervisedTrainer(model=vae_scvi,\n",
    "                              gene_dataset=gene_dataset,\n",
    "                              train_size=1.0,\n",
    "                              use_cuda=use_cuda,\n",
    "                              frequency=10,\n",
    "                              n_epochs_kl_warmup=None)\n",
    "\n",
    "# train scVI\n",
    "trainer_scvi.train(n_epochs=n_epochs, lr=1e-3) \n",
    "                                        \n",
    "elbo_train_scvi = trainer_scvi.history[\"elbo_train_set\"]\n",
    "x = np.linspace(0, 100, (len(elbo_train_scvi)))\n",
    "plt.plot(np.log(elbo_train_scvi), \n",
    "         label=\"train\", color='blue',\n",
    "         linestyle=':',\n",
    "         linewidth=3\n",
    "        )\n",
    "plt.xlabel('Epoch')\n",
    "plt.ylabel(\"ELBO\")\n",
    "plt.legend()\n",
    "plt.title(\"Train history scVI\")\n",
    "plt.show()"
   ]
  },
  {
   "cell_type": "markdown",
   "metadata": {},
   "source": [
    "***scVI Baseline 1 (Average of reconstructions)***"
   ]
  },
  {
   "cell_type": "code",
   "execution_count": null,
   "metadata": {},
   "outputs": [],
   "source": [
    "scvi_posterior = trainer_scvi.create_posterior(model=vae_scvi,\n",
    "                                              gene_dataset=gene_dataset\n",
    "                                              )\n",
    "\n",
    "imputed_scvi, imputed_scvi_z = scvi_baseline(tree=tree, \n",
    "                                             posterior=scvi_posterior, \n",
    "                                             weighted=True,\n",
    "                                            give_latent=True,\n",
    "                                            n_samples_z=1)\n",
    "\n",
    "scvi_latent = scvi_posterior.get_latent()[0]\n",
    "scvi_latent.shape"
   ]
  },
  {
   "cell_type": "markdown",
   "metadata": {},
   "source": [
    "***scVI Baseline 2 (Decoded Average Latent space)***"
   ]
  },
  {
   "cell_type": "code",
   "execution_count": null,
   "metadata": {},
   "outputs": [],
   "source": [
    "library_size = np.mean(np.sum(glm.X, axis=1))\n",
    "imputed_scvi_2, imputed_scvi_2_z = scvi_baseline_z(tree=tree,\n",
    "                                 model=vae_scvi,\n",
    "                                 posterior=scvi_posterior,\n",
    "                                 weighted=True,\n",
    "                                 n_samples_z=1,\n",
    "                                 library_size=library_size\n",
    "                                )\n"
   ]
  },
  {
   "cell_type": "markdown",
   "metadata": {},
   "source": [
    "***CascVI Baseline 3***"
   ]
  },
  {
   "cell_type": "code",
   "execution_count": null,
   "metadata": {},
   "outputs": [],
   "source": [
    "imputed_cascvi_3 = cascvi_baseline_z(tree=tree,\n",
    "                                   model=vae_scvi,\n",
    "                                   latent=imputed_z,\n",
    "                                   library_size=library_size\n",
    "                                  )"
   ]
  },
  {
   "cell_type": "markdown",
   "metadata": {},
   "source": [
    "***(Bonus) MP Imputation with scVI latent space***"
   ]
  },
  {
   "cell_type": "code",
   "execution_count": null,
   "metadata": {},
   "outputs": [],
   "source": [
    "empirical_l = library_size\n",
    "\n",
    "# CascVI impitations\n",
    "imputed_bis = {}\n",
    "imputed_z_bis = {}\n",
    "\n",
    "for n in tree.traverse('levelorder'):\n",
    "    if not n.is_leaf():\n",
    "        imputed_bis[n.name], imputed_z_bis[n.name] = full_posterior.imputation_internal(n.name,\n",
    "                                                            give_mean=False,\n",
    "                                                            library_size=empirical_l,\n",
    "                                                            other_posterior=scvi_posterior\n",
    "                                                           )"
   ]
  },
  {
   "cell_type": "markdown",
   "metadata": {},
   "source": [
    "# 5. Likelihood Ratio"
   ]
  },
  {
   "cell_type": "code",
   "execution_count": null,
   "metadata": {},
   "outputs": [],
   "source": [
    "cascvi_latent = full_posterior.get_latent()[0]\n",
    "scvi_latent.shape, cascvi_latent.shape"
   ]
  },
  {
   "cell_type": "code",
   "execution_count": null,
   "metadata": {},
   "outputs": [],
   "source": [
    "vae.initialize_visit()\n",
    "vae.initialize_messages(scvi_posterior.get_latent()[0], cas_dataset.barcodes, scvi_latent.shape[1])\n",
    "vae.perform_message_passing((vae.tree & vae.root), scvi_latent.shape[1], False)\n",
    "mp_lik_scvi = vae.aggregate_messages_into_leaves_likelihood(d, add_prior=True)\n",
    "print(\"Likelihood of scVI encodings: \", mp_lik_scvi.item())"
   ]
  },
  {
   "cell_type": "code",
   "execution_count": null,
   "metadata": {},
   "outputs": [],
   "source": [
    "vae.initialize_visit()\n",
    "vae.initialize_messages(full_posterior.get_latent()[0], cas_dataset.barcodes, cascvi_latent.shape[1])\n",
    "vae.perform_message_passing((vae.tree & vae.root), cascvi_latent.shape[1], False)\n",
    "mp_lik_cascvi = vae.aggregate_messages_into_leaves_likelihood(d, add_prior=True)\n",
    "print(\"Likelihood of cascVI encodings: \", mp_lik_cascvi.item())"
   ]
  },
  {
   "cell_type": "code",
   "execution_count": null,
   "metadata": {},
   "outputs": [],
   "source": [
    "# Likelihood ratio\n",
    "lambda_ = (mp_lik_cascvi - mp_lik_scvi)\n",
    "print(\"Likelihood Ratio:\", lambda_)"
   ]
  },
  {
   "cell_type": "markdown",
   "metadata": {},
   "source": [
    "# 6. Latent Space Analysis"
   ]
  },
  {
   "cell_type": "markdown",
   "metadata": {},
   "source": [
    "***Message Passing on \"ground truth\" latent space***"
   ]
  },
  {
   "cell_type": "code",
   "execution_count": null,
   "metadata": {},
   "outputs": [],
   "source": [
    "from utils.baselines import construct_latent\n",
    "empirical_l = library_size\n",
    "\n",
    "# CascVI impitations\n",
    "imputed_real = {}\n",
    "imputed_z_real = {}\n",
    "\n",
    "for n in tree.traverse('levelorder'):\n",
    "    if not n.is_leaf():\n",
    "        imputed_real[n.name], imputed_z_real[n.name] = full_posterior.imputation_internal(n.name,\n",
    "                                                            give_mean=False,\n",
    "                                                            library_size=empirical_l,\n",
    "                                                            known_latent=leaves_z\n",
    "                                                           )\n",
    "full_real_latent = construct_latent(tree, leaves_z, imputed_z_real)\n",
    "\n",
    "#print(\"Real latent space\")\n",
    "#plot_common_ancestor(tree_bis,\n",
    "#                     full_real_latent,\n",
    "#                     embedding='umap',\n",
    "#                     give_labels=False\n",
    "#                             )"
   ]
  },
  {
   "cell_type": "code",
   "execution_count": null,
   "metadata": {},
   "outputs": [],
   "source": [
    "mu_real = np.clip(a=np.exp(full_real_latent @ glm.W + glm.beta),\n",
    "                         a_min=0,\n",
    "                         a_max=5000\n",
    "                  )\n",
    "\n",
    "X_real = np.asarray(np.random.poisson(mu_real), dtype=np.float64)\n",
    "internal_X_real, _, _ = get_internal(X_real, mu_real, tree)\n",
    "internal_X_real.shape"
   ]
  },
  {
   "cell_type": "markdown",
   "metadata": {},
   "source": [
    "***CascVI***"
   ]
  },
  {
   "cell_type": "code",
   "execution_count": null,
   "metadata": {},
   "outputs": [],
   "source": [
    "# Merge internal nodes and leaves\n",
    "full_cascvi_latent = construct_latent(tree, cascvi_latent, imputed_z)\n",
    "\n",
    "\n",
    "#print(\"CascVI latent space\")\n",
    "#plot_common_ancestor(tree_bis,\n",
    "#                     full_cascvi_latent,\n",
    "#                     embedding='umap',\n",
    "#                     give_labels=False\n",
    "#                             )\n",
    "\n"
   ]
  },
  {
   "cell_type": "code",
   "execution_count": null,
   "metadata": {},
   "outputs": [],
   "source": [
    "full_cascvi_latent_2 = construct_latent(tree, cascvi_latent, imputed_cascvi_2_z)\n",
    "\n",
    "#print(\"CascVI + averaging latent space\")\n",
    "#plot_common_ancestor(tree_bis,\n",
    "#                     full_cascvi_latent_2,\n",
    "#                     embedding='umap',\n",
    "#                     give_labels=False\n",
    "#                             )"
   ]
  },
  {
   "cell_type": "markdown",
   "metadata": {},
   "source": [
    "***scVI***"
   ]
  },
  {
   "cell_type": "code",
   "execution_count": null,
   "metadata": {},
   "outputs": [],
   "source": [
    "# Merge internal nodes and leaves\n",
    "full_scvi_latent = construct_latent(tree, scvi_latent, imputed_scvi_2_z)\n",
    "\n",
    "#print(\"scVI latent space\")\n",
    "#plot_common_ancestor(tree_bis,\n",
    "#                 full_scvi_latent,\n",
    "#                 embedding='umap',\n",
    "#                 give_labels=False\n",
    "#                    )"
   ]
  },
  {
   "cell_type": "markdown",
   "metadata": {},
   "source": [
    "***scVI + Message Passing***"
   ]
  },
  {
   "cell_type": "code",
   "execution_count": null,
   "metadata": {},
   "outputs": [],
   "source": [
    "# Merge internal nodes and leaves\n",
    "full_scvi_latent_2 = construct_latent(tree, scvi_latent, imputed_z_bis)\n",
    "\n",
    "#print(\"scVI latent space + Message passing\")\n",
    "#plot_common_ancestor(tree,\n",
    "#                 full_scvi_latent_2,\n",
    "#                 embedding='umap',\n",
    "#                 give_labels=False\n",
    "#                    )"
   ]
  },
  {
   "cell_type": "code",
   "execution_count": null,
   "metadata": {},
   "outputs": [],
   "source": [
    "full_scvi_latent_2.shape"
   ]
  },
  {
   "cell_type": "markdown",
   "metadata": {},
   "source": [
    "***k-NN purity***"
   ]
  },
  {
   "cell_type": "markdown",
   "metadata": {},
   "source": [
    "Leaves only"
   ]
  },
  {
   "cell_type": "code",
   "execution_count": null,
   "metadata": {
    "scrolled": true
   },
   "outputs": [],
   "source": [
    "print(\"Leaves Only\")\n",
    "scores = knn_purity(max_neighbors=50,\n",
    "              data=[leaves_z, scvi_latent, cascvi_latent],\n",
    "              plot=True)"
   ]
  },
  {
   "cell_type": "markdown",
   "metadata": {},
   "source": [
    "Internal nodes only"
   ]
  },
  {
   "cell_type": "code",
   "execution_count": null,
   "metadata": {},
   "outputs": [],
   "source": [
    "print(\"Internal nodes Only\")\n",
    "internal_z, internal_idx, internal_mu = get_internal(glm.z, glm.mu, tree)\n",
    "internal_scvi_z, _, _ = get_internal(full_scvi_latent, glm.mu, tree)\n",
    "internal_scvi_z_2, _, _ = get_internal(full_scvi_latent_2, glm.mu, tree)\n",
    "internal_cascvi_z, _, _ = get_internal(full_cascvi_latent, glm.mu, tree)\n",
    "internal_cascvi_z_2, _, _ = get_internal(full_cascvi_latent_2, glm.mu, tree)\n",
    "\n",
    "scores = knn_purity(max_neighbors=50,\n",
    "              data=[internal_z, internal_scvi_z, internal_scvi_z_2, internal_cascvi_z, internal_cascvi_z_2],\n",
    "              plot=True\n",
    "              )"
   ]
  },
  {
   "cell_type": "markdown",
   "metadata": {},
   "source": [
    "Full tree"
   ]
  },
  {
   "cell_type": "code",
   "execution_count": null,
   "metadata": {},
   "outputs": [],
   "source": [
    "print(\"Full tree\")\n",
    "scores = knn_purity(max_neighbors=50,\n",
    "              data=[glm.z, full_scvi_latent, full_scvi_latent_2, full_cascvi_latent, full_cascvi_latent_2],\n",
    "              plot=True)"
   ]
  },
  {
   "cell_type": "markdown",
   "metadata": {},
   "source": [
    "***Stratified k-NN purity***"
   ]
  },
  {
   "cell_type": "code",
   "execution_count": null,
   "metadata": {
    "scrolled": true
   },
   "outputs": [],
   "source": [
    "for k in [2, 5, 10, 20, 35, 50]:\n",
    "    print(\"For {} neighbors\".format(k))\n",
    "    if k == 10:\n",
    "        min_depth = 3\n",
    "    elif k == 20:\n",
    "        min_depth = 4\n",
    "    elif k == 35:\n",
    "        min_depth = 6\n",
    "    elif k == 50:\n",
    "        min_depth = 7\n",
    "    else:\n",
    "        min_depth = 2\n",
    "    scores = knn_purity_stratified(n_neighbors=k,\n",
    "                                   tree=tree,\n",
    "                                   data=[glm.z, full_scvi_latent, full_scvi_latent_2, full_cascvi_latent, full_cascvi_latent_2],\n",
    "                                   min_depth=min_depth,\n",
    "                                   plot=True)"
   ]
  },
  {
   "cell_type": "markdown",
   "metadata": {},
   "source": [
    "# 7. Variance analysis"
   ]
  },
  {
   "cell_type": "markdown",
   "metadata": {},
   "source": [
    "***Empirical Variance of observed***"
   ]
  },
  {
   "cell_type": "code",
   "execution_count": null,
   "metadata": {},
   "outputs": [],
   "source": [
    "# Get empirical variance of the encoder\n",
    "qz_v_norm = full_posterior.empirical_qz_v(\n",
    "                                    n_samples=1000,\n",
    "                                    norm=True)"
   ]
  },
  {
   "cell_type": "code",
   "execution_count": null,
   "metadata": {},
   "outputs": [],
   "source": [
    "var_dict = {}\n",
    "node_sizes = []\n",
    "\n",
    "for i, n in enumerate(tree.traverse('levelorder')):\n",
    "    if not n.is_leaf():\n",
    "        # if n is an internal node, we get the variance from the prior\n",
    "        z = full_posterior.get_latent(give_mean=False)[0]\n",
    "        _, v_nu = vae.posterior_predictive_density(query_node=n.name, \n",
    "                                                  evidence=z) \n",
    "        \n",
    "        var_dict[n.name] = str(np.around(a=v_nu,\n",
    "                             decimals=4)\n",
    "                              )\n",
    "        node_sizes.append(np.around(a=v_nu,\n",
    "                             decimals=4)\n",
    "                         )\n",
    "    else:\n",
    "        idx = leaves_idx.index(n.index)\n",
    "        # if n is a leaf, we get the variance from the encoder\n",
    "        \n",
    "        # variational distribution variance\n",
    "        \n",
    "        # Empirical variance\n",
    "        var_dict[n.name] = str(np.around(a=qz_v_norm[idx],\n",
    "                                 decimals=4)\n",
    "                             )\n",
    "        node_sizes.append(np.around(a=qz_v_norm[idx],\n",
    "                                 decimals=4) \n",
    "                         )"
   ]
  },
  {
   "cell_type": "code",
   "execution_count": null,
   "metadata": {},
   "outputs": [],
   "source": [
    "var_dict"
   ]
  },
  {
   "cell_type": "markdown",
   "metadata": {},
   "source": [
    "***Plot variance***"
   ]
  },
  {
   "cell_type": "code",
   "execution_count": null,
   "metadata": {},
   "outputs": [],
   "source": [
    "plot_one_gene(tree=tree, \n",
    "              X=imputed_X, \n",
    "              g=0, \n",
    "              node_sizes=[int(n*10000) for n in node_sizes], #+[1000]\n",
    "              var='latent',\n",
    "              size=1000,\n",
    "              show_index=True,\n",
    "              save_fig=True,\n",
    "              figsize=(180, 100)\n",
    "             )\n",
    "\n",
    "print(\"CascVI: Imputations + Variance analysis\")"
   ]
  },
  {
   "cell_type": "markdown",
   "metadata": {},
   "source": [
    "# 7. Evaluation"
   ]
  },
  {
   "cell_type": "markdown",
   "metadata": {},
   "source": [
    "***CPM Normalization (for sample-sample correlation)***"
   ]
  },
  {
   "cell_type": "markdown",
   "metadata": {},
   "source": [
    "get imputations into an array"
   ]
  },
  {
   "cell_type": "code",
   "execution_count": null,
   "metadata": {},
   "outputs": [],
   "source": [
    "internal_scvi_X = np.array([x for x in imputed_scvi.values()]).reshape(-1, glm.X.shape[1])\n",
    "internal_scvi_X_2 = np.array([x for x in imputed_scvi_2.values()]).reshape(-1, glm.X.shape[1])\n",
    "internal_cascvi_X = np.array([x for x in imputed_cascvi_1.values()]).reshape(-1, glm.X.shape[1])\n",
    "internal_cascvi_X_2 = np.array([x for x in imputed_cascvi_2.values()]).reshape(-1, glm.X.shape[1])\n",
    "#internal_cascvi_X_3 = np.array([x for x in imputed_cascvi_3.values()]).reshape(-1, glm.X.shape[1])\n",
    "#internal_cascvi_X_3 = np.array([x for x in imputed_real.values()]).reshape(-1, glm.X.shape[1])\n",
    "internal_cascvi_X_3 = internal_X_real\n",
    "\n",
    "internal_scvi_X.shape, internal_scvi_X_2.shape, internal_cascvi_X.shape, internal_cascvi_X_2.shape, internal_cascvi_X_3.shape"
   ]
  },
  {
   "cell_type": "code",
   "execution_count": null,
   "metadata": {},
   "outputs": [],
   "source": [
    "from sklearn.preprocessing import normalize\n",
    "\n",
    "norm_internal_X = sc.pp.normalize_total(AnnData(internal_X), target_sum=1e4, inplace=False)['X'] \n",
    "norm_scvi_X = sc.pp.normalize_total(AnnData(internal_scvi_X), target_sum=1e4, inplace=False)['X']\n",
    "norm_scvi_X_2 = sc.pp.normalize_total(AnnData(internal_scvi_X_2), target_sum=1e4, inplace=False)['X']\n",
    "norm_avg_X = sc.pp.normalize_total(AnnData(internal_avg_X), target_sum=1e4, inplace=False)['X']\n",
    "norm_imputed_X = sc.pp.normalize_total(AnnData(imputed_X), target_sum=1e4, inplace=False)['X']\n",
    "norm_cascvi_X = sc.pp.normalize_total(AnnData(internal_cascvi_X), target_sum=1e4, inplace=False)['X']\n",
    "norm_cascvi_X_2 = sc.pp.normalize_total(AnnData(internal_cascvi_X_2), target_sum=1e4, inplace=False)['X']\n",
    "norm_cascvi_X_3 = sc.pp.normalize_total(AnnData(internal_cascvi_X_3), target_sum=1e4, inplace=False)['X']\n",
    "\n",
    "norm_internal_X.shape"
   ]
  },
  {
   "cell_type": "markdown",
   "metadata": {},
   "source": [
    "## I. Sample-Sample Correlations"
   ]
  },
  {
   "cell_type": "markdown",
   "metadata": {},
   "source": [
    "***1. Sample-Sample correlation (Without Normalization)***\n",
    "\n",
    "We will use Scipy to compute a nonparametric rank correlation between the imputed and the groundtruth profiles. The correlation is based on the Spearman Correlation Coefficient."
   ]
  },
  {
   "cell_type": "code",
   "execution_count": null,
   "metadata": {
    "scrolled": true
   },
   "outputs": [],
   "source": [
    "data = [internal_X.T, imputed_X.T, internal_avg_X.T ,internal_scvi_X.T,\n",
    "        internal_scvi_X_2.T, internal_cascvi_X.T, internal_cascvi_X_2.T, internal_cascvi_X_3.T]\n",
    "df1 = correlations(data, 'None', True)\n",
    "df1.head(5)\n",
    "plt.show()"
   ]
  },
  {
   "cell_type": "markdown",
   "metadata": {},
   "source": [
    "***2. Sample-Sample correlation (With ScanPy Normalization)***"
   ]
  },
  {
   "cell_type": "code",
   "execution_count": null,
   "metadata": {},
   "outputs": [],
   "source": [
    "data = [norm_internal_X.T, norm_imputed_X.T, norm_avg_X.T ,norm_scvi_X.T,\n",
    "        norm_scvi_X_2.T, norm_cascvi_X.T, norm_cascvi_X_2.T, norm_cascvi_X_3.T]\n",
    "df2 = correlations(data, 'None', True)\n",
    "df2.head(5)\n",
    "plt.show()"
   ]
  },
  {
   "cell_type": "markdown",
   "metadata": {},
   "source": [
    "\n",
    "## II. Gene-Gene Correlations"
   ]
  },
  {
   "cell_type": "markdown",
   "metadata": {},
   "source": [
    "***1. Gene-Gene correlation (without Normalization)***"
   ]
  },
  {
   "cell_type": "code",
   "execution_count": null,
   "metadata": {},
   "outputs": [],
   "source": [
    "data = [internal_X, imputed_X, internal_avg_X ,internal_scvi_X,\n",
    "        internal_scvi_X_2, internal_cascvi_X, internal_cascvi_X_2, norm_cascvi_X_3]\n",
    "df3 = correlations(data, 'None', True)\n",
    "df3.head(5)\n",
    "plt.show()"
   ]
  },
  {
   "cell_type": "markdown",
   "metadata": {},
   "source": [
    "***2. Gene-Gene correlation (With Normalization)***"
   ]
  },
  {
   "cell_type": "code",
   "execution_count": null,
   "metadata": {},
   "outputs": [],
   "source": [
    "data = [norm_internal_X, norm_imputed_X, norm_avg_X ,\n",
    "        norm_scvi_X, norm_scvi_X_2, norm_cascvi_X, internal_cascvi_X_2,\n",
    "       internal_cascvi_X_3]\n",
    "\n",
    "df4 = correlations(data, 'None', True)\n",
    "df4.head(5)\n",
    "plt.show()"
   ]
  },
  {
   "cell_type": "markdown",
   "metadata": {},
   "source": [
    "***3. Gene-Gene correlation (With Rank Normalization)***"
   ]
  },
  {
   "cell_type": "code",
   "execution_count": null,
   "metadata": {},
   "outputs": [],
   "source": [
    "data = [internal_X, imputed_X, internal_avg_X ,\n",
    "        internal_scvi_X, internal_scvi_X_2, internal_cascvi_X, internal_cascvi_X_2,\n",
    "       internal_cascvi_X_3\n",
    "       ]\n",
    "\n",
    "df5 = correlations(data, 'rank', True)\n",
    "df5.head(5)\n",
    "plt.show()"
   ]
  },
  {
   "cell_type": "markdown",
   "metadata": {},
   "source": [
    "***4. Gene-Gene correlation (With ScanPy + Rank Normalization)***"
   ]
  },
  {
   "cell_type": "code",
   "execution_count": null,
   "metadata": {},
   "outputs": [],
   "source": [
    "data = [norm_internal_X, norm_imputed_X, norm_avg_X ,\n",
    "        norm_scvi_X, norm_scvi_X_2, norm_cascvi_X, norm_cascvi_X_2, norm_cascvi_X_3]\n",
    "df = correlations(data, 'rank', True)\n",
    "df.head(5)\n",
    "plt.show()"
   ]
  },
  {
   "cell_type": "markdown",
   "metadata": {},
   "source": [
    "### III. Table Summary"
   ]
  },
  {
   "cell_type": "code",
   "execution_count": null,
   "metadata": {},
   "outputs": [],
   "source": [
    "columns = [\"Method\", \"Spearman CC\", \"Pearson CC\", \"Kendall Tau\"]\n",
    "data = [df1, df2, df3, df4, df5]\n",
    "\n",
    "tables = [[] for i in range(len(data))]\n",
    "\n",
    "#task = [\"Sample-Sample (None)\", \"Sample-Sample (CPM)\", \"Gene-Gene (None)\", \n",
    "           #\"Gene-Gene(CPM)\", \"Gene-Gene (Rank)\" ]\n",
    "\n",
    "for (df, t) in zip(data, tables):\n",
    "    for m in np.unique(df.Method):\n",
    "        sub_df = np.round(df[df['Method'] == m].mean(), decimals=3)\n",
    "        t.append([m, sub_df['Spearman CC'], sub_df['Pearson CC'], sub_df['Pearson CC']])\n",
    "        \n",
    "# Create and style Data Frames\n",
    "df_table1 = pd.DataFrame(tables[0], columns=columns)\n",
    "df_table2 = pd.DataFrame(tables[1], columns=columns)\n",
    "df_table3 = pd.DataFrame(tables[2], columns=columns)\n",
    "df_table4 = pd.DataFrame(tables[3], columns=columns)\n",
    "df_table5 = pd.DataFrame(tables[4], columns=columns)"
   ]
  },
  {
   "cell_type": "code",
   "execution_count": null,
   "metadata": {},
   "outputs": [],
   "source": [
    "print(\" >>> Sample-Sample | No Normalization <<<\")\n",
    "df_table1.head(10)"
   ]
  },
  {
   "cell_type": "code",
   "execution_count": null,
   "metadata": {},
   "outputs": [],
   "source": [
    "print(\">>> Sample-Sample | CPM Normalization <<<\")\n",
    "df_table2.head(10)"
   ]
  },
  {
   "cell_type": "code",
   "execution_count": null,
   "metadata": {},
   "outputs": [],
   "source": [
    "print(\">>> Gene-Gene | No Normalization <<<\")\n",
    "df_table3.head(10)"
   ]
  },
  {
   "cell_type": "code",
   "execution_count": null,
   "metadata": {},
   "outputs": [],
   "source": [
    "print(\">>> Gene-Gene | CPM Normalization <<<\")\n",
    "df_table4.head(10)"
   ]
  },
  {
   "cell_type": "code",
   "execution_count": null,
   "metadata": {},
   "outputs": [],
   "source": [
    "print(\">>> Gene-Gene | Rank Normalization <<<\")\n",
    "df_table5.head(10)"
   ]
  },
  {
   "cell_type": "markdown",
   "metadata": {},
   "source": [
    "# 8. Exploratory grapghical analysis"
   ]
  },
  {
   "cell_type": "markdown",
   "metadata": {},
   "source": [
    "***Box plot (Samples)***"
   ]
  },
  {
   "cell_type": "code",
   "execution_count": null,
   "metadata": {},
   "outputs": [],
   "source": [
    "import random\n",
    "import seaborn as sns\n",
    "\n",
    "n_samples = 10\n",
    "idx = random.sample(range(1, 300), n_samples)\n",
    "n_rows = 2\n",
    "n_cols = int(n_samples / 2)\n",
    "\n",
    "fig, ax = plt.subplots(n_rows, n_cols, figsize=(30, 12))\n",
    "\n",
    "h = 0\n",
    "for i in range(n_rows):\n",
    "    for j in range(n_cols):\n",
    "        k = idx[h]\n",
    "        h += 1\n",
    "        # stack arrrays\n",
    "        data_boxplot = np.vstack([np.log(1 + norm_internal_X[k]), np.log(1 + norm_imputed_X[k]),\n",
    "          np.log(1 + norm_avg_X[k]), np.log(1 + norm_scvi_X[k]),\n",
    "           np.log(1 + norm_cascvi_X[k])]).T\n",
    "        \n",
    "        # data frame\n",
    "        df_boxplot = pd.DataFrame(data=data_boxplot,\n",
    "                          columns=['Ground truth', 'CascVI', 'Avg', 'Avg scVI', 'Avg CascVI'])\n",
    "        \n",
    "        sns.boxplot(ax=ax[i][j], data=df_boxplot, orient=\"v\", palette=\"Set2\", showfliers=True)\n",
    "        ax[i][j].set_title('Sample ' + str(k))\n",
    "\n",
    "fig.suptitle(\"Boxplots of gene expression values\")\n",
    "plt.show()"
   ]
  },
  {
   "cell_type": "markdown",
   "metadata": {},
   "source": [
    "***Box plot (Genes)***"
   ]
  },
  {
   "cell_type": "code",
   "execution_count": null,
   "metadata": {},
   "outputs": [],
   "source": [
    "import random\n",
    "import seaborn as sns\n",
    "\n",
    "n_samples = 10\n",
    "idx = random.sample(range(1, 1000), n_samples)\n",
    "n_rows = 2\n",
    "n_cols = int(n_samples / 2)\n",
    "\n",
    "fig, ax = plt.subplots(n_rows, n_cols, figsize=(30, 12))\n",
    "\n",
    "h = 0\n",
    "for i in range(n_rows):\n",
    "    for j in range(n_cols):\n",
    "        k = idx[h]\n",
    "        h += 1\n",
    "        # stack arrrays\n",
    "        data_boxplot = np.vstack([np.log(1 + norm_internal_X[:, k]), np.log(1 + norm_imputed_X[:, k]),\n",
    "          np.log(1 + norm_avg_X[:, k]), np.log(1 + norm_scvi_X[:, k]),\n",
    "           np.log(1 + norm_cascvi_X[:, k])]).T\n",
    "        \n",
    "        # data frame\n",
    "        df_boxplot = pd.DataFrame(data=data_boxplot,\n",
    "                          columns=['Ground truth', 'CascVI', 'Avg', 'Avg scVI', 'Avg CascVI'])\n",
    "        \n",
    "        sns.boxplot(ax=ax[i][j], data=df_boxplot, orient=\"v\", palette=\"Set2\", showfliers=True)\n",
    "        ax[i][j].set_title('Gene ' + str(k))\n",
    "\n",
    "fig.suptitle(\"Boxplots of gene expression values\")\n",
    "plt.show()"
   ]
  },
  {
   "cell_type": "markdown",
   "metadata": {},
   "source": [
    "***Density plots***"
   ]
  },
  {
   "cell_type": "code",
   "execution_count": null,
   "metadata": {},
   "outputs": [],
   "source": [
    "import random\n",
    "import seaborn as sns\n",
    "\n",
    "n_samples = 12\n",
    "idx = random.sample(range(1, 1000), n_samples)\n",
    "n_rows = 3\n",
    "n_cols = int(n_samples / n_rows)\n",
    "\n",
    "fig, ax = plt.subplots(n_rows, n_cols, figsize=(35, 15))\n",
    "\n",
    "h = 0\n",
    "for i in range(n_rows):\n",
    "    for j in range(n_cols):\n",
    "        k = idx[h]\n",
    "        h += 1\n",
    "        # density plots\n",
    "        sns.distplot(ax=ax[i][j], a=np.log(1 + norm_imputed_X[:, k]), hist=False,\n",
    "                     kde=True, kde_kws={'shade': True}, label='cascVI')\n",
    "        sns.distplot(ax=ax[i][j], a=np.log(1 + norm_internal_X[:, k]), hist=False,\n",
    "                     kde=True, kde_kws={'shade': True}, label='groundtruth')\n",
    "        sns.distplot(ax=ax[i][j], a=np.log(1 + norm_scvi_X[:, k]), hist=False,\n",
    "                     kde=True, kde_kws={'shade': True}, label='Avg scVI')\n",
    "        sns.distplot(ax=ax[i][j], a=np.log(1 + norm_avg_X[:, k]), hist=False,\n",
    "                     kde=True, kde_kws={'shade': True}, label='Avg')\n",
    "        sns.distplot(ax=ax[i][j], a=np.log(1 + norm_cascvi_X[:, k]), hist=False,\n",
    "             kde=True, kde_kws={'shade': True}, label='Avg cascVI')\n",
    "        # set title\n",
    "        ax[i][j].set_title('Gene ' + str(k))\n",
    "\n",
    "fig.suptitle(\"Combined gene density plots\")\n",
    "plt.show()"
   ]
  }
 ],
 "metadata": {
  "kernelspec": {
   "display_name": "Python 3",
   "language": "python",
   "name": "python3"
  },
  "language_info": {
   "codemirror_mode": {
    "name": "ipython",
    "version": 3
   },
   "file_extension": ".py",
   "mimetype": "text/x-python",
   "name": "python",
   "nbconvert_exporter": "python",
   "pygments_lexer": "ipython3",
   "version": "3.7.7"
  }
 },
 "nbformat": 4,
 "nbformat_minor": 4
}
