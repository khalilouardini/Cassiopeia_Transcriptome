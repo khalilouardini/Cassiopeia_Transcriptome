{
 "cells": [
  {
   "cell_type": "markdown",
   "metadata": {},
   "source": [
    "# 0. Standard imports"
   ]
  },
  {
   "source": [
    "%load_ext autoreload\n",
    "%autoreload 2\n",
    "%matplotlib inline\n",
    "\n",
    "import copy\n",
    "import os\n",
    "import sys\n",
    "import seaborn as sns\n",
    "import matplotlib.pyplot as plt\n",
    "import matplotlib\n",
    "matplotlib.use('WebAgg')\n",
    "import numpy as np\n",
    "import pandas as pd"
   ],
   "cell_type": "code",
   "metadata": {},
   "execution_count": 2,
   "outputs": []
  },
  {
   "cell_type": "code",
   "execution_count": 1,
   "metadata": {},
   "outputs": [
    {
     "output_type": "stream",
     "name": "stdout",
     "text": [
      "/home/eecs/khalil.ouardini/Cassiopeia_Transcriptome/scvi/external\n"
     ]
    }
   ],
   "source": [
    "cd .."
   ]
  },
  {
   "cell_type": "code",
   "execution_count": 5,
   "metadata": {},
   "outputs": [
    {
     "output_type": "stream",
     "name": "stdout",
     "text": [
      "/home/eecs/khalil.ouardini/Cassiopeia_Transcriptome/scvi\n"
     ]
    }
   ],
   "source": [
    "cd .."
   ]
  },
  {
   "cell_type": "code",
   "execution_count": 6,
   "metadata": {},
   "outputs": [],
   "source": [
    "%reload_ext autoreload\n",
    "%matplotlib inline"
   ]
  },
  {
   "cell_type": "markdown",
   "metadata": {},
   "source": [
    "***import ete3 Tree***"
   ]
  },
  {
   "cell_type": "code",
   "execution_count": 7,
   "metadata": {},
   "outputs": [],
   "source": [
    "from ete3 import Tree\n",
    "\n",
    "tree_name = \"/home/eecs/khalil.ouardini/cas_scvi_topologies/newick_objects/100cells/no_fitness/topology4.nwk\"\n",
    "tree = Tree(tree_name, 1)\n",
    "\n",
    "leaves = tree.get_leaves()\n",
    "\n",
    "for i, n in enumerate(tree.traverse('levelorder')):\n",
    "    n.add_features(index=i)\n",
    "    n.name = str(i)"
   ]
  },
  {
   "cell_type": "code",
   "execution_count": 8,
   "metadata": {},
   "outputs": [
    {
     "output_type": "stream",
     "name": "stderr",
     "text": [
      "/home/eecs/khalil.ouardini/miniconda3/envs/scvi-env/lib/python3.7/site-packages/numba/np/ufunc/parallel.py:363: NumbaWarning: \u001b[1mThe TBB threading layer requires TBB version 2019.5 or later i.e., TBB_INTERFACE_VERSION >= 11005. Found TBB_INTERFACE_VERSION = 9002. The TBB threading layer is disabled.\u001b[0m\n  warnings.warn(problem)\n"
     ]
    }
   ],
   "source": [
    "# Data\n",
    "from anndata import AnnData\n",
    "from sklearn.manifold import TSNE\n",
    "import matplotlib.pyplot as plt\n",
    "from external.dataset.tree import TreeDataset, GeneExpressionDataset\n",
    "from external.dataset.ppca import PPCA\n",
    "from external.dataset.anndataset import AnnDatasetFromAnnData\n",
    "\n",
    "# Models\n",
    "import scanpy as sc\n",
    "from external.inference.gaussian_inference import GaussianTrainer\n",
    "from external.inference.gaussian_tree_inference import GaussianTreeTrainer\n",
    "from external.inference.gaussian_tree_inference import GaussianTreePosterior\n",
    "from external.inference.gaussian_inference import GaussianPosterior\n",
    "from external.models.treevae import TreeVAE\n",
    "from external.models.gaussian_vae import GaussianVAE\n",
    "from external.models.gaussian_treevae import GaussianTreeVAE\n",
    "\n",
    "# Utils\n",
    "from external.utils.data_util import get_leaves, get_internal\n",
    "from external.utils.metrics import ks_pvalue, accuracy_imputation, correlations, mse, knn_purity, knn_purity_stratified\n",
    "from external.utils.plots_util import plot_histograms, plot_scatter_mean, plot_ecdf_ks, plot_density, plot_embedding\n",
    "from external.utils.plots_util import plot_losses, plot_elbo, plot_common_ancestor, plot_one_gene, training_dashboard\n",
    "from external.utils.baselines import avg_weighted_baseline, scvi_baseline, scvi_baseline_z, cascvi_baseline_z, avg_baseline_z, construct_latent"
   ]
  },
  {
   "cell_type": "markdown",
   "metadata": {},
   "source": [
    "# 1. Simulations (Gaussian Likelihood model)"
   ]
  },
  {
   "cell_type": "markdown",
   "metadata": {},
   "source": [
    "We assume that the latent variables $z \\in \\mathbb{R}^{N \\times D}$ are gaussian (correlated). A phylogenetic tree $\\tau$ (with $N$ nodes) encodes the covariance $\\Sigma$ of $z$. \n",
    "\n",
    "$$\\mathbf{z}=(z_1, ..., z_N) \\sim \\mathcal{N}(0, \\Sigma)$$\n",
    "\n",
    "$z$ is partitionned into two groups:\n",
    "\n",
    "- the leaves $\\mathcal{L} = {1, ..., L}$\n",
    "- the internal nodes $\\mathcal{I} = {L + 1, ..., N}$\n",
    "\n",
    "***\n",
    "\n",
    "***We describe the generative model***:\n",
    "\n",
    "Consider a dataset of $ X={x_n}_{n=1}^{L} $ (also partitioned such that $1, ..., N = \\mathcal{L} \\bigcup \\mathcal{I}$) such that $x_n \\in \\mathbb{R}^{P}$. We aim to represent each $x_n$ under a latent variable $z_n \\in \\mathbb{R}^{D}$ with  with $D << P$ lower dimension. \n",
    "We only observe data at the leaves. the generative model is defined $\\forall n \\in \\mathcal{L}$\n",
    "\n",
    "The set of principal axes $W$ relates the latent variables to the data.\n",
    "\n",
    "The corresponding data point is generated via a projection:\n",
    "\n",
    "$$\n",
    "\\forall n \\in \\mathcal{L}, x_n =  W z_n + e_n\n",
    "$$\n",
    "\n",
    "with $W \\in \\mathbb{R}^{P x D}$ and $e_n \\sim \\mathcal{N}(0, \\sigma^2 I_P)$. Thus:\n",
    "\n",
    "\n",
    "$$\n",
    "\\forall n \\in \\mathcal{L},  x_n | z_n \\sim \\mathcal{N}(W z_n, \\sigma^2 I_P)\n",
    "$$\n",
    "\n",
    "After marginalization\n",
    "\n",
    "$$\n",
    "\\forall n \\in \\mathcal{L}, x_n \\sim \\mathcal{N}(0, W^T W + \\sigma^2 I_P)\n",
    "$$\n",
    "\n",
    "The posterior $p(z_n|x_n)$ for each $n$ is also ***tractable***, indeed\n",
    "\n",
    "$\\begin{pmatrix} x_n \\\\ z_n \\end{pmatrix} = \\begin{pmatrix} W z_n + e \\\\ z_n \\end{pmatrix}$ is a gaussian vector (because for $a \\in \\mathbb{R}$, $b \\in \\mathbb{R}$, $a(W z_n + e) + bz_n$ is still gaussian) such that:\n",
    "\n",
    "$$\n",
    "\\begin{pmatrix} x_n \\\\ z_n \\end{pmatrix} \\sim \\mathcal{N}(\\begin{pmatrix} 0 \\\\ 0 \\end{pmatrix}, \\begin{pmatrix} W^T W + \\sigma^2 I_P  & W\\Sigma_n \\\\ (W\\Sigma_n)^T & \\Sigma_n \\end{pmatrix})\n",
    "$$\n",
    "\n",
    "where $\\Sigma_n$ is the marginalized covariance $\\Sigma$ of $z_n$\n",
    "\n",
    "Therefore we can use the conditioning formula to infer the mean and the covariance of the (gaussian) posterior $p(z_n|x_n)$:\n",
    "\n",
    "$$\n",
    "\\mu_{z_n|x_n} = (W\\Sigma_{n}(W^{T} W + \\sigma^{2} I_{P})^{-1}\\Sigma_{n}^{T}W^{T}) x_{n} \\\\\n",
    "\\Sigma_{z_n|x_n} = \\Sigma_n - W\\Sigma_{n}(W^{T} W + \\sigma^{2} I_{P})^{-1}\\Sigma_{n}^{T}W^{T}\n",
    "$$\n",
    "\n",
    "***\n",
    "\n",
    "***Imputation at internal nodes***\n",
    "\n",
    "Let $j \\in \\mathcal{I}$, and $X_{\\mathcal{L}} = {x_1, ... x_L}$ the set of leaves.\n",
    "We want to infer $p(x_j|X_{\\mathcal{L}})$. If we consider that the data at the internal nodes is \"seen\" and that the generative model is also known $\\forall n \\in \\mathcal{I}$, we could easily (and accurately) compute $p(x_j|X_{\\mathcal{L}})$ by using the gaussian conditioning formula on the gaussian vector:\n",
    "\n",
    "$$\n",
    "\\begin{pmatrix} x_j \\\\ X_{\\mathcal{L}} \\end{pmatrix}\n",
    "$$\n",
    "\n",
    "In the case of unseen data at the internal nodes, one can estimate the posterior predictive density:\n",
    "\n",
    "1. $$\n",
    "p(x_j|X_{\\mathcal{L}}) = p(x_j|x_1, ..., x_L) = \\int p(x_j|z_j)p(z_j|z_1,...,z_L)\\prod_{i=1}^{L}p(z_i|x_i)(dz_j,dz_1,...,dz_L)\n",
    "$$\n",
    "\n",
    "Therefore:\n",
    "$$\n",
    "p(x_j|x_1, ..., x_L) \\approx  p(x_j|z_j)p(z_j|z_1,...,z_L)\\prod_{i=1}^{L}p(z_i|x_i)\n",
    "$$\n",
    "\n",
    "$$\n",
    "p(x_j|x_1, ..., x_L) \\approx  \\mathcal{N}(x_j|Wz_j, \\sigma^2I_P)  \\mathcal{N}(z_j|\\mu_{j|\\mathcal{I}}, \\Sigma_{j|\\mathcal{I}}) \\prod_{i=1}^{L} \\mathcal{N}(z_i|\\mu_{z_i|x_i}, \\Sigma_{z_i|x_i})\n",
    "$$\n",
    "\n",
    "2. $ p(x_j|X_{\\mathcal{L}}) = Wp(z_j|X_{\\mathcal{L}}) + p(e_j)$"
   ]
  },
  {
   "cell_type": "code",
   "execution_count": 9,
   "metadata": {
    "tags": []
   },
   "outputs": [
    {
     "output_type": "stream",
     "name": "stdout",
     "text": [
      "\n                     /-54\n                  /-|\n               /-|   \\-55\n              |  |\n              |   \\-33\n              |\n              |   /-34\n              |  |\n            /-|  |               /-152\n           |  |  |            /-|\n           |  |  |           |   \\-153\n           |  |  |         /-|\n           |  |  |        |  |   /-154\n           |  |  |      /-|   \\-|\n           |  |  |     |  |      \\-155\n           |   \\-|     |  |\n           |     |     |   \\-105\n           |     |     |\n           |     |     |            /-176\n           |     |   /-|         /-|\n           |     |  |  |      /-|   \\-177\n           |     |  |  |     |  |\n           |     |  |  |   /-|   \\-157\n           |     |  |  |  |  |\n           |     |  |  |  |  |   /-158\n           |      \\-|   \\-|   \\-|\n           |        |     |      \\-159\n           |        |     |\n           |        |      \\-107\n           |        |\n           |        |   /-82\n           |         \\-|\n           |            \\-83\n           |\n           |                     /-160\n           |                  /-|\n           |                 |   \\-161\n           |               /-|\n           |              |  |      /-178\n           |              |  |   /-|\n           |            /-|   \\-|   \\-179\n           |           |  |     |\n           |           |  |      \\-163\n           |         /-|  |\n           |        |  |   \\-109\n           |        |  |\n           |        |  |   /-110\n           |        |   \\-|\n           |        |     |   /-134\n           |        |      \\-|\n           |        |        |   /-164\n           |        |         \\-|\n           |        |            \\-165\n         /-|        |\n        |  |      /-|            /-166\n        |  |     |  |         /-|\n        |  |     |  |      /-|   \\-167\n        |  |     |  |     |  |\n        |  |     |  |     |   \\-137\n        |  |     |  |   /-|\n        |  |     |  |  |  |      /-168\n        |  |     |  |  |  |   /-|\n        |  |     |  |  |   \\-|   \\-169\n        |  |     |  |  |     |\n        |  |     |  |  |      \\-139\n        |  |     |  |  |\n        |  |     |   \\-|   /-114\n        |  |     |     |  |\n        |  |     |     |  |            /-188\n        |  |     |     |  |         /-|\n        |  |     |     |  |        |   \\-189\n        |  |     |     |  |        |\n        |  |     |     |  |      /-|      /-196\n        |  |     |     |  |     |  |   /-|\n        |  |     |      \\-|     |  |  |   \\-197\n        |  |     |        |     |   \\-|\n        |  |     |        |   /-|     |   /-198\n        |  |     |        |  |  |      \\-|\n        |  |     |        |  |  |         \\-199\n        |  |   /-|        |  |  |\n        |  |  |  |        |  |  |   /-182\n        |  |  |  |        |  |   \\-|\n        |  |  |  |        |  |      \\-183\n        |  |  |  |         \\-|\n        |  |  |  |           |         /-192\n        |  |  |  |           |      /-|\n        |  |  |  |           |     |   \\-193\n        |  |  |  |           |   /-|\n        |  |  |  |           |  |  |   /-194\n        |  |  |  |           |  |   \\-|\n        |  |  |  |            \\-|      \\-195\n        |  |  |  |              |\n        |  |  |  |              |   /-186\n        |  |  |  |               \\-|\n        |  |  |  |                  \\-187\n        |  |  |  |\n        |  |  |  |         /-116\n      /-|  |  |  |      /-|\n     |  |   \\-|  |     |   \\-117\n     |  |     |  |     |\n     |  |     |  |   /-|      /-142\n     |  |     |  |  |  |   /-|\n     |  |     |  |  |  |  |   \\-143\n     |  |     |  |  |   \\-|\n     |  |     |   \\-|     |   /-144\n     |  |     |     |      \\-|\n     |  |     |     |         \\-145\n     |  |     |     |\n     |  |     |      \\-61\n     |  |     |\n     |  |     |      /-62\n     |  |     |   /-|\n     |  |     |  |   \\-63\n     |  |     |  |\n     |  |     |  |            /-146\n     |  |     |  |         /-|\n     |  |     |  |        |  |   /-174\n     |  |     |  |        |   \\-|\n     |  |      \\-|      /-|      \\-175\n     |  |        |     |  |\n     |  |        |     |  |   /-148\n     |  |        |   /-|   \\-|\n     |  |        |  |  |      \\-149\n     |  |        |  |  |\n     |  |        |  |   \\-91\n     |  |         \\-|\n     |  |           |      /-122\n     |  |           |   /-|\n     |  |           |  |   \\-123\n     |  |            \\-|\n     |  |              |   /-124\n     |  |               \\-|\n     |  |                  \\-125\n     |  |\n     |  |         /-40\n     |  |      /-|\n     |  |   /-|   \\-41\n-- /-|  |  |  |\n     |  |  |   \\-21\n     |  |  |\n     |  |  |         /-66\n     |  |  |      /-|\n     |   \\-|     |  |   /-94\n     |     |     |   \\-|\n     |     |   /-|      \\-95\n     |     |  |  |\n     |     |  |  |   /-68\n     |     |  |   \\-|\n     |      \\-|      \\-69\n     |        |\n     |        |   /-44\n     |        |  |\n     |         \\-|   /-70\n     |           |  |\n     |            \\-|   /-96\n     |              |  |\n     |               \\-|      /-150\n     |                 |   /-|\n     |                  \\-|   \\-151\n     |                    |\n     |                     \\-127\n     |\n     |            /-46\n     |           |\n     |         /-|      /-98\n     |        |  |   /-|\n     |        |  |  |   \\-99\n     |        |   \\-|\n     |      /-|     |   /-100\n     |     |  |      \\-|\n     |     |  |         \\-101\n     |   /-|  |\n     |  |  |   \\-25\n     |  |  |\n     |  |  |   /-26\n     |  |   \\-|\n     |  |      \\-27\n     |  |\n      \\-|            /-74\n        |         /-|\n        |      /-|   \\-75\n        |     |  |\n        |   /-|   \\-49\n        |  |  |\n        |  |   \\-29\n        |  |\n         \\-|      /-50\n           |   /-|\n           |  |  |   /-76\n           |  |   \\-|\n           |  |      \\-77\n            \\-|\n              |      /-78\n              |   /-|\n              |  |  |   /-102\n               \\-|   \\-|\n                 |      \\-103\n                 |\n                  \\-53\n"
     ]
    }
   ],
   "source": [
    "print(tree)"
   ]
  },
  {
   "source": [
    "***Branch Length***"
   ],
   "cell_type": "markdown",
   "metadata": {}
  },
  {
   "cell_type": "code",
   "execution_count": 10,
   "metadata": {},
   "outputs": [],
   "source": [
    "eps = 1e-3\n",
    "branch_length = {}\n",
    "for node in tree.traverse('levelorder'):\n",
    "    if node.is_root():\n",
    "        branch_length[node.name] = 0.0\n",
    "    else:\n",
    "        branch_length[node.name] = node.dist\n",
    "branch_length['prior_root'] = 1.0"
   ]
  },
  {
   "cell_type": "code",
   "execution_count": 11,
   "metadata": {},
   "outputs": [
    {
     "output_type": "execute_result",
     "data": {
      "text/plain": [
       "<torch._C.Generator at 0x7f9337a5add0>"
      ]
     },
     "metadata": {},
     "execution_count": 11
    }
   ],
   "source": [
    "import torch\n",
    "    \n",
    "np.random.seed(42)\n",
    "torch.manual_seed(42)"
   ]
  },
  {
   "cell_type": "code",
   "execution_count": 12,
   "metadata": {},
   "outputs": [],
   "source": [
    "d = 5\n",
    "p = 100\n",
    "vis = True\n",
    "leaves_only = False\n",
    "var = 1.0\n",
    "sigma_scale = 2.0\n",
    "\n",
    "#ppca = PPCA(tree, p, d, vis, leaves_only, var, sigma_scale)\n",
    "ppca = PPCA(tree=tree, \n",
    "            dim=p, \n",
    "            latent=d, \n",
    "            vis=vis, \n",
    "            only=leaves_only,\n",
    "            branch_length=branch_length, \n",
    "            sigma_scale=sigma_scale\n",
    "            )\n",
    "\n",
    "ppca.simulate_latent()"
   ]
  },
  {
   "cell_type": "markdown",
   "metadata": {},
   "source": [
    "***Marginalization***"
   ]
  },
  {
   "cell_type": "code",
   "execution_count": 13,
   "metadata": {},
   "outputs": [
    {
     "output_type": "execute_result",
     "data": {
      "text/plain": [
       "(100, 5)"
      ]
     },
     "metadata": {},
     "execution_count": 13
    }
   ],
   "source": [
    "ppca.simulate_normal()\n",
    "ppca.W.shape"
   ]
  },
  {
   "cell_type": "code",
   "execution_count": 14,
   "metadata": {},
   "outputs": [
    {
     "output_type": "stream",
     "name": "stdout",
     "text": [
      "Log-Likelihood of the tree -37348.33439194971\nLogLikelihood of the leaves -18650.1273364016\n"
     ]
    }
   ],
   "source": [
    "lik_tree = ppca.likelihood_obs(leaves_only=False)\n",
    "lik_leaves = ppca.likelihood_obs(leaves_only=True)\n",
    "\n",
    "print(\"Log-Likelihood of the tree {}\".format(lik_tree))\n",
    "print(\"LogLikelihood of the leaves {}\".format(lik_leaves))"
   ]
  },
  {
   "cell_type": "markdown",
   "metadata": {},
   "source": [
    "***Get data***"
   ]
  },
  {
   "cell_type": "code",
   "execution_count": 15,
   "metadata": {},
   "outputs": [
    {
     "output_type": "execute_result",
     "data": {
      "text/plain": [
       "((100, 100), (100, 100), (100, 100), (100, 100), (100, 5))"
      ]
     },
     "metadata": {},
     "execution_count": 15
    }
   ],
   "source": [
    "# Latent vectors\n",
    "leaves_z, _, _ = get_leaves(ppca.z, ppca.mu, tree)\n",
    "\n",
    "#FIXED training set\n",
    "leaves_X, leaves_idx, mu = get_leaves(ppca.X, ppca.mu, tree)\n",
    "\n",
    "# internal nodes data (for imputation)\n",
    "internal_X, internal_idx, internal_mu = get_internal(ppca.X, ppca.mu, tree)\n",
    "\n",
    "# internal nodes z\n",
    "internal_z, _, _ = get_internal(ppca.z, ppca.mu, tree)\n",
    "\n",
    "leaves_X.shape, mu.shape, internal_X.shape, internal_mu.shape, leaves_z.shape"
   ]
  },
  {
   "cell_type": "markdown",
   "metadata": {},
   "source": [
    "***Posterior Distributions***"
   ]
  },
  {
   "cell_type": "markdown",
   "metadata": {},
   "source": [
    "***evidence***"
   ]
  },
  {
   "cell_type": "code",
   "execution_count": 16,
   "metadata": {},
   "outputs": [
    {
     "output_type": "execute_result",
     "data": {
      "text/plain": [
       "(10000,)"
      ]
     },
     "metadata": {},
     "execution_count": 16
    }
   ],
   "source": [
    "evidence_leaves = ppca.get_evidence_leaves_levelorder(X=ppca.X, dim=ppca.dim)\n",
    "evidence_leaves.shape"
   ]
  },
  {
   "cell_type": "markdown",
   "metadata": {},
   "source": [
    "***Leaves covariance***"
   ]
  },
  {
   "cell_type": "code",
   "execution_count": 17,
   "metadata": {},
   "outputs": [
    {
     "output_type": "stream",
     "name": "stdout",
     "text": [
      "Data covariance computation + inversion took 52.85932683944702\n"
     ]
    }
   ],
   "source": [
    "import time\n",
    "\n",
    "t = time.time()\n",
    "ppca.compute_leaves_covariance()\n",
    "\n",
    "print('Data covariance computation + inversion took {}'.format(time.time() - t))"
   ]
  },
  {
   "cell_type": "code",
   "execution_count": 18,
   "metadata": {},
   "outputs": [],
   "source": [
    "#inverse_covariance_path = os.path.join('/home/eecs/khalil.ouardini/Cassiopeia_Transcriptome/scvi/external/dataset/#inverse_covariances'\n",
    "#if os\n",
    "#tree_name = "
   ]
  },
  {
   "source": [
    "***Posterior mean and covariance***"
   ],
   "cell_type": "markdown",
   "metadata": {}
  },
  {
   "cell_type": "code",
   "execution_count": 19,
   "metadata": {},
   "outputs": [],
   "source": [
    "posterior_mean, posterior_cov = ppca.compute_posterior()"
   ]
  },
  {
   "cell_type": "markdown",
   "metadata": {},
   "source": [
    "***Posterior predictive density***"
   ]
  },
  {
   "cell_type": "code",
   "execution_count": 20,
   "metadata": {},
   "outputs": [],
   "source": [
    "#predictive_mean, predictive_cov = ppca.compute_posterior_predictive()"
   ]
  },
  {
   "cell_type": "markdown",
   "metadata": {},
   "source": [
    "# Preliminary: Baselines"
   ]
  },
  {
   "cell_type": "markdown",
   "metadata": {},
   "source": [
    "## Baseline 1: Unweighted Average of gene expression in Clade\n",
    "\n",
    "The simple idea here is to impute the value of an internal node, with the (un)weighted average of the gene expression values of the leaves, taking the query internal node as the root of the subtree."
   ]
  },
  {
   "cell_type": "code",
   "execution_count": 21,
   "metadata": {},
   "outputs": [],
   "source": [
    "imputed_avg = avg_weighted_baseline(tree=tree, \n",
    "                                    weighted=False, \n",
    "                                    X=ppca.X,\n",
    "                                    rounding=False\n",
    "                                   )\n",
    "\n",
    "#get internal nodes\n",
    "avg_X = np.array([x for x in imputed_avg.values()]).reshape(-1, ppca.X.shape[1])\n",
    "internal_avg_X, _, _ = get_internal(avg_X, ppca.mu, tree)"
   ]
  },
  {
   "cell_type": "markdown",
   "metadata": {},
   "source": [
    "## Baseline 2: (groundtruth) posterior predictive density"
   ]
  },
  {
   "cell_type": "code",
   "execution_count": 22,
   "metadata": {},
   "outputs": [],
   "source": [
    "#imputed_ppca = {}\n",
    "#for n in tree.traverse('levelorder'):\n",
    "#    if not n.is_leaf():\n",
    "#        samples = np.array([np.random.multivariate_normal(mean=predictive_mean[n.name],\n",
    "#                                                            cov=predictive_cov[n.name])\n",
    "#                           for i in range(20)])\n",
    "#        imputed_ppca[n.name] = np.mean(samples, axis=0)\n",
    "\n",
    "#internal_ppca_X = np.array([x for x in imputed_ppca.values()]).reshape(-1, ppca.X.shape[1])"
   ]
  },
  {
   "cell_type": "markdown",
   "metadata": {},
   "source": [
    "## Baseline 3: Approximation through Message Passing (Oracle)\n",
    "\n",
    "\n",
    "i.e, \n",
    "\n",
    "1. sample from $z_1, ..., z_n \\sim p(z_1, ..., z_n|x_1, ..., x_n)$ (conditionning formula)\n",
    "2. impute $z_i \\sim p(z_i | z_1, ..., z_n)$ (Message Passing)\n",
    "3. Decode $p(x_i|z_i) = W z_i + \\sigma^2 I_P$ (Generative model)"
   ]
  },
  {
   "cell_type": "code",
   "execution_count": 23,
   "metadata": {},
   "outputs": [],
   "source": [
    "posterior_mean_corr, posterior_cov_corr = ppca.compute_correlated_posterior()"
   ]
  },
  {
   "cell_type": "code",
   "execution_count": 24,
   "metadata": {},
   "outputs": [
    {
     "output_type": "stream",
     "name": "stderr",
     "text": [
      "/home/eecs/khalil.ouardini/Cassiopeia_Transcriptome/scvi/external/dataset/ppca.py:357: RuntimeWarning: covariance is not positive-semidefinite.\n  cov=posterior_cov).reshape(-1, self.latent) for i in range(sample_size)])\n"
     ]
    }
   ],
   "source": [
    "imputed_mp, imputed_z_mp, predictive_mean_z, predictive_cov_z  = ppca.compute_approx_posterior_predictive(iid=False, use_MP=False, sample_size=200)"
   ]
  },
  {
   "cell_type": "code",
   "execution_count": 25,
   "metadata": {},
   "outputs": [],
   "source": [
    "imputed_X = np.array([x for x in imputed_mp.values()]).reshape(-1, ppca.X.shape[1])"
   ]
  },
  {
   "cell_type": "markdown",
   "metadata": {},
   "source": [
    "## Baseline 4: Approximation through Message Passing + iid posteriors"
   ]
  },
  {
   "cell_type": "markdown",
   "metadata": {},
   "source": [
    "i.e, \n",
    "\n",
    "1. sample from marginal conditional $z_l \\sim p(z_l|x_1) \\forall l \\in (1, ...,L)$ (conditionning formula)\n",
    "2. impute $z_i \\sim p(z_i | z_1, ..., z_n)$ (Message Passing)\n",
    "3. Decode $p(x_i|z_i) = W z_i + \\sigma^2 I_P$ (Generative model)"
   ]
  },
  {
   "cell_type": "code",
   "execution_count": 26,
   "metadata": {},
   "outputs": [
    {
     "output_type": "stream",
     "name": "stderr",
     "text": [
      "/home/eecs/khalil.ouardini/Cassiopeia_Transcriptome/scvi/external/dataset/ppca.py:364: RuntimeWarning: covariance is not positive-semidefinite.\n  cov=posterior_cov[k]) for i in range(sample_size)])\n"
     ]
    }
   ],
   "source": [
    "imputed_mp2, imputed_z_mp2, predictive_mean_z2, predictive_cov_z2  = ppca.compute_approx_posterior_predictive(iid=True, use_MP=False, sample_size=200)"
   ]
  },
  {
   "cell_type": "code",
   "execution_count": 27,
   "metadata": {},
   "outputs": [],
   "source": [
    "imputed_X2 = np.array([x for x in imputed_mp2.values()]).reshape(-1, ppca.X.shape[1])"
   ]
  },
  {
   "source": [],
   "cell_type": "markdown",
   "metadata": {}
  },
  {
   "cell_type": "markdown",
   "metadata": {},
   "source": [
    "## Baseline 5: Gaussian VAE decoded averaged latent space"
   ]
  },
  {
   "cell_type": "code",
   "execution_count": 28,
   "metadata": {},
   "outputs": [
    {
     "output_type": "stream",
     "name": "stderr",
     "text": [
      "This dataset has some empty cells, this might fail scVI inference.Data should be filtered with `my_dataset.filter_cells_by_count()\n"
     ]
    }
   ],
   "source": [
    "# anndata\n",
    "gene_dataset = GeneExpressionDataset()\n",
    "gene_dataset.populate_from_data(leaves_X)"
   ]
  },
  {
   "cell_type": "code",
   "execution_count": 29,
   "metadata": {},
   "outputs": [],
   "source": [
    "n_epochs = 400\n",
    "\n",
    "vae = GaussianVAE(gene_dataset.nb_genes,\n",
    "                  n_hidden=64,\n",
    "                  n_layers=1,\n",
    "                  n_latent=ppca.latent,\n",
    "                  sigma_ldvae=None\n",
    "              )\n",
    "\n",
    "#new_weight = torch.from_numpy(ppca.W).float()\n",
    "\n",
    "#with torch.no_grad():\n",
    "    #vae.decoder.factor_regressor.fc_layers[0][0].weight = torch.nn.Parameter(new_weight)\n",
    "    \n",
    "#for param in vae.decoder.factor_regressor.fc_layers[0][0].parameters():\n",
    "#    param.requires_grad = False\n",
    "    \n",
    "#vae.decoder"
   ]
  },
  {
   "cell_type": "code",
   "execution_count": 30,
   "metadata": {},
   "outputs": [
    {
     "output_type": "stream",
     "name": "stdout",
     "text": [
      "the distance is 4.0476048556969575\n"
     ]
    }
   ],
   "source": [
    "cuda_z = torch.from_numpy(leaves_z).float()\n",
    "p_m, p_v = vae.decoder.forward( torch.from_numpy(leaves_z).float())\n",
    "p_m = p_m.detach().cpu().numpy()\n",
    "\n",
    "from sklearn.metrics import mean_squared_error\n",
    "\n",
    "mse = mean_squared_error(p_m, mu)\n",
    "print(\"the distance is {}\".format(mse))"
   ]
  },
  {
   "cell_type": "code",
   "execution_count": 31,
   "metadata": {},
   "outputs": [],
   "source": [
    "use_cuda = False\n",
    "\n",
    "trainer = GaussianTrainer(model=vae,\n",
    "                          gene_dataset=gene_dataset,\n",
    "                          train_size=1.0,\n",
    "                          use_cuda=use_cuda,\n",
    "                          frequency=10,\n",
    "                          n_epochs_kl_warmup=None,\n",
    "                         )"
   ]
  },
  {
   "cell_type": "code",
   "execution_count": 32,
   "metadata": {
    "scrolled": true,
    "tags": []
   },
   "outputs": [
    {
     "output_type": "stream",
     "name": "stdout",
     "text": [
      "computing elbo\n",
      "ELBO: 41120.38671875\n",
      "computing elbo\n",
      "ELBO: 41573.375\n",
      "computing elbo\n",
      "ELBO: 41639.9296875\n",
      "training:   1%|▏         | 5/400 [00:00<00:08, 47.43it/s]computing elbo\n",
      "ELBO: 34975.828125\n",
      "computing elbo\n",
      "ELBO: 34961.8125\n",
      "computing elbo\n",
      "ELBO: 35086.76953125\n",
      "training:   4%|▍         | 17/400 [00:00<00:04, 86.04it/s]computing elbo\n",
      "ELBO: 29249.11328125\n",
      "computing elbo\n",
      "ELBO: 29383.296875\n",
      "computing elbo\n",
      "ELBO: 29238.982421875\n",
      "computing elbo\n",
      "ELBO: 26393.66015625\n",
      "computing elbo\n",
      "ELBO: 26281.724609375\n",
      "computing elbo\n",
      "ELBO: 26265.5546875\n",
      "training:   8%|▊         | 30/400 [00:00<00:03, 103.40it/s]computing elbo\n",
      "ELBO: 24546.20703125\n",
      "computing elbo\n",
      "ELBO: 24615.16796875\n",
      "computing elbo\n",
      "ELBO: 24582.87109375\n",
      "training:  11%|█         | 44/400 [00:00<00:03, 115.32it/s]computing elbo\n",
      "ELBO: 22714.923828125\n",
      "computing elbo\n",
      "ELBO: 22663.859375\n",
      "computing elbo\n",
      "ELBO: 22670.310546875\n",
      "training:  14%|█▍        | 56/400 [00:00<00:03, 109.99it/s]computing elbo\n",
      "ELBO: 21642.6640625\n",
      "computing elbo\n",
      "ELBO: 21631.953125\n",
      "computing elbo\n",
      "ELBO: 21672.142578125\n",
      "computing elbo\n",
      "ELBO: 20892.900390625\n",
      "computing elbo\n",
      "ELBO: 20934.169921875\n",
      "computing elbo\n",
      "ELBO: 20888.564453125\n",
      "training:  18%|█▊        | 70/400 [00:00<00:02, 115.18it/s]computing elbo\n",
      "ELBO: 19913.564453125\n",
      "computing elbo\n",
      "ELBO: 19942.072265625\n",
      "computing elbo\n",
      "ELBO: 19994.814453125\n",
      "training:  21%|██        | 84/400 [00:00<00:02, 121.41it/s]computing elbo\n",
      "ELBO: 19615.94140625\n",
      "computing elbo\n",
      "ELBO: 19662.529296875\n",
      "computing elbo\n",
      "ELBO: 19633.4921875\n",
      "training:  24%|██▍       | 98/400 [00:00<00:02, 125.21it/s]computing elbo\n",
      "ELBO: 19034.02734375\n",
      "computing elbo\n",
      "ELBO: 19085.466796875\n",
      "computing elbo\n",
      "ELBO: 19044.166015625\n",
      "computing elbo\n",
      "ELBO: 18153.4765625\n",
      "computing elbo\n",
      "ELBO: 18144.927734375\n",
      "computing elbo\n",
      "ELBO: 18123.453125\n",
      "training:  28%|██▊       | 111/400 [00:00<00:02, 124.79it/s]computing elbo\n",
      "ELBO: 18153.111328125\n",
      "computing elbo\n",
      "ELBO: 18151.96484375\n",
      "computing elbo\n",
      "ELBO: 18126.640625\n",
      "training:  31%|███▏      | 125/400 [00:01<00:02, 127.68it/s]computing elbo\n",
      "ELBO: 18050.54296875\n",
      "computing elbo\n",
      "ELBO: 18040.12109375\n",
      "computing elbo\n",
      "ELBO: 17998.85546875\n",
      "training:  35%|███▍      | 139/400 [00:01<00:02, 129.34it/s]computing elbo\n",
      "ELBO: 17573.353515625\n",
      "computing elbo\n",
      "ELBO: 17567.470703125\n",
      "computing elbo\n",
      "ELBO: 17583.9375\n",
      "computing elbo\n",
      "ELBO: 17471.56640625\n",
      "computing elbo\n",
      "ELBO: 17424.6328125\n",
      "computing elbo\n",
      "ELBO: 17427.91796875\n",
      "training:  38%|███▊      | 152/400 [00:01<00:02, 120.19it/s]computing elbo\n",
      "ELBO: 17188.6015625\n",
      "computing elbo\n",
      "ELBO: 17169.185546875\n",
      "computing elbo\n",
      "ELBO: 17207.787109375\n",
      "training:  41%|████▏     | 165/400 [00:01<00:01, 117.98it/s]computing elbo\n",
      "ELBO: 16924.974609375\n",
      "computing elbo\n",
      "ELBO: 16894.11328125\n",
      "computing elbo\n",
      "ELBO: 16953.521484375\n",
      "training:  44%|████▍     | 177/400 [00:01<00:01, 116.50it/s]computing elbo\n",
      "ELBO: 17100.94921875\n",
      "computing elbo\n",
      "ELBO: 17006.875\n",
      "computing elbo\n",
      "ELBO: 17014.15625\n",
      "training:  47%|████▋     | 189/400 [00:01<00:01, 115.77it/s]computing elbo\n",
      "ELBO: 17003.416015625\n",
      "computing elbo\n",
      "ELBO: 17001.76171875\n",
      "computing elbo\n",
      "ELBO: 16999.205078125\n",
      "computing elbo\n",
      "ELBO: 16889.88671875\n",
      "computing elbo\n",
      "ELBO: 16857.279296875\n",
      "computing elbo\n",
      "ELBO: 16886.15234375\n",
      "training:  50%|█████     | 201/400 [00:01<00:01, 112.62it/s]computing elbo\n",
      "ELBO: 16511.44140625\n",
      "computing elbo\n",
      "ELBO: 16514.25390625\n",
      "computing elbo\n",
      "ELBO: 16497.05859375\n",
      "training:  53%|█████▎    | 213/400 [00:01<00:01, 112.75it/s]computing elbo\n",
      "ELBO: 16851.19921875\n",
      "computing elbo\n",
      "ELBO: 16809.439453125\n",
      "computing elbo\n",
      "ELBO: 16811.837890625\n",
      "training:  56%|█████▋    | 225/400 [00:01<00:01, 112.87it/s]computing elbo\n",
      "ELBO: 16669.07421875\n",
      "computing elbo\n",
      "ELBO: 16624.998046875\n",
      "computing elbo\n",
      "ELBO: 16724.341796875\n",
      "training:  59%|█████▉    | 237/400 [00:02<00:01, 112.93it/s]computing elbo\n",
      "ELBO: 16432.572265625\n",
      "computing elbo\n",
      "ELBO: 16470.072265625\n",
      "computing elbo\n",
      "ELBO: 16423.875\n",
      "training:  62%|██████▏   | 249/400 [00:02<00:01, 113.05it/s]computing elbo\n",
      "ELBO: 16801.04296875\n",
      "computing elbo\n",
      "ELBO: 16953.490234375\n",
      "computing elbo\n",
      "ELBO: 16917.48828125\n",
      "computing elbo\n",
      "ELBO: 17095.041015625\n",
      "computing elbo\n",
      "ELBO: 17088.982421875\n",
      "computing elbo\n",
      "ELBO: 16910.287109375\n",
      "training:  65%|██████▌   | 261/400 [00:02<00:01, 110.79it/s]computing elbo\n",
      "ELBO: 16311.55078125\n",
      "computing elbo\n",
      "ELBO: 16351.384765625\n",
      "computing elbo\n",
      "ELBO: 16429.81640625\n",
      "training:  68%|██████▊   | 273/400 [00:02<00:01, 111.42it/s]computing elbo\n",
      "ELBO: 16272.744140625\n",
      "computing elbo\n",
      "ELBO: 16387.076171875\n",
      "computing elbo\n",
      "ELBO: 16227.9296875\n",
      "training:  71%|███████▏  | 285/400 [00:02<00:01, 111.85it/s]computing elbo\n",
      "ELBO: 16417.68359375\n",
      "computing elbo\n",
      "ELBO: 16449.0703125\n",
      "computing elbo\n",
      "ELBO: 16399.478515625\n",
      "training:  74%|███████▍  | 297/400 [00:02<00:00, 111.19it/s]computing elbo\n",
      "ELBO: 16349.333984375\n",
      "computing elbo\n",
      "ELBO: 16320.9052734375\n",
      "computing elbo\n",
      "ELBO: 16267.7236328125\n",
      "training:  77%|███████▋  | 309/400 [00:02<00:00, 111.44it/s]computing elbo\n",
      "ELBO: 16253.85546875\n",
      "computing elbo\n",
      "ELBO: 16311.0\n",
      "computing elbo\n",
      "ELBO: 16328.3017578125\n",
      "computing elbo\n",
      "ELBO: 16244.2431640625\n",
      "computing elbo\n",
      "ELBO: 16304.0634765625\n",
      "computing elbo\n",
      "ELBO: 16399.830078125\n",
      "training:  80%|████████  | 321/400 [00:02<00:00, 109.40it/s]computing elbo\n",
      "ELBO: 16466.716796875\n",
      "computing elbo\n",
      "ELBO: 16497.951171875\n",
      "computing elbo\n",
      "ELBO: 16395.806640625\n",
      "training:  83%|████████▎ | 333/400 [00:02<00:00, 110.17it/s]computing elbo\n",
      "ELBO: 16507.068359375\n",
      "computing elbo\n",
      "ELBO: 16506.662109375\n",
      "computing elbo\n",
      "ELBO: 16655.6171875\n",
      "training:  86%|████████▋ | 345/400 [00:03<00:00, 110.29it/s]computing elbo\n",
      "ELBO: 16227.515625\n",
      "computing elbo\n",
      "ELBO: 16096.7333984375\n",
      "computing elbo\n",
      "ELBO: 16307.6689453125\n",
      "training:  89%|████████▉ | 357/400 [00:03<00:00, 111.13it/s]computing elbo\n",
      "ELBO: 16654.759765625\n",
      "computing elbo\n",
      "ELBO: 16564.330078125\n",
      "computing elbo\n",
      "ELBO: 16602.1875\n",
      "training:  92%|█████████▏| 369/400 [00:03<00:00, 111.78it/s]computing elbo\n",
      "ELBO: 16436.30859375\n",
      "computing elbo\n",
      "ELBO: 16380.7265625\n",
      "computing elbo\n",
      "ELBO: 16395.7890625\n",
      "computing elbo\n",
      "ELBO: 15709.787109375\n",
      "computing elbo\n",
      "ELBO: 15668.1826171875\n",
      "computing elbo\n",
      "ELBO: 15835.8173828125\n",
      "training:  95%|█████████▌| 381/400 [00:03<00:00, 109.59it/s]computing elbo\n",
      "ELBO: 16677.40234375\n",
      "computing elbo\n",
      "ELBO: 16824.943359375\n",
      "computing elbo\n",
      "ELBO: 16722.05859375\n",
      "training:  98%|█████████▊| 393/400 [00:03<00:00, 110.79it/s]computing elbo\n",
      "ELBO: 15990.724609375\n",
      "computing elbo\n",
      "ELBO: 15909.58984375\n",
      "computing elbo\n",
      "ELBO: 16094.0322265625\n",
      "training: 100%|██████████| 400/400 [00:03<00:00, 113.17it/s]\n"
     ]
    }
   ],
   "source": [
    "# train VAE\n",
    "trainer.train(n_epochs=n_epochs, lr=1e-2) "
   ]
  },
  {
   "cell_type": "code",
   "execution_count": 33,
   "metadata": {},
   "outputs": [],
   "source": [
    "elbo_train = trainer.history[\"elbo_train_set\"]\n",
    "x = np.linspace(0, 100, (len(elbo_train)))\n",
    "plt.plot(np.log(elbo_train), \n",
    "         label=\"train\", color='blue',\n",
    "         linestyle=':',\n",
    "         linewidth=3\n",
    "        )\n",
    "        \n",
    "plt.xlabel('Epoch')\n",
    "plt.ylabel(\"ELBO\")\n",
    "plt.legend()\n",
    "plt.title(\"Train history Gaussian VAE\")\n",
    "plt.show()"
   ]
  },
  {
   "cell_type": "code",
   "execution_count": 34,
   "metadata": {},
   "outputs": [
    {
     "output_type": "execute_result",
     "data": {
      "text/plain": [
       "2.682994701790448"
      ]
     },
     "metadata": {},
     "execution_count": 34
    }
   ],
   "source": [
    "from sklearn.metrics import mean_squared_error\n",
    "\n",
    "posterior =  trainer.create_posterior(model=vae,\n",
    "                                      gene_dataset=gene_dataset\n",
    "                                      )\n",
    "                                      \n",
    "qz_m, qz_v = posterior.get_latent(give_mean=True, give_cov=True)\n",
    "mean_squared_error(qz_m, leaves_z)"
   ]
  },
  {
   "cell_type": "code",
   "execution_count": 35,
   "metadata": {},
   "outputs": [
    {
     "output_type": "execute_result",
     "data": {
      "text/plain": [
       "(100, 100)"
      ]
     },
     "metadata": {},
     "execution_count": 35
    }
   ],
   "source": [
    "imputed_avg_vae, imputed_avg_z, imputed_avg_cov_z = avg_baseline_z(tree=tree,\n",
    "                                 model=vae,\n",
    "                                 posterior=posterior,\n",
    "                                 weighted=False,\n",
    "                                 n_samples_z=1,\n",
    "                                 gaussian=True,\n",
    "                                 use_cuda=False,\n",
    "                                 give_cov=True\n",
    "                                )\n",
    "\n",
    "internal_vae_X = np.array([x for x in imputed_avg_vae.values()]).reshape(-1, ppca.X.shape[1])\n",
    "internal_vae_X.shape    "
   ]
  },
  {
   "cell_type": "code",
   "execution_count": 36,
   "metadata": {},
   "outputs": [
    {
     "output_type": "stream",
     "name": "stdout",
     "text": [
      "computing elbo\nELBO: 16042.712890625\n"
     ]
    },
    {
     "output_type": "execute_result",
     "data": {
      "text/plain": [
       "160.42712890625"
      ]
     },
     "metadata": {},
     "execution_count": 36
    }
   ],
   "source": [
    "posterior.elbo()"
   ]
  },
  {
   "cell_type": "markdown",
   "metadata": {},
   "source": [
    "# 3. Our Model: GaussianTreeVAE"
   ]
  },
  {
   "cell_type": "code",
   "execution_count": 37,
   "metadata": {},
   "outputs": [
    {
     "output_type": "stream",
     "name": "stderr",
     "text": [
      "This dataset has some empty cells, this might fail scVI inference.Data should be filtered with `my_dataset.filter_cells_by_count()\n",
      "X contains continuous and/or negative values. Please use raw UMI/read counts with scVI\n",
      "This dataset has some empty cells, this might fail scVI inference.Data should be filtered with `my_dataset.filter_cells_by_count()\n",
      "This dataset has some empty cells, this might fail scVI inference.Data should be filtered with `my_dataset.filter_cells_by_count()\n",
      "This dataset has some empty cells, this might fail scVI inference.Data should be filtered with `my_dataset.filter_cells_by_count()\n",
      "go\n"
     ]
    },
    {
     "output_type": "execute_result",
     "data": {
      "text/plain": [
       "GeneExpressionDataset object with n_cells x nb_genes = 100 x 100\n",
       "    gene_attribute_names: 'gene_names'\n",
       "    cell_attribute_names: 'barcodes', 'batch_indices', 'labels', 'local_vars', 'local_means'\n",
       "    cell_categorical_attribute_names: 'labels', 'batch_indices'"
      ]
     },
     "metadata": {},
     "execution_count": 37
    }
   ],
   "source": [
    "import scanpy as sc\n",
    "\n",
    "adata = AnnData(leaves_X)\n",
    "adata.obs_names = [n.name for n in tree.traverse('levelorder') if n.is_leaf()]\n",
    "scvi_dataset = AnnDatasetFromAnnData(adata, filtering=False)\n",
    "scvi_dataset.initialize_cell_attribute('barcodes', adata.obs_names)\n",
    "\n",
    "#TreeDataset\n",
    "cas_dataset = TreeDataset(scvi_dataset, tree=tree, filtering=False)\n",
    "cas_dataset"
   ]
  },
  {
   "cell_type": "code",
   "execution_count": 38,
   "metadata": {},
   "outputs": [],
   "source": [
    "use_cuda = True\n",
    "use_MP = True\n",
    "\n",
    "treevae = GaussianTreeVAE(cas_dataset.nb_genes,\n",
    "              tree = cas_dataset.tree,\n",
    "              n_latent=ppca.latent,\n",
    "              n_hidden=64,\n",
    "              n_layers=1,\n",
    "              prior_t = branch_length,\n",
    "              use_MP=use_MP,\n",
    "              sigma_ldvae=None\n",
    "             )"
   ]
  },
  {
   "cell_type": "markdown",
   "metadata": {},
   "source": [
    "***Freezing the decoder***"
   ]
  },
  {
   "cell_type": "code",
   "execution_count": 39,
   "metadata": {},
   "outputs": [],
   "source": [
    "#new_weight = torch.from_numpy(ppca.W).float()\n",
    "\n",
    "#with torch.no_grad():\n",
    "    #treevae.decoder.factor_regressor.fc_layers[0][0].weight = torch.nn.Parameter(new_weight)\n",
    "    \n",
    "#for param in treevae.decoder.factor_regressor.fc_layers[0][0].parameters():\n",
    "    #param.requires_grad = False\n",
    "    \n",
    "#treevae.decoder"
   ]
  },
  {
   "cell_type": "code",
   "execution_count": 40,
   "metadata": {},
   "outputs": [],
   "source": [
    "#assert(treevae.decoder.factor_regressor.fc_layers[0][0].weight.numpy().all() == ppca.W.T.all())"
   ]
  },
  {
   "source": [
    "\n",
    "***Are we able to generate the gene expression data by decoding the simulated latent space?***"
   ],
   "cell_type": "markdown",
   "metadata": {}
  },
  {
   "cell_type": "code",
   "execution_count": 41,
   "metadata": {},
   "outputs": [],
   "source": [
    "#p_m, p_v = treevae.decoder.forward(torch.from_numpy(leaves_z).float())\n",
    "#p_m = p_m.detach().numpy()\n",
    "#p_m.shape, mu.shape"
   ]
  },
  {
   "cell_type": "code",
   "execution_count": 42,
   "metadata": {},
   "outputs": [],
   "source": [
    "#mse = mean_squared_error(p_m, mu)\n",
    "#print(\"the distance is {}\".format(mse))"
   ]
  },
  {
   "cell_type": "markdown",
   "metadata": {},
   "source": [
    "***Training***"
   ]
  },
  {
   "cell_type": "code",
   "execution_count": 43,
   "metadata": {},
   "outputs": [
    {
     "output_type": "stream",
     "name": "stdout",
     "text": [
      "train_leaves:  [[0], [1], [2], [3], [4], [5], [6], [7], [8], [9], [10], [11], [12], [13], [14], [15], [16], [17], [18], [19], [20], [21], [22], [23], [24], [25], [26], [27], [28], [29], [30], [31], [32], [33], [34], [35], [36], [37], [38], [39], [40], [41], [42], [43], [44], [45], [46], [47], [48], [49], [50], [51], [52], [53], [54], [55], [56], [57], [58], [59], [60], [61], [62], [63], [64], [65], [66], [67], [68], [69], [70], [71], [72], [73], [74], [75], [76], [77], [78], [79], [80], [81], [82], [83], [84], [85], [86], [87], [88], [89], [90], [91], [92], [93], [94], [95], [96], [97], [98], [99]]\ntest_leaves:  []\nvalidation leaves:  []\n"
     ]
    }
   ],
   "source": [
    "n_epochs = 600\n",
    "lr = 1e-2\n",
    "lambda_ = 1.0\n",
    "freq = 10\n",
    "\n",
    "tree_trainer = GaussianTreeTrainer(\n",
    "        model = treevae,\n",
    "        gene_dataset = cas_dataset,\n",
    "        lambda_ = lambda_,\n",
    "        train_size=1.0,\n",
    "        test_size=0,\n",
    "        use_cuda=use_cuda,\n",
    "        frequency=freq,\n",
    "        n_epochs_kl_warmup=None\n",
    "    )"
   ]
  },
  {
   "cell_type": "code",
   "execution_count": 44,
   "metadata": {
    "scrolled": true,
    "tags": []
   },
   "outputs": [
    {
     "output_type": "stream",
     "name": "stdout",
     "text": [
      "computing elbo\n",
      "training:   2%|▏         | 9/600 [00:01<01:26,  6.80it/s]computing elbo\n",
      "training:   3%|▎         | 19/600 [00:02<01:25,  6.79it/s]computing elbo\n",
      "training:   5%|▍         | 29/600 [00:04<01:23,  6.81it/s]computing elbo\n",
      "training:   6%|▋         | 39/600 [00:05<01:22,  6.80it/s]computing elbo\n",
      "training:   8%|▊         | 48/600 [00:07<01:21,  6.80it/s]computing elbo\n",
      "training:  10%|▉         | 59/600 [00:08<01:03,  8.58it/s]computing elbo\n",
      "training:  12%|█▏        | 69/600 [00:09<01:01,  8.58it/s]computing elbo\n",
      "training:  13%|█▎        | 79/600 [00:10<00:59,  8.81it/s]computing elbo\n",
      "training:  15%|█▍        | 89/600 [00:11<00:59,  8.62it/s]computing elbo\n",
      "training:  16%|█▋        | 99/600 [00:12<00:58,  8.52it/s]computing elbo\n",
      "training:  18%|█▊        | 109/600 [00:14<01:25,  5.72it/s]computing elbo\n",
      "training:  20%|█▉        | 118/600 [00:15<00:28, 16.92it/s]computing elbo\n",
      "training:  21%|██        | 127/600 [00:15<00:20, 23.30it/s]computing elbo\n",
      "training:  23%|██▎       | 139/600 [00:15<00:16, 27.15it/s]computing elbo\n",
      "training:  25%|██▍       | 148/600 [00:16<00:16, 26.87it/s]computing elbo\n",
      "training:  26%|██▌       | 157/600 [00:16<00:16, 26.80it/s]computing elbo\n",
      "training:  28%|██▊       | 169/600 [00:16<00:15, 28.18it/s]computing elbo\n",
      "training:  30%|██▉       | 178/600 [00:17<00:15, 27.43it/s]computing elbo\n",
      "training:  31%|███       | 187/600 [00:17<00:14, 27.72it/s]computing elbo\n",
      "training:  33%|███▎      | 199/600 [00:17<00:14, 28.15it/s]computing elbo\n",
      "training:  35%|███▍      | 208/600 [00:18<00:13, 28.04it/s]computing elbo\n",
      "training:  36%|███▌      | 217/600 [00:18<00:13, 28.01it/s]computing elbo\n",
      "training:  38%|███▊      | 229/600 [00:19<00:13, 28.45it/s]computing elbo\n",
      "training:  40%|███▉      | 238/600 [00:19<00:13, 27.82it/s]computing elbo\n",
      "training:  41%|████      | 247/600 [00:19<00:12, 27.88it/s]computing elbo\n",
      "training:  43%|████▎     | 259/600 [00:20<00:12, 28.29it/s]computing elbo\n",
      "training:  45%|████▍     | 268/600 [00:20<00:11, 27.99it/s]computing elbo\n",
      "training:  46%|████▌     | 277/600 [00:20<00:11, 27.86it/s]computing elbo\n",
      "training:  48%|████▊     | 289/600 [00:21<00:10, 28.30it/s]computing elbo\n",
      "training:  50%|████▉     | 298/600 [00:21<00:10, 27.78it/s]computing elbo\n",
      "training:  51%|█████     | 307/600 [00:21<00:10, 27.22it/s]computing elbo\n",
      "training:  53%|█████▎    | 319/600 [00:22<00:20, 13.75it/s]computing elbo\n",
      "training:  55%|█████▍    | 329/600 [00:24<00:34,  7.79it/s]computing elbo\n",
      "training:  56%|█████▋    | 339/600 [00:25<00:38,  6.85it/s]computing elbo\n",
      "training:  58%|█████▊    | 349/600 [00:27<00:36,  6.91it/s]computing elbo\n",
      "training:  60%|█████▉    | 359/600 [00:28<00:34,  6.95it/s]computing elbo\n",
      "training:  62%|██████▏   | 369/600 [00:30<00:34,  6.72it/s]computing elbo\n",
      "training:  63%|██████▎   | 379/600 [00:31<00:34,  6.47it/s]computing elbo\n",
      "training:  65%|██████▍   | 389/600 [00:33<00:32,  6.46it/s]computing elbo\n",
      "training:  66%|██████▋   | 399/600 [00:34<00:31,  6.45it/s]computing elbo\n",
      "training:  68%|██████▊   | 409/600 [00:36<00:30,  6.16it/s]computing elbo\n",
      "training:  70%|██████▉   | 419/600 [00:37<00:15, 11.84it/s]computing elbo\n",
      "training:  72%|███████▏  | 429/600 [00:37<00:09, 17.81it/s]computing elbo\n",
      "training:  73%|███████▎  | 439/600 [00:39<00:19,  8.31it/s]computing elbo\n",
      "training:  75%|███████▍  | 449/600 [00:40<00:21,  6.91it/s]computing elbo\n",
      "training:  76%|███████▋  | 459/600 [00:42<00:20,  6.86it/s]computing elbo\n",
      "training:  78%|███████▊  | 469/600 [00:43<00:19,  6.85it/s]computing elbo\n",
      "training:  80%|███████▉  | 479/600 [00:45<00:17,  6.93it/s]computing elbo\n",
      "training:  82%|████████▏ | 489/600 [00:46<00:16,  6.58it/s]computing elbo\n",
      "training:  83%|████████▎ | 499/600 [00:48<00:15,  6.47it/s]computing elbo\n",
      "training:  85%|████████▍ | 509/600 [00:49<00:11,  7.96it/s]computing elbo\n",
      "training:  86%|████████▋ | 519/600 [00:50<00:09,  8.58it/s]computing elbo\n",
      "training:  88%|████████▊ | 529/600 [00:52<00:12,  5.63it/s]computing elbo\n",
      "training:  90%|████████▉ | 538/600 [00:53<00:04, 13.97it/s]computing elbo\n",
      "training:  91%|█████████ | 547/600 [00:53<00:02, 21.69it/s]computing elbo\n",
      "training:  93%|█████████▎| 559/600 [00:53<00:01, 26.15it/s]computing elbo\n",
      "training:  95%|█████████▍| 568/600 [00:54<00:01, 27.18it/s]computing elbo\n",
      "training:  96%|█████████▌| 577/600 [00:54<00:00, 26.73it/s]computing elbo\n",
      "training:  98%|█████████▊| 589/600 [00:55<00:00, 28.02it/s]computing elbo\n",
      "training: 100%|█████████▉| 598/600 [00:55<00:00, 27.11it/s]computing elbo\n",
      "training: 100%|██████████| 600/600 [00:55<00:00, 10.82it/s]\n"
     ]
    }
   ],
   "source": [
    "tree_trainer.train(n_epochs=n_epochs,\n",
    "              lr=lr\n",
    "              )"
   ]
  },
  {
   "cell_type": "code",
   "execution_count": 44,
   "metadata": {},
   "outputs": [],
   "source": [
    "training_dashboard(tree_trainer, treevae.encoder_variance)"
   ]
  },
  {
   "cell_type": "code",
   "execution_count": 45,
   "metadata": {},
   "outputs": [
    {
     "output_type": "execute_result",
     "data": {
      "text/plain": [
       "((100, 5), (100, 5))"
      ]
     },
     "metadata": {},
     "execution_count": 45
    }
   ],
   "source": [
    "tree_posterior = tree_trainer.create_posterior(model=treevae,\n",
    "                                              gene_dataset=cas_dataset,\n",
    "                                               clades=tree_trainer.clades,\n",
    "                                               indices=np.arange(len(cas_dataset))\n",
    "                                              )\n",
    "tree_latent = tree_posterior.get_latent()\n",
    "tree_latent.shape, internal_z.shape"
   ]
  },
  {
   "cell_type": "markdown",
   "metadata": {},
   "source": [
    "***Missing Value Imputation***"
   ]
  },
  {
   "cell_type": "code",
   "execution_count": 55,
   "metadata": {},
   "outputs": [
    {
     "output_type": "execute_result",
     "data": {
      "text/plain": [
       "(200, 100)"
      ]
     },
     "metadata": {},
     "execution_count": 55
    }
   ],
   "source": [
    "ppca.X.shape"
   ]
  },
  {
   "cell_type": "code",
   "execution_count": 56,
   "metadata": {},
   "outputs": [],
   "source": [
    "# CascVI imputations\n",
    "imputed = {}\n",
    "imputed_z = {}\n",
    "imputed_cov_z = {}\n",
    "imputed_mean_z = {}\n",
    "imputed_gt = {}\n",
    "for i, n in enumerate(tree.traverse('levelorder')):\n",
    "    if not n.is_leaf():\n",
    "        imputed[n.name], z, imputed_mean_z[n.name], imputed_cov_z[n.name] = tree_posterior.imputation_internal(query_node=n,\n",
    "                                                                                             pp_averaging=None,\n",
    "                                                                                              z_averaging=None,\n",
    "                                                                                              give_mean=True \n",
    "                                                                                            )  \n",
    "        imputed_z[n.name] = z.cpu().numpy()\n",
    "        imputed_gt[n.name] = ppca.X[n.index]\n",
    "                                                                                                                                         "
   ]
  },
  {
   "cell_type": "code",
   "execution_count": 47,
   "metadata": {},
   "outputs": [],
   "source": [
    "internal_treevae_X = [x for x in imputed.values()]\n",
    "internal_treevae_X = np.array(internal_treevae_X).reshape(-1, cas_dataset.X.shape[1])"
   ]
  },
  {
   "cell_type": "code",
   "execution_count": 48,
   "metadata": {},
   "outputs": [
    {
     "output_type": "stream",
     "name": "stdout",
     "text": [
      "computing elbo\n"
     ]
    },
    {
     "output_type": "execute_result",
     "data": {
      "text/plain": [
       "tensor(144.8523, device='cuda:0', grad_fn=<DivBackward0>)"
      ]
     },
     "metadata": {},
     "execution_count": 48
    }
   ],
   "source": [
    "tree_posterior.compute_elbo(treevae)"
   ]
  },
  {
   "source": [],
   "cell_type": "markdown",
   "metadata": {}
  },
  {
   "source": [
    "# Evaluation"
   ],
   "cell_type": "markdown",
   "metadata": {}
  },
  {
   "cell_type": "markdown",
   "metadata": {},
   "source": [
    "## Evaluation 1.a.i: MSE/MAE L2/L1 error"
   ]
  },
  {
   "cell_type": "code",
   "execution_count": 49,
   "metadata": {},
   "outputs": [],
   "source": [
    "from external.utils.metrics import mse\n",
    "\n",
    "data = {'groundtruth': imputed_X, 'average': internal_avg_X,\n",
    "        'gaussian VAE': internal_vae_X\n",
    "        , 'gaussian treeVAE': internal_treevae_X\n",
    "       }"
   ]
  },
  {
   "cell_type": "code",
   "execution_count": 50,
   "metadata": {},
   "outputs": [
    {
     "output_type": "stream",
     "name": "stdout",
     "text": [
      "L2\n"
     ]
    },
    {
     "output_type": "execute_result",
     "data": {
      "text/plain": [
       "      average  gaussian VAE  gaussian treeVAE\n",
       "MSE  0.716502      0.831619          0.542612\n",
       "std  0.311072      0.386643          0.183590"
      ],
      "text/html": "<div>\n<style scoped>\n    .dataframe tbody tr th:only-of-type {\n        vertical-align: middle;\n    }\n\n    .dataframe tbody tr th {\n        vertical-align: top;\n    }\n\n    .dataframe thead th {\n        text-align: right;\n    }\n</style>\n<table border=\"1\" class=\"dataframe\">\n  <thead>\n    <tr style=\"text-align: right;\">\n      <th></th>\n      <th>average</th>\n      <th>gaussian VAE</th>\n      <th>gaussian treeVAE</th>\n    </tr>\n  </thead>\n  <tbody>\n    <tr>\n      <th>MSE</th>\n      <td>0.716502</td>\n      <td>0.831619</td>\n      <td>0.542612</td>\n    </tr>\n    <tr>\n      <th>std</th>\n      <td>0.311072</td>\n      <td>0.386643</td>\n      <td>0.183590</td>\n    </tr>\n  </tbody>\n</table>\n</div>"
     },
     "metadata": {},
     "execution_count": 50
    }
   ],
   "source": [
    "results = mse(data=data, metric='MSE')\n",
    "print('L2')\n",
    "results"
   ]
  },
  {
   "cell_type": "code",
   "execution_count": 51,
   "metadata": {},
   "outputs": [
    {
     "output_type": "stream",
     "name": "stdout",
     "text": [
      "L1\n"
     ]
    },
    {
     "output_type": "execute_result",
     "data": {
      "text/plain": [
       "      average  gaussian VAE  gaussian treeVAE\n",
       "MSE  0.652870      0.707291          0.581885\n",
       "std  0.161766      0.166690          0.094513"
      ],
      "text/html": "<div>\n<style scoped>\n    .dataframe tbody tr th:only-of-type {\n        vertical-align: middle;\n    }\n\n    .dataframe tbody tr th {\n        vertical-align: top;\n    }\n\n    .dataframe thead th {\n        text-align: right;\n    }\n</style>\n<table border=\"1\" class=\"dataframe\">\n  <thead>\n    <tr style=\"text-align: right;\">\n      <th></th>\n      <th>average</th>\n      <th>gaussian VAE</th>\n      <th>gaussian treeVAE</th>\n    </tr>\n  </thead>\n  <tbody>\n    <tr>\n      <th>MSE</th>\n      <td>0.652870</td>\n      <td>0.707291</td>\n      <td>0.581885</td>\n    </tr>\n    <tr>\n      <th>std</th>\n      <td>0.161766</td>\n      <td>0.166690</td>\n      <td>0.094513</td>\n    </tr>\n  </tbody>\n</table>\n</div>"
     },
     "metadata": {},
     "execution_count": 51
    }
   ],
   "source": [
    "results = mse(data=data, metric='L1')\n",
    "print('L1')\n",
    "results"
   ]
  },
  {
   "source": [
    "## Evaluation 1.a.ii: Correlations "
   ],
   "cell_type": "markdown",
   "metadata": {}
  },
  {
   "cell_type": "code",
   "execution_count": 52,
   "metadata": {},
   "outputs": [],
   "source": [
    "data = {'groundtruth': imputed_X, 'average': internal_avg_X,\n",
    "        'gaussian VAE': internal_vae_X\n",
    "        , 'gaussian treeVAE': internal_treevae_X\n",
    "       }\n",
    "\n",
    "df1 = correlations(data, 'None', True)"
   ]
  },
  {
   "cell_type": "code",
   "execution_count": 53,
   "metadata": {},
   "outputs": [
    {
     "output_type": "stream",
     "name": "stdout",
     "text": [
      "gene-gene correlation\n"
     ]
    },
    {
     "output_type": "execute_result",
     "data": {
      "text/plain": [
       "                  Spearman CC  Pearson CC  Kendal Tau CC\n",
       "average              0.757535    0.781487       0.583554\n",
       "gaussian VAE         0.771515    0.798094       0.598016\n",
       "gaussian treeVAE     0.778398    0.813205       0.608073"
      ],
      "text/html": "<div>\n<style scoped>\n    .dataframe tbody tr th:only-of-type {\n        vertical-align: middle;\n    }\n\n    .dataframe tbody tr th {\n        vertical-align: top;\n    }\n\n    .dataframe thead th {\n        text-align: right;\n    }\n</style>\n<table border=\"1\" class=\"dataframe\">\n  <thead>\n    <tr style=\"text-align: right;\">\n      <th></th>\n      <th>Spearman CC</th>\n      <th>Pearson CC</th>\n      <th>Kendal Tau CC</th>\n    </tr>\n  </thead>\n  <tbody>\n    <tr>\n      <th>average</th>\n      <td>0.757535</td>\n      <td>0.781487</td>\n      <td>0.583554</td>\n    </tr>\n    <tr>\n      <th>gaussian VAE</th>\n      <td>0.771515</td>\n      <td>0.798094</td>\n      <td>0.598016</td>\n    </tr>\n    <tr>\n      <th>gaussian treeVAE</th>\n      <td>0.778398</td>\n      <td>0.813205</td>\n      <td>0.608073</td>\n    </tr>\n  </tbody>\n</table>\n</div>"
     },
     "metadata": {},
     "execution_count": 53
    }
   ],
   "source": [
    "data_dict = {}\n",
    "methods = list(data.keys())[1:]\n",
    "for method in methods:\n",
    "    data_dict[method] = list(df1[df1.Method==method].mean())\n",
    "results_corr = pd.DataFrame.from_dict(data_dict, orient='index', columns=['Spearman CC', 'Pearson CC', 'Kendal Tau CC'])\n",
    "\n",
    "print('gene-gene correlation')\n",
    "results_corr.head(10)"
   ]
  },
  {
   "source": [
    "## Evaluation 1.a.iii: MSE/MAE (L1/L2) of variance in latent space"
   ],
   "cell_type": "markdown",
   "metadata": {}
  },
  {
   "source": [
    "***Compute MCMC estimates of mean and variance parameters of internal_nodes***"
   ],
   "cell_type": "markdown",
   "metadata": {}
  },
  {
   "cell_type": "code",
   "execution_count": 57,
   "metadata": {
    "tags": []
   },
   "outputs": [],
   "source": [
    "imputed_mcmc_cov = {}\n",
    "imputed_mcmc_mean = {}\n",
    "\n",
    "mcmc_mean = {}\n",
    "mcmc_cov = {}\n",
    "M = 20\n",
    "\n",
    "for n in tree.traverse('levelorder'):\n",
    "    if not n.is_leaf():\n",
    "        # with Approximate posterior q(z|x)\n",
    "        imputed_mcmc_mean[n.name], imputed_mcmc_cov[n.name] = tree_posterior.mcmc_estimate(query_node=n,\n",
    "                                                                                            n_samples=M\n",
    "                                                                                            )\n",
    "        # with groundtruth posterior p(z|x)\n",
    "        #mean=posterior_mean_corr\n",
    "        #cov=posterior_cov_corr\n",
    "\n",
    "        #mcmc_mean[n.name], mcmc_cov[n.name] = tree_posterior.mcmc_estimate(query_node=n,\n",
    "                                                            #n_samples=M,\n",
    "                                                            #known_latent_dist=(mean, cov)\n",
    "                                                            #)"
   ]
  },
  {
   "cell_type": "code",
   "execution_count": 61,
   "metadata": {},
   "outputs": [
    {
     "output_type": "execute_result",
     "data": {
      "text/plain": [
       "4.817789372250834"
      ]
     },
     "metadata": {},
     "execution_count": 61
    }
   ],
   "source": [
    "mean_squared_error(imputed_gt['0'], imputed['0'][0])"
   ]
  },
  {
   "cell_type": "code",
   "execution_count": 65,
   "metadata": {},
   "outputs": [
    {
     "output_type": "execute_result",
     "data": {
      "text/plain": [
       "0.3903205879273148"
      ]
     },
     "metadata": {},
     "execution_count": 65
    }
   ],
   "source": [
    "(tree & '3').get_distance(tree)"
   ]
  },
  {
   "cell_type": "code",
   "execution_count": null,
   "metadata": {},
   "outputs": [],
   "source": [
    "L = []\n",
    "columns = ['node index', 'imputation', 'MSE', 'variance', 'node depth' ]\n",
    "for n in tree.traverse('levelorder'):\n",
    "    depth = n.get_distance(tree)\n",
    "    if not n.is_leaf():\n",
    "        mse = mean_squared_error(imputed_gt[n.name], imputed[n.name][0])\n",
    "        L.append([n.name, imputed_cov_z[n.name], mse, imputed_cov_z[n.name]"
   ]
  },
  {
   "cell_type": "code",
   "execution_count": 78,
   "metadata": {},
   "outputs": [
    {
     "output_type": "error",
     "ename": "NameError",
     "evalue": "name 'qz_m' is not defined",
     "traceback": [
      "\u001b[0;31m---------------------------------------------------------------------------\u001b[0m",
      "\u001b[0;31mNameError\u001b[0m                                 Traceback (most recent call last)",
      "\u001b[0;32m<ipython-input-78-44026a49aad9>\u001b[0m in \u001b[0;36m<module>\u001b[0;34m\u001b[0m\n\u001b[0;32m----> 1\u001b[0;31m \u001b[0mtree_posterior\u001b[0m\u001b[0;34m.\u001b[0m\u001b[0mgenerate\u001b[0m\u001b[0;34m(\u001b[0m\u001b[0;34m)\u001b[0m\u001b[0;34m\u001b[0m\u001b[0;34m\u001b[0m\u001b[0m\n\u001b[0m",
      "\u001b[0;32m~/miniconda3/envs/scvi-env/lib/python3.7/site-packages/torch/autograd/grad_mode.py\u001b[0m in \u001b[0;36mdecorate_context\u001b[0;34m(*args, **kwargs)\u001b[0m\n\u001b[1;32m     24\u001b[0m         \u001b[0;32mdef\u001b[0m \u001b[0mdecorate_context\u001b[0m\u001b[0;34m(\u001b[0m\u001b[0;34m*\u001b[0m\u001b[0margs\u001b[0m\u001b[0;34m,\u001b[0m \u001b[0;34m**\u001b[0m\u001b[0mkwargs\u001b[0m\u001b[0;34m)\u001b[0m\u001b[0;34m:\u001b[0m\u001b[0;34m\u001b[0m\u001b[0;34m\u001b[0m\u001b[0m\n\u001b[1;32m     25\u001b[0m             \u001b[0;32mwith\u001b[0m \u001b[0mself\u001b[0m\u001b[0;34m.\u001b[0m\u001b[0m__class__\u001b[0m\u001b[0;34m(\u001b[0m\u001b[0;34m)\u001b[0m\u001b[0;34m:\u001b[0m\u001b[0;34m\u001b[0m\u001b[0;34m\u001b[0m\u001b[0m\n\u001b[0;32m---> 26\u001b[0;31m                 \u001b[0;32mreturn\u001b[0m \u001b[0mfunc\u001b[0m\u001b[0;34m(\u001b[0m\u001b[0;34m*\u001b[0m\u001b[0margs\u001b[0m\u001b[0;34m,\u001b[0m \u001b[0;34m**\u001b[0m\u001b[0mkwargs\u001b[0m\u001b[0;34m)\u001b[0m\u001b[0;34m\u001b[0m\u001b[0;34m\u001b[0m\u001b[0m\n\u001b[0m\u001b[1;32m     27\u001b[0m         \u001b[0;32mreturn\u001b[0m \u001b[0mcast\u001b[0m\u001b[0;34m(\u001b[0m\u001b[0mF\u001b[0m\u001b[0;34m,\u001b[0m \u001b[0mdecorate_context\u001b[0m\u001b[0;34m)\u001b[0m\u001b[0;34m\u001b[0m\u001b[0;34m\u001b[0m\u001b[0m\n\u001b[1;32m     28\u001b[0m \u001b[0;34m\u001b[0m\u001b[0m\n",
      "\u001b[0;32m~/Cassiopeia_Transcriptome/scvi/external/inference/gaussian_tree_inference.py\u001b[0m in \u001b[0;36mgenerate\u001b[0;34m(self, n_samples, batch_size)\u001b[0m\n\u001b[1;32m    167\u001b[0m             \u001b[0mpx_m\u001b[0m \u001b[0;34m=\u001b[0m \u001b[0moutputs\u001b[0m\u001b[0;34m[\u001b[0m\u001b[0;34m\"px_m\"\u001b[0m\u001b[0;34m]\u001b[0m\u001b[0;34m\u001b[0m\u001b[0;34m\u001b[0m\u001b[0m\n\u001b[1;32m    168\u001b[0m             \u001b[0mpx_v\u001b[0m \u001b[0;34m=\u001b[0m \u001b[0moutputs\u001b[0m\u001b[0;34m[\u001b[0m\u001b[0;34m\"px_v\"\u001b[0m\u001b[0;34m]\u001b[0m\u001b[0;34m\u001b[0m\u001b[0;34m\u001b[0m\u001b[0m\n\u001b[0;32m--> 169\u001b[0;31m             \u001b[0mdist\u001b[0m \u001b[0;34m=\u001b[0m \u001b[0mNormal\u001b[0m\u001b[0;34m(\u001b[0m\u001b[0mqz_m\u001b[0m\u001b[0;34m,\u001b[0m \u001b[0mqz_v\u001b[0m\u001b[0;34m.\u001b[0m\u001b[0msqrt\u001b[0m\u001b[0;34m(\u001b[0m\u001b[0;34m)\u001b[0m\u001b[0;34m)\u001b[0m\u001b[0;34m\u001b[0m\u001b[0;34m\u001b[0m\u001b[0m\n\u001b[0m\u001b[1;32m    170\u001b[0m \u001b[0;34m\u001b[0m\u001b[0m\n\u001b[1;32m    171\u001b[0m             \u001b[0mgene_expressions\u001b[0m \u001b[0;34m=\u001b[0m \u001b[0mdist\u001b[0m\u001b[0;34m.\u001b[0m\u001b[0msample\u001b[0m\u001b[0;34m(\u001b[0m\u001b[0;34m)\u001b[0m\u001b[0;34m\u001b[0m\u001b[0;34m\u001b[0m\u001b[0m\n",
      "\u001b[0;31mNameError\u001b[0m: name 'qz_m' is not defined"
     ]
    }
   ],
   "source": [
    "tree_posterior.generate()"
   ]
  },
  {
   "cell_type": "code",
   "execution_count": 77,
   "metadata": {},
   "outputs": [
    {
     "output_type": "execute_result",
     "data": {
      "text/plain": [
       "(100, 100)"
      ]
     },
     "metadata": {},
     "execution_count": 77
    }
   ],
   "source": [
    "imputed_X.shape"
   ]
  },
  {
   "cell_type": "code",
   "execution_count": 75,
   "metadata": {},
   "outputs": [
    {
     "output_type": "execute_result",
     "data": {
      "text/plain": [
       "{'0': array([7.28446868e-09, 1.00191857e-08, 6.80379276e-09, 1.03124424e-08,\n",
       "        1.05196603e-08]),\n",
       " '1': array([1.48976283e-08, 1.58957145e-08, 1.35248075e-08, 6.29483367e-09,\n",
       "        1.10828952e-08]),\n",
       " '2': array([1.28683474e-08, 1.02599737e-08, 1.62219869e-08, 1.33261366e-08,\n",
       "        1.56799913e-08]),\n",
       " '3': array([2.45763020e-08, 3.50777338e-08, 4.28389654e-08, 3.19752706e-08,\n",
       "        3.86172695e-08]),\n",
       " '4': array([7.56488528e-09, 1.76438960e-08, 1.25520052e-08, 6.90304682e-09,\n",
       "        1.10982570e-08]),\n",
       " '5': array([3.03478165e-08, 2.13465449e-08, 1.27259256e-08, 1.73431997e-08,\n",
       "        2.11476795e-08]),\n",
       " '6': array([9.80821938e-08, 8.50571008e-08, 1.36539781e-07, 1.06467712e-07,\n",
       "        7.90648115e-08]),\n",
       " '7': array([1.16072321e-08, 2.79698563e-08, 3.48883512e-08, 3.51792573e-08,\n",
       "        4.36476263e-08]),\n",
       " '8': array([1.99283039e-08, 3.47852663e-08, 2.57790294e-08, 3.36956154e-08,\n",
       "        2.89116786e-08]),\n",
       " '9': array([4.76693049e-09, 8.97401771e-09, 1.16134921e-08, 8.41576369e-09,\n",
       "        8.81028908e-09]),\n",
       " '10': array([2.49292407e-07, 2.66800779e-07, 3.49417169e-07, 3.30481137e-07,\n",
       "        1.64123578e-07]),\n",
       " '11': array([1.15071871e-07, 4.39796864e-08, 8.61096115e-08, 5.95379695e-08,\n",
       "        5.88424799e-08]),\n",
       " '12': array([7.85072823e-08, 7.42653089e-08, 1.22384617e-07, 9.65142298e-08,\n",
       "        1.16594172e-07]),\n",
       " '13': array([5.57630107e-08, 1.41195926e-07, 9.15302551e-08, 1.26136456e-07,\n",
       "        6.69554559e-08]),\n",
       " '14': array([5.97320762e-08, 1.39907323e-07, 1.64107308e-07, 1.23249558e-07,\n",
       "        6.91178407e-08]),\n",
       " '15': array([4.36653843e-08, 3.85727691e-08, 5.18646321e-08, 2.83711743e-08,\n",
       "        3.42779689e-08]),\n",
       " '16': array([5.43328730e-08, 6.51458465e-08, 6.57728781e-08, 6.18713004e-08,\n",
       "        6.88853107e-08]),\n",
       " '17': array([3.24043649e-08, 1.81724325e-08, 3.12377083e-08, 2.31214852e-08,\n",
       "        2.83575521e-08]),\n",
       " '18': array([1.56659968e-08, 1.27006002e-08, 1.29071429e-08, 8.28858203e-09,\n",
       "        2.05346289e-08]),\n",
       " '19': array([1.20778521e-08, 1.27747142e-08, 9.77288495e-09, 2.20750372e-08,\n",
       "        2.67744499e-08]),\n",
       " '20': array([5.52350583e-07, 2.52361366e-07, 4.15064426e-07, 1.91264530e-07,\n",
       "        3.61488821e-07]),\n",
       " '22': array([1.51247957e-07, 1.05965801e-07, 9.74358843e-08, 3.02596803e-08,\n",
       "        1.56038945e-07]),\n",
       " '23': array([2.33506652e-07, 5.99044381e-08, 7.64128169e-08, 9.65372150e-08,\n",
       "        2.11212746e-07]),\n",
       " '24': array([1.16550037e-07, 1.16084217e-07, 1.54249287e-07, 1.09296501e-07,\n",
       "        4.41021564e-07]),\n",
       " '28': array([1.92870708e-07, 3.19595928e-07, 2.65574415e-07, 2.86542117e-07,\n",
       "        3.67317939e-07]),\n",
       " '30': array([1.02523522e-07, 4.72148593e-08, 7.60587700e-08, 4.11651503e-08,\n",
       "        1.09773748e-07]),\n",
       " '31': array([1.82022169e-07, 1.79300415e-07, 1.55027245e-07, 1.38771792e-07,\n",
       "        3.46840752e-07]),\n",
       " '32': array([1.63168793e-07, 1.64629869e-07, 2.53354511e-07, 2.80080389e-07,\n",
       "        2.08767292e-07]),\n",
       " '35': array([2.01985394e-08, 2.11017576e-08, 4.77663259e-08, 2.64668300e-08,\n",
       "        2.95487072e-08]),\n",
       " '36': array([8.10467958e-09, 1.62673382e-08, 3.38597310e-08, 1.98474483e-08,\n",
       "        2.59147922e-08]),\n",
       " '37': array([4.96043777e-08, 1.27247337e-07, 1.50264010e-07, 4.43165310e-08,\n",
       "        4.79169742e-08]),\n",
       " '38': array([2.54169335e-07, 1.08404818e-07, 1.86895008e-07, 3.54016935e-07,\n",
       "        1.35634936e-07]),\n",
       " '39': array([2.70542778e-08, 2.39811455e-08, 1.03258891e-08, 2.92530725e-08,\n",
       "        1.74744085e-08]),\n",
       " '42': array([1.98381807e-07, 2.23178005e-07, 5.45774876e-08, 1.28036490e-07,\n",
       "        2.06276553e-07]),\n",
       " '43': array([2.53013422e-07, 1.06640363e-07, 2.96046475e-07, 1.38676521e-07,\n",
       "        1.66163459e-07]),\n",
       " '45': array([3.01218565e-07, 1.44585729e-07, 1.64844326e-07, 5.55821606e-08,\n",
       "        2.44518173e-07]),\n",
       " '47': array([9.84314467e-08, 1.15831092e-07, 2.48404715e-07, 1.29390527e-07,\n",
       "        2.34962818e-07]),\n",
       " '48': array([4.61461479e-07, 7.06538276e-07, 3.55523327e-07, 3.66400485e-07,\n",
       "        5.77214146e-07]),\n",
       " '51': array([1.95928303e-07, 2.99281682e-07, 3.27767329e-07, 2.39758589e-07,\n",
       "        4.84351803e-07]),\n",
       " '52': array([5.46763399e-08, 7.82155283e-08, 1.58550301e-07, 1.09060958e-07,\n",
       "        1.27739223e-07]),\n",
       " '56': array([1.38771965e-08, 2.26231785e-08, 4.75998907e-08, 1.50790957e-08,\n",
       "        3.47052615e-08]),\n",
       " '57': array([1.34783511e-07, 3.34107475e-07, 2.63442997e-07, 1.87096423e-07,\n",
       "        3.11419629e-07]),\n",
       " '58': array([2.16503432e-08, 2.13089195e-08, 1.84525664e-08, 2.55571389e-08,\n",
       "        3.15193987e-08]),\n",
       " '59': array([9.88183605e-09, 3.04006144e-08, 3.09646617e-08, 9.28829324e-09,\n",
       "        3.07087822e-08]),\n",
       " '60': array([5.08236757e-08, 7.56597015e-08, 1.39125796e-07, 1.05658877e-07,\n",
       "        1.15773757e-07]),\n",
       " '64': array([3.19564060e-08, 2.60989710e-08, 4.74585903e-08, 2.51843156e-08,\n",
       "        1.93576870e-08]),\n",
       " '65': array([5.19755943e-08, 6.79051461e-08, 6.71087899e-08, 3.68878061e-08,\n",
       "        4.99100799e-08]),\n",
       " '67': array([1.11941781e-07, 1.25577342e-07, 1.93340215e-07, 2.50233308e-07,\n",
       "        2.35705735e-07]),\n",
       " '71': array([1.72631761e-07, 1.09504073e-07, 2.02563368e-07, 8.29963243e-08,\n",
       "        1.12107334e-07]),\n",
       " '72': array([9.95998763e-08, 6.65520045e-08, 3.79107970e-07, 2.41726643e-07,\n",
       "        6.36620877e-07]),\n",
       " '73': array([1.15145779e-07, 1.98045925e-07, 3.94335773e-07, 1.77073249e-07,\n",
       "        3.17814799e-07]),\n",
       " '79': array([1.13464004e-07, 1.46918073e-07, 1.43393163e-07, 1.33505480e-07,\n",
       "        1.23243212e-07]),\n",
       " '80': array([4.67744717e-08, 1.02830726e-07, 1.22733987e-07, 4.55237392e-08,\n",
       "        6.57576029e-08]),\n",
       " '81': array([6.19037729e-08, 5.39186971e-08, 4.40271750e-08, 4.52545444e-08,\n",
       "        6.97052012e-08]),\n",
       " '84': array([4.66114735e-08, 4.96931938e-08, 1.18671136e-07, 9.14529190e-08,\n",
       "        4.12245637e-08]),\n",
       " '85': array([9.08445287e-08, 7.18816611e-08, 4.52196528e-08, 1.48798046e-07,\n",
       "        8.70295206e-08]),\n",
       " '86': array([1.42850024e-08, 3.89745835e-08, 1.41326188e-08, 2.78216606e-08,\n",
       "        2.21378564e-08]),\n",
       " '87': array([2.32198137e-08, 2.40317673e-08, 3.40915420e-08, 2.28476732e-08,\n",
       "        1.78376347e-08]),\n",
       " '88': array([1.61630562e-07, 4.08911813e-07, 3.59336479e-07, 2.30912690e-07,\n",
       "        4.96226929e-07]),\n",
       " '89': array([9.97369993e-08, 1.44238491e-07, 1.76985073e-07, 7.84008330e-08,\n",
       "        1.20497648e-07]),\n",
       " '90': array([3.03917506e-08, 1.45835869e-08, 3.09302168e-08, 1.70670887e-08,\n",
       "        3.28328656e-08]),\n",
       " '92': array([7.23977843e-08, 3.87745258e-08, 5.17386914e-08, 3.65299126e-08,\n",
       "        8.36672930e-08]),\n",
       " '93': array([1.54553468e-07, 1.28167410e-07, 1.38117570e-07, 8.78479560e-08,\n",
       "        1.49789686e-07]),\n",
       " '97': array([2.89459311e-07, 9.07461637e-08, 2.07466774e-07, 7.27797954e-08,\n",
       "        2.15279231e-07]),\n",
       " '104': array([3.54436949e-08, 5.46860568e-08, 4.69824897e-08, 6.07034229e-08,\n",
       "        9.62046962e-08]),\n",
       " '106': array([7.82315172e-08, 4.97351637e-08, 4.96580472e-08, 7.37195985e-08,\n",
       "        1.04563148e-07]),\n",
       " '108': array([4.59706988e-08, 9.96268729e-08, 7.97970825e-08, 6.06931726e-08,\n",
       "        6.12635925e-08]),\n",
       " '111': array([9.71764470e-08, 8.69768039e-08, 4.54488657e-08, 1.05179705e-07,\n",
       "        1.19991556e-07]),\n",
       " '112': array([6.27445855e-08, 1.86210873e-07, 1.19520069e-07, 1.02884366e-07,\n",
       "        9.16501183e-08]),\n",
       " '113': array([2.05931334e-07, 4.03928179e-07, 2.68996744e-07, 2.19365099e-07,\n",
       "        3.63181726e-07]),\n",
       " '115': array([2.42667638e-08, 2.42044754e-08, 4.08197098e-08, 1.30264220e-08,\n",
       "        2.66564449e-08]),\n",
       " '118': array([1.02944603e-07, 1.49881041e-07, 1.29618504e-07, 1.19905445e-07,\n",
       "        8.92160910e-08]),\n",
       " '119': array([6.48753566e-08, 2.30681092e-07, 2.39904914e-07, 1.82964718e-07,\n",
       "        1.43428550e-07]),\n",
       " '120': array([5.96054307e-08, 7.32698051e-08, 1.08584284e-07, 8.27604077e-08,\n",
       "        8.08845032e-08]),\n",
       " '121': array([1.13207250e-07, 1.18964856e-07, 8.61098539e-08, 8.34092123e-08,\n",
       "        5.41219491e-08]),\n",
       " '126': array([4.61886443e-07, 2.18167008e-07, 1.57910308e-07, 2.06037078e-07,\n",
       "        4.52292879e-07]),\n",
       " '128': array([4.78298675e-08, 1.58420178e-07, 1.60511736e-07, 1.27408440e-07,\n",
       "        5.34765931e-08]),\n",
       " '129': array([1.73989772e-07, 1.39644966e-07, 1.62754794e-07, 3.07970763e-08,\n",
       "        1.44615785e-07]),\n",
       " '130': array([1.19391285e-07, 8.46176546e-08, 5.69275923e-08, 4.32813808e-08,\n",
       "        7.82335177e-08]),\n",
       " '131': array([2.57325435e-07, 7.65508735e-08, 5.52410768e-08, 4.32890792e-08,\n",
       "        6.45031541e-08]),\n",
       " '132': array([1.59476676e-07, 1.54015511e-07, 2.47070202e-07, 2.25459051e-07,\n",
       "        2.01320219e-07]),\n",
       " '133': array([5.80116267e-08, 6.13470892e-08, 7.74806440e-08, 9.35466117e-08,\n",
       "        8.56164605e-08]),\n",
       " '135': array([2.85924469e-07, 1.49914923e-07, 2.61545041e-07, 2.64710703e-07,\n",
       "        3.21971856e-07]),\n",
       " '136': array([1.10726989e-07, 2.61984158e-07, 3.51411129e-07, 1.62968320e-07,\n",
       "        1.44567782e-07]),\n",
       " '138': array([3.10620213e-07, 2.28392708e-07, 2.61582606e-07, 1.19990133e-07,\n",
       "        4.22395550e-07]),\n",
       " '140': array([2.83857466e-08, 3.91195307e-08, 3.39206262e-08, 3.12838307e-08,\n",
       "        2.95185284e-08]),\n",
       " '141': array([3.97246696e-08, 2.69919817e-08, 2.77077078e-08, 2.20855473e-08,\n",
       "        3.42246795e-08]),\n",
       " '147': array([8.22102613e-08, 8.98283361e-08, 1.29844296e-07, 1.51020008e-07,\n",
       "        6.64255681e-08]),\n",
       " '156': array([1.97602344e-07, 1.58750688e-07, 1.48502925e-07, 1.13308433e-07,\n",
       "        1.84805962e-07]),\n",
       " '162': array([1.40741246e-07, 9.09789300e-08, 1.73139877e-07, 1.04568212e-07,\n",
       "        1.04309742e-07]),\n",
       " '170': array([2.46599249e-08, 3.62677289e-08, 3.23340150e-08, 2.32087310e-08,\n",
       "        4.79275925e-08]),\n",
       " '171': array([2.03493157e-07, 2.15771223e-07, 2.49202961e-07, 2.58094384e-07,\n",
       "        4.18264323e-07]),\n",
       " '172': array([8.32642956e-08, 1.12821060e-07, 8.92587291e-08, 4.86150646e-08,\n",
       "        8.07792137e-08]),\n",
       " '173': array([1.99187176e-07, 1.15695710e-07, 7.05390047e-08, 1.05446439e-07,\n",
       "        1.87606271e-07]),\n",
       " '180': array([1.54216690e-07, 1.24347960e-07, 1.43040985e-07, 5.72360901e-08,\n",
       "        6.85320997e-08]),\n",
       " '181': array([9.56230666e-08, 7.44634588e-08, 2.55505508e-07, 4.86688119e-08,\n",
       "        1.52624126e-07]),\n",
       " '184': array([1.84055108e-07, 9.87494328e-08, 2.08875755e-07, 7.82872960e-08,\n",
       "        1.46036984e-07]),\n",
       " '185': array([5.63914599e-08, 6.58283170e-08, 1.35937270e-07, 2.70401303e-08,\n",
       "        9.84668419e-08]),\n",
       " '190': array([1.40686411e-07, 1.45395853e-07, 5.41996753e-07, 2.38448991e-07,\n",
       "        2.59177462e-07]),\n",
       " '191': array([9.59103834e-08, 1.82171913e-07, 2.30554864e-07, 7.68597057e-08,\n",
       "        1.59141373e-07])}"
      ]
     },
     "metadata": {},
     "execution_count": 75
    }
   ],
   "source": [
    "imputed_mcmc_cov"
   ]
  },
  {
   "cell_type": "code",
   "execution_count": 73,
   "metadata": {},
   "outputs": [
    {
     "output_type": "execute_result",
     "data": {
      "text/plain": [
       "{'0': 0.24302152011611297,\n",
       " '1': 0.12194597490486248,\n",
       " '2': 0.06176404939036358,\n",
       " '3': 0.10438567271388283,\n",
       " '4': 0.055510039397438614,\n",
       " '5': 0.08229011469305726,\n",
       " '6': 0.06773109981008792,\n",
       " '7': 0.0661713643254809,\n",
       " '8': 0.05695970521827682,\n",
       " '9': 0.0566618979685331,\n",
       " '10': 0.06938401838877038,\n",
       " '11': 0.06943987987633687,\n",
       " '12': 0.06288744983743538,\n",
       " '13': 0.068251875676195,\n",
       " '14': 0.05882370213041573,\n",
       " '15': 0.06414659854241286,\n",
       " '16': 0.08118295065822549,\n",
       " '17': 0.05595980091992343,\n",
       " '18': 0.049198380718610296,\n",
       " '19': 0.059218430486366096,\n",
       " '20': 0.014545132470653246,\n",
       " '22': 0.044060400947064135,\n",
       " '23': 0.048521139819647716,\n",
       " '24': 0.034801686200695035,\n",
       " '28': 0.026702235794682047,\n",
       " '30': 0.06355847297771028,\n",
       " '31': 0.005695149757908138,\n",
       " '32': 0.0016672399823764671,\n",
       " '35': 0.05647177669384572,\n",
       " '36': 0.03524907839636786,\n",
       " '37': 0.04537359689349309,\n",
       " '38': 0.061546257611307165,\n",
       " '39': 0.0536550447658896,\n",
       " '42': 0.020117583512007303,\n",
       " '43': 0.02512782829616021,\n",
       " '45': 0.01708649291979135,\n",
       " '47': 0.018177691816091857,\n",
       " '48': 0.007715655427951902,\n",
       " '51': 0.021624210706070873,\n",
       " '52': 0.0025120754749069643,\n",
       " '56': 0.06340498021814023,\n",
       " '57': 0.05691337759502741,\n",
       " '58': 0.044307171303520694,\n",
       " '59': 0.034842780114807764,\n",
       " '60': 0.01672485313883727,\n",
       " '64': 0.051975533455446574,\n",
       " '65': 0.05515982056670468,\n",
       " '67': 0.018821728735903705,\n",
       " '71': 0.010352017040191001,\n",
       " '72': 0.002673876336871237,\n",
       " '73': 0.006442708591168219,\n",
       " '79': 0.002233308014053881,\n",
       " '80': 0.037284890977353,\n",
       " '81': 0.03864496941950319,\n",
       " '84': 0.03666255907033065,\n",
       " '85': 0.032607694353981136,\n",
       " '86': 0.037983688289919576,\n",
       " '87': 0.043325293578330204,\n",
       " '88': 0.009639119432731132,\n",
       " '89': 0.012878065190453794,\n",
       " '90': 0.05137816562016231,\n",
       " '92': 0.05650462280272515,\n",
       " '93': 0.04899491399045124,\n",
       " '97': 0.004590174927875617,\n",
       " '104': 0.034821389588992495,\n",
       " '106': 0.02098561611385893,\n",
       " '108': 0.028545508975696694,\n",
       " '111': 0.032241279898820384,\n",
       " '112': 0.052361861596902835,\n",
       " '113': 0.042781734390133795,\n",
       " '115': 0.03063190560339244,\n",
       " '118': 0.012929892598132979,\n",
       " '119': 0.012673862436149888,\n",
       " '120': 0.05480825661907517,\n",
       " '121': 0.051328597944473676,\n",
       " '126': 0.0016591659900780783,\n",
       " '128': 0.027535457059535785,\n",
       " '129': 0.011709246084871087,\n",
       " '130': 0.020504603159098418,\n",
       " '131': 0.022126720638603666,\n",
       " '132': 0.0006218416560559248,\n",
       " '133': 0.027878899971373952,\n",
       " '135': 0.007768359350268611,\n",
       " '136': 0.04354038494653768,\n",
       " '138': 0.004742607821506911,\n",
       " '140': 0.031297632698027114,\n",
       " '141': 0.03165306187698987,\n",
       " '147': 0.03106852339183013,\n",
       " '156': 0.018758582971176913,\n",
       " '162': 0.02661583980757531,\n",
       " '170': 0.03310737233649563,\n",
       " '171': 0.024517525118028422,\n",
       " '172': 0.024858216034490045,\n",
       " '173': 0.0288934554624278,\n",
       " '180': 0.02909936857036483,\n",
       " '181': 0.01293211723291772,\n",
       " '184': 0.01964449149868033,\n",
       " '185': 0.024795985302872928,\n",
       " '190': 0.008221169343063797,\n",
       " '191': 0.0050181546132194695}"
      ]
     },
     "metadata": {},
     "execution_count": 73
    }
   ],
   "source": [
    "imputed_cov_z"
   ]
  },
  {
   "cell_type": "code",
   "execution_count": 72,
   "metadata": {},
   "outputs": [
    {
     "output_type": "execute_result",
     "data": {
      "text/plain": [
       "[2.7559455888453757e-06,\n",
       " 1.584179624159727e-06,\n",
       " 1.7788317937559551e-06,\n",
       " 2.4794442550020067e-06,\n",
       " 8.795793985036122e-07,\n",
       " 4.113604934920293e-07,\n",
       " 1.0288863679335622e-06,\n",
       " 1.3124378121461495e-06,\n",
       " 2.2075195238431288e-06,\n",
       " 1.8849702812220777e-06,\n",
       " 1.680444083441702e-06,\n",
       " 1.6834717203912646e-06,\n",
       " 6.616613223207755e-07,\n",
       " 1.8789993108738142e-06,\n",
       " 2.1022382211715547e-06,\n",
       " 1.2385286243127669e-06,\n",
       " 1.2652724572323076e-06,\n",
       " 1.1575661376722314e-06,\n",
       " 2.1825953383276195e-06,\n",
       " 1.231602087143278e-06,\n",
       " 1.5889615861198792e-06,\n",
       " 2.02712136350078e-06,\n",
       " 2.8952047610826823e-06,\n",
       " 2.300668724570049e-06,\n",
       " 3.253590147925166e-06,\n",
       " 1.1546966209830115e-06,\n",
       " 2.1390120459758177e-06,\n",
       " 9.547828743487263e-07,\n",
       " 1.0369467320271638e-06,\n",
       " 1.8416248738212853e-06,\n",
       " 7.352091051327267e-07,\n",
       " 1.7024493018449285e-06,\n",
       " 1.8019299658278693e-06,\n",
       " 1.6451066099432706e-06,\n",
       " 1.3200710579430444e-06,\n",
       " 1.5193027697562935e-06,\n",
       " 1.958755022391822e-06,\n",
       " 1.281442482187764e-06,\n",
       " 1.2232892901809918e-06,\n",
       " 1.586819186031363e-06,\n",
       " 1.5665515481423949e-06,\n",
       " 9.075379999897799e-07,\n",
       " 1.4196420191930236e-06,\n",
       " 1.080139523185439e-06,\n",
       " 1.303103697704773e-06,\n",
       " 1.4878883891831248e-06,\n",
       " 2.483211060279531e-06,\n",
       " 9.68113096611152e-07,\n",
       " 4.783972468880992e-07,\n",
       " 1.5046745742230524e-06,\n",
       " 7.94600830341146e-07,\n",
       " 1.5548572212779427e-06,\n",
       " 1.0112979686971513e-06,\n",
       " 2.0879500228044546e-06,\n",
       " 2.7215064520187442e-06,\n",
       " 2.4889194413491166e-06,\n",
       " 1.3603394675143201e-06,\n",
       " 1.911248823492156e-06,\n",
       " 1.170485626380726e-06,\n",
       " 1.133063378643612e-06,\n",
       " 3.623842306824452e-07,\n",
       " 8.737934256362742e-07,\n",
       " 1.5588332709391283e-06,\n",
       " 1.7371670842879375e-06,\n",
       " 6.57818106586162e-07,\n",
       " 1.1283714258133666e-06,\n",
       " 7.106001545418152e-07,\n",
       " 6.819345623085382e-07,\n",
       " 1.2162298517648499e-06,\n",
       " 1.2642045126674935e-06,\n",
       " 1.7135512142189703e-06,\n",
       " 9.76816531025913e-07,\n",
       " 1.0362443333920277e-06,\n",
       " 1.2793950882593964e-06,\n",
       " 1.139368711343711e-06,\n",
       " 9.45025116354627e-07,\n",
       " 1.3140484207674844e-06,\n",
       " 2.225253926720134e-06,\n",
       " 1.4222962066182251e-06,\n",
       " 1.3446389936131863e-06,\n",
       " 7.040593887358199e-07,\n",
       " 9.357344038237039e-07,\n",
       " 1.5387331662065083e-06,\n",
       " 1.274594847846432e-06,\n",
       " 1.1773284630103556e-06,\n",
       " 1.0542837102617537e-06,\n",
       " 1.5574868512321251e-06,\n",
       " 1.5801493714715936e-06,\n",
       " 9.192757970023073e-07,\n",
       " 1.0754752406113334e-06,\n",
       " 1.1153617835361385e-06,\n",
       " 1.0928051022975263e-06,\n",
       " 1.384663542703217e-06,\n",
       " 6.602775900598048e-07,\n",
       " 1.1270983695283574e-06,\n",
       " 1.2567172289559912e-06,\n",
       " 1.3520864371533748e-06,\n",
       " 2.4476710589780284e-06,\n",
       " 1.1446721860051185e-06,\n",
       " 7.896312183860905e-07]"
      ]
     },
     "metadata": {},
     "execution_count": 72
    }
   ],
   "source": [
    "tree_posterior.empirical_qz_v(n_samples=100, norm=True)"
   ]
  },
  {
   "cell_type": "code",
   "execution_count": null,
   "metadata": {},
   "outputs": [],
   "source": []
  },
  {
   "cell_type": "code",
   "execution_count": 60,
   "metadata": {},
   "outputs": [],
   "source": [
    "data_var = {'groundtruth': mcmc_cov, 'gaussian VAE':imputed_avg_cov_z, 'gaussian treeVAE': imputed_mcmc_cov}\n",
    "data_mean = {'groundtruth': mcmc_mean, 'gaussian VAE':imputed_avg_z, 'gaussian treeVAE': imputed_mcmc_mean}"
   ]
  },
  {
   "cell_type": "code",
   "execution_count": 61,
   "metadata": {},
   "outputs": [],
   "source": [
    "def error_latent(tree, predictive_z, imputed_avg_z, imputed_z, do_variance=False):\n",
    "    mse_treevae = 0\n",
    "    mse_vae = 0\n",
    "    N = 0\n",
    "    for n in tree.traverse('levelorder'):\n",
    "        if not n.is_leaf():\n",
    "            if do_variance:\n",
    "                true_cov = predictive_z[n.name]\n",
    "                vae_cov = imputed_avg_z[n.name].cpu().numpy()\n",
    "                treevae_cov = imputed_z[n.name]\n",
    "\n",
    "                mse_treevae += mean_squared_error(true_cov, treevae_cov)\n",
    "                mse_vae += mean_squared_error(true_cov, vae_cov)\n",
    "            else:\n",
    "                mse_treevae += mean_squared_error(predictive_z[n.name], imputed_z[n.name])\n",
    "                mse_vae += mean_squared_error(predictive_z[n.name], imputed_avg_z[n.name][0])\n",
    "            N += 1\n",
    "    mse_treevae /= N\n",
    "    mse_vae /= N\n",
    "\n",
    "    return mse_treevae, mse_vae"
   ]
  },
  {
   "cell_type": "code",
   "execution_count": 62,
   "metadata": {},
   "outputs": [
    {
     "output_type": "execute_result",
     "data": {
      "text/plain": [
       "(0.0004237482295142097, 0.00035844850200526855)"
      ]
     },
     "metadata": {},
     "execution_count": 62
    }
   ],
   "source": [
    "print('MCMC total Variance')\n",
    "error_latent(tree, mcmc_cov, imputed_avg_cov_z, imputed_mcmc_cov, True)"
   ]
  },
  {
   "cell_type": "code",
   "execution_count": 64,
   "metadata": {},
   "outputs": [
    {
     "output_type": "stream",
     "name": "stdout",
     "text": [
      "MCMC mean\n"
     ]
    },
    {
     "output_type": "execute_result",
     "data": {
      "text/plain": [
       "(0.9143929862687368, 1.85150199980163)"
      ]
     },
     "metadata": {},
     "execution_count": 64
    }
   ],
   "source": [
    "print('MCMC mean')\n",
    "error_latent(tree, mcmc_mean, imputed_avg_z, imputed_mcmc_mean)"
   ]
  },
  {
   "source": [
    "## Evaluation 1.a.iv: Averaged KL divergence (internal nodes)"
   ],
   "cell_type": "markdown",
   "metadata": {}
  },
  {
   "source": [
    "***TreeVAE***"
   ],
   "cell_type": "markdown",
   "metadata": {}
  },
  {
   "cell_type": "code",
   "execution_count": 67,
   "metadata": {},
   "outputs": [
    {
     "output_type": "stream",
     "name": "stdout",
     "text": [
      "Average Kl divergence 129776636.19200827\n"
     ]
    }
   ],
   "source": [
    "from torch.distributions import Normal, kl_divergence\n",
    "from sklearn.preprocessing import normalize\n",
    "\n",
    "kl_mean = 0\n",
    "N = 0\n",
    "for n in tree.traverse('levelorder'):\n",
    "    if not n.is_leaf():\n",
    "        # true distribution\n",
    "        mean_true = torch.from_numpy(mcmc_mean[n.name])\n",
    "        cov_true = torch.sqrt(torch.from_numpy(mcmc_cov[n.name]))\n",
    "        dist_true = Normal(mean_true,\n",
    "                        cov_true\n",
    "                        )\n",
    "        \n",
    "        # Approx\n",
    "        mean_approx = torch.from_numpy(imputed_mcmc_mean[n.name])\n",
    "        cov_approx = torch.sqrt(torch.from_numpy(imputed_mcmc_cov[n.name]))\n",
    "        dist_approx = Normal(mean_approx,\n",
    "                        cov_approx\n",
    "                        )\n",
    "\n",
    "        kl_mean += kl_divergence(dist_true, dist_approx).sum()\n",
    "        N += 1\n",
    "kl_mean /= N\n",
    "print('Average Kl divergence {}'.format(kl_mean))"
   ]
  },
  {
   "source": [
    "***VAE***"
   ],
   "cell_type": "markdown",
   "metadata": {}
  },
  {
   "cell_type": "code",
   "execution_count": 68,
   "metadata": {},
   "outputs": [
    {
     "output_type": "stream",
     "name": "stdout",
     "text": [
      "Average Kl divergence 5374.677030454518\n"
     ]
    }
   ],
   "source": [
    "kl_mean = 0\n",
    "N = 0\n",
    "for n in tree.traverse('levelorder'):\n",
    "    if not n.is_leaf():\n",
    "        mean_true = torch.from_numpy(mcmc_mean[n.name])\n",
    "        cov_true = torch.sqrt(torch.from_numpy(mcmc_cov[n.name]))\n",
    "        dist_true = Normal(mean_true,\n",
    "                        cov_true\n",
    "                        )\n",
    "\n",
    "        dist_approx = Normal(torch.from_numpy(imputed_avg_z[n.name]),\n",
    "                        torch.sqrt(imputed_avg_cov_z[n.name].cpu())\n",
    "                        )\n",
    "        kl_mean += kl_divergence(dist_true, dist_approx).sum()\n",
    "        N += 1\n",
    "kl_mean /= N\n",
    "print('Average Kl divergence {}'.format(kl_mean))"
   ]
  },
  {
   "source": [
    "## Evaluation 1.a.v: Likelihood (internal nodes)"
   ],
   "cell_type": "markdown",
   "metadata": {}
  },
  {
   "cell_type": "code",
   "execution_count": 70,
   "metadata": {},
   "outputs": [
    {
     "output_type": "execute_result",
     "data": {
      "text/plain": [
       "[-461.48781196850234, -251.76246046200959]"
      ]
     },
     "metadata": {},
     "execution_count": 70
    }
   ],
   "source": [
    "from scipy.stats import multivariate_normal\n",
    "\n",
    "def mean_posterior_lik(tree, predictive_mean_z, imputed_avg_z, imputed_mean_z, predictive_cov_z, imputed_avg_cov_z, imputed_cov_z):\n",
    "    treevae_lik = 0\n",
    "    vae_lik = 0\n",
    "    N = 0\n",
    "    for n in tree.traverse('levelorder'):\n",
    "        if not n.is_leaf():\n",
    "            # mean\n",
    "            true_mean = predictive_mean_z[n.name]\n",
    "            vae_mean = imputed_avg_z[n.name][0]\n",
    "            treevae_mean = imputed_mean_z[n.name].cpu().numpy()\n",
    "\n",
    "            # covariance\n",
    "            true_cov = np.diag(predictive_cov_z[n.name])\n",
    "            vae_cov = np.diag(imputed_avg_cov_z[n.name].cpu().numpy())\n",
    "            treevae_cov = np.diag(imputed_cov_z[n.name] * np.ones((d)))\n",
    "\n",
    "            sample_treevae = np.random.multivariate_normal(mean=treevae_mean,\n",
    "                                                            cov=treevae_cov)\n",
    "            sample_vae = np.random.multivariate_normal(mean=vae_mean,\n",
    "                                                        cov=vae_cov)\n",
    "\n",
    "            treevae_lik += multivariate_normal.logpdf(sample_treevae,\n",
    "                                                    true_mean,\n",
    "                                                    true_cov)\n",
    "            vae_lik += multivariate_normal.logpdf(sample_vae,\n",
    "                                                    true_mean,\n",
    "                                                    true_cov)\n",
    "            \n",
    "            N += 1\n",
    "\n",
    "    vae_lik /= N\n",
    "    treevae_lik /= N\n",
    "    return [vae_lik, treevae_lik]\n",
    "\n",
    "mean_posterior_lik(tree, predictive_mean_z, imputed_avg_z, imputed_mean_z, predictive_cov_z, imputed_avg_cov_z, imputed_cov_z)"
   ]
  },
  {
   "source": [
    "## Evaluation 1.a.vi: (More) Latent space metrics "
   ],
   "cell_type": "markdown",
   "metadata": {}
  },
  {
   "source": [
    "#### 1. Prior likelihood"
   ],
   "cell_type": "markdown",
   "metadata": {}
  },
  {
   "cell_type": "code",
   "execution_count": 71,
   "metadata": {},
   "outputs": [
    {
     "output_type": "execute_result",
     "data": {
      "text/plain": [
       "((100, 5), (100, 5))"
      ]
     },
     "metadata": {},
     "execution_count": 71
    }
   ],
   "source": [
    "cascvi_latent = tree_posterior.get_latent()\n",
    "scvi_latent = posterior.get_latent()\n",
    "\n",
    "scvi_latent.shape, cascvi_latent.shape"
   ]
  },
  {
   "cell_type": "code",
   "execution_count": 72,
   "metadata": {},
   "outputs": [
    {
     "output_type": "stream",
     "name": "stdout",
     "text": [
      "Likelihood of scVI encodings:  -2826.691510321084\n"
     ]
    }
   ],
   "source": [
    "treevae.initialize_visit()\n",
    "treevae.initialize_messages(scvi_latent, cas_dataset.barcodes, scvi_latent.shape[1])\n",
    "treevae.perform_message_passing((treevae.tree & treevae.root), scvi_latent.shape[1], False)\n",
    "mp_lik_vae = treevae.aggregate_messages_into_leaves_likelihood(d, add_prior=True)\n",
    "print(\"Likelihood of scVI encodings: \", mp_lik_vae.item())"
   ]
  },
  {
   "cell_type": "code",
   "execution_count": 73,
   "metadata": {},
   "outputs": [
    {
     "output_type": "stream",
     "name": "stdout",
     "text": [
      "Likelihood of cascVI encodings:  -369.6501111715011\n"
     ]
    }
   ],
   "source": [
    "treevae.initialize_visit()\n",
    "treevae.initialize_messages(cascvi_latent, cas_dataset.barcodes, cascvi_latent.shape[1])\n",
    "treevae.perform_message_passing((treevae.tree & treevae.root), cascvi_latent.shape[1], False)\n",
    "mp_lik_cascvi = treevae.aggregate_messages_into_leaves_likelihood(d, add_prior=True)\n",
    "print(\"Likelihood of cascVI encodings: \", mp_lik_cascvi.item())"
   ]
  },
  {
   "cell_type": "code",
   "execution_count": 74,
   "metadata": {},
   "outputs": [
    {
     "output_type": "stream",
     "name": "stdout",
     "text": [
      "Likelihood of observations:  -222.3884709247602\n"
     ]
    }
   ],
   "source": [
    "treevae.initialize_visit()\n",
    "treevae.initialize_messages(leaves_z, cas_dataset.barcodes, cascvi_latent.shape[1])\n",
    "treevae.perform_message_passing((treevae.tree & treevae.root), cascvi_latent.shape[1], False)\n",
    "mp_lik = treevae.aggregate_messages_into_leaves_likelihood(d, add_prior=True)\n",
    "print(\"Likelihood of observations: \", mp_lik.item())"
   ]
  },
  {
   "source": [
    "### 2. k-nn purity"
   ],
   "cell_type": "markdown",
   "metadata": {}
  },
  {
   "cell_type": "code",
   "execution_count": 121,
   "metadata": {},
   "outputs": [],
   "source": [
    "full_cascvi_latent = construct_latent(tree, cascvi_latent, imputed_z)\n",
    "full_scvi_latent = construct_latent(tree, scvi_latent, imputed_avg_z)"
   ]
  },
  {
   "cell_type": "code",
   "execution_count": 143,
   "metadata": {},
   "outputs": [
    {
     "output_type": "stream",
     "name": "stdout",
     "text": [
      "Leaves Only\n",
      "No handles with labels found to put in legend.\n"
     ]
    },
    {
     "output_type": "execute_result",
     "data": {
      "text/plain": [
       "(0.446926282876483, 0.5216776947687367)"
      ]
     },
     "metadata": {},
     "execution_count": 143
    }
   ],
   "source": [
    "print(\"Leaves Only\")\n",
    "data = {'groundtruth': leaves_z, 'scVI': scvi_latent,\n",
    "        'cascVI': cascvi_latent\n",
    "        }\n",
    "scores = knn_purity(max_neighbors=30,\n",
    "                    data=data,\n",
    "                    plot=False,\n",
    "                    save_fig='/home/eecs/khalil.ouardini/Cassiopeia_Transcriptome/scvi/knn_purity_plot.png'\n",
    "                    )\n",
    "np.mean(scores['scVI']), np.mean(scores['cascVI'])"
   ]
  },
  {
   "cell_type": "code",
   "execution_count": 204,
   "metadata": {},
   "outputs": [
    {
     "output_type": "execute_result",
     "data": {
      "text/plain": [
       "Empty DataFrame\n",
       "Columns: []\n",
       "Index: []"
      ],
      "text/html": "<div>\n<style scoped>\n    .dataframe tbody tr th:only-of-type {\n        vertical-align: middle;\n    }\n\n    .dataframe tbody tr th {\n        vertical-align: top;\n    }\n\n    .dataframe thead th {\n        text-align: right;\n    }\n</style>\n<table border=\"1\" class=\"dataframe\">\n  <thead>\n    <tr style=\"text-align: right;\">\n      <th></th>\n    </tr>\n  </thead>\n  <tbody>\n  </tbody>\n</table>\n</div>"
     },
     "metadata": {},
     "execution_count": 204
    }
   ],
   "source": [
    "df = pd.DataFrame()\n",
    "df"
   ]
  },
  {
   "cell_type": "code",
   "execution_count": 199,
   "metadata": {},
   "outputs": [],
   "source": [
    "neighbors = list(range(2, 30))\n",
    "data = {'K': neighbors, 'scVI': scores['scVI'], 'cascVI': scores['cascVI']}\n",
    "df2 = pd.DataFrame(data)"
   ]
  },
  {
   "cell_type": "code",
   "execution_count": 205,
   "metadata": {},
   "outputs": [
    {
     "output_type": "execute_result",
     "data": {
      "text/plain": [
       "     K      scVI    cascVI\n",
       "0    2  0.492537  0.532567\n",
       "1    3  0.431981  0.507538\n",
       "2    4  0.449275  0.520913\n",
       "3    5  0.432665  0.536098\n",
       "4    6  0.413428  0.540436\n",
       "5    7  0.398601  0.526718\n",
       "6    8  0.412180  0.523810\n",
       "7    9  0.413983  0.505017\n",
       "8   10  0.424501  0.500375\n",
       "9   11  0.422107  0.503759\n",
       "10  12  0.433692  0.512287\n",
       "11  13  0.429357  0.502890\n",
       "12  14  0.428571  0.494928\n",
       "13  15  0.433349  0.496259\n",
       "14  16  0.434978  0.494629\n",
       "15  17  0.433994  0.500441\n",
       "16  18  0.440000  0.508801\n",
       "17  19  0.448171  0.514548\n",
       "18  20  0.446655  0.518027\n",
       "19  21  0.451780  0.523948\n",
       "20  22  0.461794  0.527247\n",
       "21  23  0.464968  0.527732\n",
       "22  24  0.473297  0.530612\n",
       "23  25  0.481481  0.537515\n",
       "24  26  0.479374  0.545779\n",
       "25  27  0.487603  0.553063\n",
       "26  28  0.494130  0.556853\n",
       "27  29  0.499483  0.564186"
      ],
      "text/html": "<div>\n<style scoped>\n    .dataframe tbody tr th:only-of-type {\n        vertical-align: middle;\n    }\n\n    .dataframe tbody tr th {\n        vertical-align: top;\n    }\n\n    .dataframe thead th {\n        text-align: right;\n    }\n</style>\n<table border=\"1\" class=\"dataframe\">\n  <thead>\n    <tr style=\"text-align: right;\">\n      <th></th>\n      <th>K</th>\n      <th>scVI</th>\n      <th>cascVI</th>\n    </tr>\n  </thead>\n  <tbody>\n    <tr>\n      <th>0</th>\n      <td>2</td>\n      <td>0.492537</td>\n      <td>0.532567</td>\n    </tr>\n    <tr>\n      <th>1</th>\n      <td>3</td>\n      <td>0.431981</td>\n      <td>0.507538</td>\n    </tr>\n    <tr>\n      <th>2</th>\n      <td>4</td>\n      <td>0.449275</td>\n      <td>0.520913</td>\n    </tr>\n    <tr>\n      <th>3</th>\n      <td>5</td>\n      <td>0.432665</td>\n      <td>0.536098</td>\n    </tr>\n    <tr>\n      <th>4</th>\n      <td>6</td>\n      <td>0.413428</td>\n      <td>0.540436</td>\n    </tr>\n    <tr>\n      <th>5</th>\n      <td>7</td>\n      <td>0.398601</td>\n      <td>0.526718</td>\n    </tr>\n    <tr>\n      <th>6</th>\n      <td>8</td>\n      <td>0.412180</td>\n      <td>0.523810</td>\n    </tr>\n    <tr>\n      <th>7</th>\n      <td>9</td>\n      <td>0.413983</td>\n      <td>0.505017</td>\n    </tr>\n    <tr>\n      <th>8</th>\n      <td>10</td>\n      <td>0.424501</td>\n      <td>0.500375</td>\n    </tr>\n    <tr>\n      <th>9</th>\n      <td>11</td>\n      <td>0.422107</td>\n      <td>0.503759</td>\n    </tr>\n    <tr>\n      <th>10</th>\n      <td>12</td>\n      <td>0.433692</td>\n      <td>0.512287</td>\n    </tr>\n    <tr>\n      <th>11</th>\n      <td>13</td>\n      <td>0.429357</td>\n      <td>0.502890</td>\n    </tr>\n    <tr>\n      <th>12</th>\n      <td>14</td>\n      <td>0.428571</td>\n      <td>0.494928</td>\n    </tr>\n    <tr>\n      <th>13</th>\n      <td>15</td>\n      <td>0.433349</td>\n      <td>0.496259</td>\n    </tr>\n    <tr>\n      <th>14</th>\n      <td>16</td>\n      <td>0.434978</td>\n      <td>0.494629</td>\n    </tr>\n    <tr>\n      <th>15</th>\n      <td>17</td>\n      <td>0.433994</td>\n      <td>0.500441</td>\n    </tr>\n    <tr>\n      <th>16</th>\n      <td>18</td>\n      <td>0.440000</td>\n      <td>0.508801</td>\n    </tr>\n    <tr>\n      <th>17</th>\n      <td>19</td>\n      <td>0.448171</td>\n      <td>0.514548</td>\n    </tr>\n    <tr>\n      <th>18</th>\n      <td>20</td>\n      <td>0.446655</td>\n      <td>0.518027</td>\n    </tr>\n    <tr>\n      <th>19</th>\n      <td>21</td>\n      <td>0.451780</td>\n      <td>0.523948</td>\n    </tr>\n    <tr>\n      <th>20</th>\n      <td>22</td>\n      <td>0.461794</td>\n      <td>0.527247</td>\n    </tr>\n    <tr>\n      <th>21</th>\n      <td>23</td>\n      <td>0.464968</td>\n      <td>0.527732</td>\n    </tr>\n    <tr>\n      <th>22</th>\n      <td>24</td>\n      <td>0.473297</td>\n      <td>0.530612</td>\n    </tr>\n    <tr>\n      <th>23</th>\n      <td>25</td>\n      <td>0.481481</td>\n      <td>0.537515</td>\n    </tr>\n    <tr>\n      <th>24</th>\n      <td>26</td>\n      <td>0.479374</td>\n      <td>0.545779</td>\n    </tr>\n    <tr>\n      <th>25</th>\n      <td>27</td>\n      <td>0.487603</td>\n      <td>0.553063</td>\n    </tr>\n    <tr>\n      <th>26</th>\n      <td>28</td>\n      <td>0.494130</td>\n      <td>0.556853</td>\n    </tr>\n    <tr>\n      <th>27</th>\n      <td>29</td>\n      <td>0.499483</td>\n      <td>0.564186</td>\n    </tr>\n  </tbody>\n</table>\n</div>"
     },
     "metadata": {},
     "execution_count": 205
    }
   ],
   "source": [
    "df = df.append(df2)\n",
    "df"
   ]
  },
  {
   "source": [],
   "cell_type": "markdown",
   "metadata": {}
  },
  {
   "cell_type": "code",
   "execution_count": 142,
   "metadata": {},
   "outputs": [
    {
     "output_type": "stream",
     "name": "stdout",
     "text": [
      "Internal nodes Only\n",
      "No handles with labels found to put in legend.\n"
     ]
    },
    {
     "output_type": "execute_result",
     "data": {
      "text/plain": [
       "(0.36514020314439677, 0.45141649792859023)"
      ]
     },
     "metadata": {},
     "execution_count": 142
    }
   ],
   "source": [
    "print(\"Internal nodes Only\")\n",
    "internal_z, internal_idx, internal_mu = get_internal(ppca.z, ppca.mu, tree)\n",
    "internal_scvi_z, _, _ = get_internal(full_scvi_latent, ppca.mu, tree)\n",
    "internal_cascvi_z, _, _ = get_internal(full_cascvi_latent, ppca.mu, tree)\n",
    "\n",
    "data = {'groundtruth': internal_z, 'scVI': internal_scvi_z,\n",
    "        'cascVI': internal_cascvi_z\n",
    "        }\n",
    "\n",
    "scores = knn_purity(max_neighbors=30,\n",
    "              data=data,\n",
    "              plot=False,\n",
    "              save_fig='/home/eecs/khalil.ouardini/Cassiopeia_Transcriptome/scvi/knn_purity.png'\n",
    "              )\n",
    "\n",
    "np.mean(scores['scVI']), np.mean(scores['cascVI'])"
   ]
  },
  {
   "cell_type": "code",
   "execution_count": 141,
   "metadata": {},
   "outputs": [
    {
     "output_type": "stream",
     "name": "stdout",
     "text": [
      "Full tree\n",
      "No handles with labels found to put in legend.\n"
     ]
    },
    {
     "output_type": "execute_result",
     "data": {
      "text/plain": [
       "(0.3584607764591899, 0.4458153596517597)"
      ]
     },
     "metadata": {},
     "execution_count": 141
    }
   ],
   "source": [
    "print(\"Full tree\")\n",
    "data = {'groundtruth': ppca.z, 'scVI': full_scvi_latent,\n",
    "        'cascVI': full_cascvi_latent\n",
    "        }\n",
    "scores = knn_purity(max_neighbors=30,\n",
    "              data=data,\n",
    "              plot=False)\n",
    "\n",
    "np.mean(scores['scVI']), np.mean(scores['cascVI'])"
   ]
  }
 ],
 "metadata": {
  "kernelspec": {
   "name": "python3710jvsc74a57bd08038a79804d646dd36b3762b0d60c87c86d89e40c61f6758cc1d2f18aca59864",
   "display_name": "Python 3.7  ('scvi-env': conda)"
  },
  "language_info": {
   "codemirror_mode": {
    "name": "ipython",
    "version": 3
   },
   "file_extension": ".py",
   "mimetype": "text/x-python",
   "name": "python",
   "nbconvert_exporter": "python",
   "pygments_lexer": "ipython3",
   "version": "3.7"
  },
  "metadata": {
   "interpreter": {
    "hash": "8038a79804d646dd36b3762b0d60c87c86d89e40c61f6758cc1d2f18aca59864"
   }
  }
 },
 "nbformat": 4,
 "nbformat_minor": 4
}