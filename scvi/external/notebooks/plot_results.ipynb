{
 "metadata": {
  "language_info": {
   "codemirror_mode": {
    "name": "ipython",
    "version": 3
   },
   "file_extension": ".py",
   "mimetype": "text/x-python",
   "name": "python",
   "nbconvert_exporter": "python",
   "pygments_lexer": "ipython3",
   "version": "3.7"
  },
  "orig_nbformat": 2,
  "kernelspec": {
   "name": "python3710jvsc74a57bd08038a79804d646dd36b3762b0d60c87c86d89e40c61f6758cc1d2f18aca59864",
   "display_name": "Python 3.7  ('scvi-env': conda)"
  },
  "metadata": {
   "interpreter": {
    "hash": "8038a79804d646dd36b3762b0d60c87c86d89e40c61f6758cc1d2f18aca59864"
   }
  }
 },
 "nbformat": 4,
 "nbformat_minor": 2,
 "cells": [
  {
   "source": [
    "# Simulations results\n",
    "\n",
    "This noteboook recreates the results reported on table 1 and 2 of the \"\"Reconstructing unobserved cellular states from  paired single-cell lineage tracing and transcriptomics data\" paper."
   ],
   "cell_type": "markdown",
   "metadata": {}
  },
  {
   "cell_type": "code",
   "execution_count": null,
   "metadata": {},
   "outputs": [],
   "source": [
    "import seaborn as sns\n",
    "import pandas as pd\n",
    "import matplotlib.pyplot as plt\n",
    "import os\n",
    "import pandas as pd\n",
    "import numpy as np"
   ]
  },
  {
   "cell_type": "code",
   "execution_count": 2,
   "metadata": {},
   "outputs": [],
   "source": [
    "def plot_boxplot(df_path):\n",
    "    df_boxplot = pd.read_csv(df_path,\n",
    "                            index_col=0\n",
    "                            )\n",
    "    fig, axes = plt.subplots(1, 3, figsize=(35, 8), sharey=True)\n",
    "\n",
    "    sns.boxplot(ax=axes[0], data=df_boxplot, orient=\"v\", palette=\"Set2\", showfliers=False, x='Method', y='Spearman CC')\n",
    "    axes[0].set_title(\"Spearman CC\")\n",
    "\n",
    "    sns.boxplot(ax=axes[1], data=df_boxplot, orient=\"v\", palette=\"Set2\", showfliers=False, x='Method', y='Pearson CC')\n",
    "    axes[1].set_title(\"Pearson CC\")\n",
    "\n",
    "    sns.boxplot(ax=axes[2], data=df_boxplot, orient=\"v\", palette=\"Set2\", showfliers=False, x='Method', y='Kendall Tau')\n",
    "    axes[2].set_title(\"Kendall Tau\")\n",
    "\n",
    "    plt.suptitle(\"Correlations\", fontsize=16)"
   ]
  },
  {
   "cell_type": "code",
   "execution_count": 3,
   "metadata": {},
   "outputs": [],
   "source": [
    "def table_correlation(df):\n",
    "    data_dict = {}\n",
    "    methods = np.unique(df['Method'].values)\n",
    "    for method in methods:\n",
    "        data_dict[method] = list(df[df.Method==method].mean())\n",
    "    results_corr = pd.DataFrame.from_dict(data_dict, orient='index', columns=['Spearman CC', 'Pearson CC', 'Kendal Tau CC'])\n",
    "    return results_corr"
   ]
  },
  {
   "source": [
    "# 1. Table 1: Gaussian Experiments (100 leaves, 10 trees, $\\sigma^2=2$)"
   ],
   "cell_type": "markdown",
   "metadata": {}
  },
  {
   "source": [
    "## 1.a.  Comparison of the posterior predictive densities of internal nodes"
   ],
   "cell_type": "markdown",
   "metadata": {}
  },
  {
   "source": [
    "### 1.a.i MSE (L2 error) for the mean estimate on feature space"
   ],
   "cell_type": "markdown",
   "metadata": {}
  },
  {
   "cell_type": "code",
   "execution_count": 40,
   "metadata": {},
   "outputs": [
    {
     "output_type": "stream",
     "name": "stdout",
     "text": [
      "Mean Squared Error\n"
     ]
    },
    {
     "output_type": "execute_result",
     "data": {
      "text/plain": [
       "       average  gaussian VAE  gaussian treeVAE\n",
       "mean  0.767643      0.862912          0.540534\n",
       "std   0.032233      0.107996          0.068426"
      ],
      "text/html": "<div>\n<style scoped>\n    .dataframe tbody tr th:only-of-type {\n        vertical-align: middle;\n    }\n\n    .dataframe tbody tr th {\n        vertical-align: top;\n    }\n\n    .dataframe thead th {\n        text-align: right;\n    }\n</style>\n<table border=\"1\" class=\"dataframe\">\n  <thead>\n    <tr style=\"text-align: right;\">\n      <th></th>\n      <th>average</th>\n      <th>gaussian VAE</th>\n      <th>gaussian treeVAE</th>\n    </tr>\n  </thead>\n  <tbody>\n    <tr>\n      <th>mean</th>\n      <td>0.767643</td>\n      <td>0.862912</td>\n      <td>0.540534</td>\n    </tr>\n    <tr>\n      <th>std</th>\n      <td>0.032233</td>\n      <td>0.107996</td>\n      <td>0.068426</td>\n    </tr>\n  </tbody>\n</table>\n</div>"
     },
     "metadata": {},
     "execution_count": 40
    }
   ],
   "source": [
    "df_mse = pd.read_csv(\"/home/eecs/khalil.ouardini/Cassiopeia_Transcriptome/scvi/results/gaussian/lambda2.0/100/low_fitness/MSE\")\n",
    "\n",
    "print('Mean Squared Error')\n",
    "df_mse.describe().iloc[1:3].drop(['Unnamed: 0'], axis=1)"
   ]
  },
  {
   "source": [
    "### 1.a.ii. Correlations (Pearson / Spearman) across genes"
   ],
   "cell_type": "markdown",
   "metadata": {}
  },
  {
   "cell_type": "code",
   "execution_count": 57,
   "metadata": {},
   "outputs": [
    {
     "output_type": "stream",
     "name": "stdout",
     "text": [
      "Gene-Gene correlations\n                  Spearman CC  Pearson CC\naverage              0.802985    0.828405\ngaussian VAE         0.820835    0.846101\ngaussian treeVAE     0.844116    0.869268\n"
     ]
    }
   ],
   "source": [
    "# data frame\n",
    "df = pd.read_csv('/home/eecs/khalil.ouardini/Cassiopeia_Transcriptome/scvi/results/gaussian/lambda2.0/100/low_fitness/correlations_ss')\n",
    "df_corr = table_correlation(df.iloc[1:].drop(['Unnamed: 0'], axis=1))\n",
    "df_corr = df_corr.drop(['Kendal Tau CC'], axis=1)\n",
    "\n",
    "print('Gene-Gene correlations')\n",
    "print(df_corr)"
   ]
  },
  {
   "source": [
    "### 1.a.iv MSE (L2 error) for the mean estimate on the *latent space*"
   ],
   "cell_type": "markdown",
   "metadata": {}
  },
  {
   "cell_type": "code",
   "execution_count": 58,
   "metadata": {},
   "outputs": [
    {
     "output_type": "stream",
     "name": "stdout",
     "text": [
      "MSE of variance estimate in latent space\n"
     ]
    },
    {
     "output_type": "execute_result",
     "data": {
      "text/plain": [
       "      gaussian treeVAE  gaussian VAE\n",
       "mean          1.890859      2.284896\n",
       "std           0.704215      0.719905"
      ],
      "text/html": "<div>\n<style scoped>\n    .dataframe tbody tr th:only-of-type {\n        vertical-align: middle;\n    }\n\n    .dataframe tbody tr th {\n        vertical-align: top;\n    }\n\n    .dataframe thead th {\n        text-align: right;\n    }\n</style>\n<table border=\"1\" class=\"dataframe\">\n  <thead>\n    <tr style=\"text-align: right;\">\n      <th></th>\n      <th>gaussian treeVAE</th>\n      <th>gaussian VAE</th>\n    </tr>\n  </thead>\n  <tbody>\n    <tr>\n      <th>mean</th>\n      <td>1.890859</td>\n      <td>2.284896</td>\n    </tr>\n    <tr>\n      <th>std</th>\n      <td>0.704215</td>\n      <td>0.719905</td>\n    </tr>\n  </tbody>\n</table>\n</div>"
     },
     "metadata": {},
     "execution_count": 58
    }
   ],
   "source": [
    "df_var = pd.read_csv('/home/eecs/khalil.ouardini/Cassiopeia_Transcriptome/scvi/results/gaussian/lambda2.0/100/low_fitness/MSE_mean')\n",
    "\n",
    "print(\"MSE of variance estimate in latent space\")\n",
    "df_var.columns = ['Unnamed: 0', 'gaussian treeVAE', 'gaussian VAE']\n",
    "df_var.drop(['Unnamed: 0'], axis=1).describe().iloc[1:3]"
   ]
  },
  {
   "source": [
    "### 1.a.v. Cross-Entropy on the *latent space*"
   ],
   "cell_type": "markdown",
   "metadata": {}
  },
  {
   "cell_type": "code",
   "execution_count": 59,
   "metadata": {},
   "outputs": [
    {
     "output_type": "execute_result",
     "data": {
      "text/plain": [
       "      gaussian VAE  gaussian treeVAE\n",
       "mean  -2515.543100       -281.015742\n",
       "std    1396.938066         50.549052"
      ],
      "text/html": "<div>\n<style scoped>\n    .dataframe tbody tr th:only-of-type {\n        vertical-align: middle;\n    }\n\n    .dataframe tbody tr th {\n        vertical-align: top;\n    }\n\n    .dataframe thead th {\n        text-align: right;\n    }\n</style>\n<table border=\"1\" class=\"dataframe\">\n  <thead>\n    <tr style=\"text-align: right;\">\n      <th></th>\n      <th>gaussian VAE</th>\n      <th>gaussian treeVAE</th>\n    </tr>\n  </thead>\n  <tbody>\n    <tr>\n      <th>mean</th>\n      <td>-2515.543100</td>\n      <td>-281.015742</td>\n    </tr>\n    <tr>\n      <th>std</th>\n      <td>1396.938066</td>\n      <td>50.549052</td>\n    </tr>\n  </tbody>\n</table>\n</div>"
     },
     "metadata": {},
     "execution_count": 59
    }
   ],
   "source": [
    "df_lik = pd.read_csv('/home/eecs/khalil.ouardini/Cassiopeia_Transcriptome/scvi/results/gaussian/lambda2.0/100/low_fitness/Cross_Entropy')\n",
    "\n",
    "df_lik.drop(['Unnamed: 0'], axis=1).describe().iloc[1:3]"
   ]
  },
  {
   "source": [
    "### 1.a.vi k-NN purity with K=5 neighbors"
   ],
   "cell_type": "markdown",
   "metadata": {}
  },
  {
   "cell_type": "code",
   "execution_count": 30,
   "metadata": {},
   "outputs": [
    {
     "output_type": "execute_result",
     "data": {
      "text/plain": [
       "(K         5.000000\n",
       " scVI      0.372408\n",
       " cascVI    0.450439\n",
       " dtype: float64,)"
      ]
     },
     "metadata": {},
     "execution_count": 30
    }
   ],
   "source": [
    "df_purity = pd.read_csv('/home/eecs/khalil.ouardini/Cassiopeia_Transcriptome/scvi/results/gaussian/lambda2.0/100/low_fitness/purity_full')\n",
    "df_purity[df_purity.K == 5].drop(['Unnamed: 0'], axis=1).mean(), "
   ]
  },
  {
   "source": [
    "# 2. Table 2: Poisson Experiments (500 leaves, 10 trees, binomial thinning=0.1)"
   ],
   "cell_type": "markdown",
   "metadata": {}
  },
  {
   "source": [
    "## 2.a. Comparison of the prior predictive against the posterior predictive densities of internal nodes"
   ],
   "cell_type": "markdown",
   "metadata": {}
  },
  {
   "source": [
    "### 2.a.i Correlations (Pearson / Spearman / Kendall) across genes for all methods"
   ],
   "cell_type": "markdown",
   "metadata": {}
  },
  {
   "cell_type": "code",
   "execution_count": 60,
   "metadata": {},
   "outputs": [
    {
     "output_type": "stream",
     "name": "stdout",
     "text": [
      "Gene-Gene correlations\n         Spearman CC  Pearson CC\nAverage     0.314034    0.350478\ncascVI      0.326861    0.412718\nscVI        0.324289    0.402297\n"
     ]
    }
   ],
   "source": [
    "# data frame\n",
    "df = pd.read_csv('/home/eecs/khalil.ouardini/Cassiopeia_Transcriptome/scvi/results/poisson/lambda1.0/500/no_fitness/bin0.1/correlations_ss')\n",
    "df_corr = table_correlation(df.iloc[1:].drop(['Unnamed: 0'], axis=1))\n",
    "df_corr = df_corr.drop(['Kendal Tau CC'], axis=1)\n",
    "\n",
    "print('Gene-Gene correlations')\n",
    "print(df_corr)"
   ]
  },
  {
   "source": [
    "***2.a.ii MSE in feature space***"
   ],
   "cell_type": "markdown",
   "metadata": {}
  },
  {
   "cell_type": "code",
   "execution_count": 61,
   "metadata": {},
   "outputs": [
    {
     "output_type": "execute_result",
     "data": {
      "text/plain": [
       "            cascVI          scVI       Average\n",
       "mean  5.800208e+06  5.813720e+06  7.527232e+06\n",
       "std   1.603860e+06  1.388925e+06  1.368533e+06"
      ],
      "text/html": "<div>\n<style scoped>\n    .dataframe tbody tr th:only-of-type {\n        vertical-align: middle;\n    }\n\n    .dataframe tbody tr th {\n        vertical-align: top;\n    }\n\n    .dataframe thead th {\n        text-align: right;\n    }\n</style>\n<table border=\"1\" class=\"dataframe\">\n  <thead>\n    <tr style=\"text-align: right;\">\n      <th></th>\n      <th>cascVI</th>\n      <th>scVI</th>\n      <th>Average</th>\n    </tr>\n  </thead>\n  <tbody>\n    <tr>\n      <th>mean</th>\n      <td>5.800208e+06</td>\n      <td>5.813720e+06</td>\n      <td>7.527232e+06</td>\n    </tr>\n    <tr>\n      <th>std</th>\n      <td>1.603860e+06</td>\n      <td>1.388925e+06</td>\n      <td>1.368533e+06</td>\n    </tr>\n  </tbody>\n</table>\n</div>"
     },
     "metadata": {},
     "execution_count": 61
    }
   ],
   "source": [
    "df_mse = pd.read_csv('/home/eecs/khalil.ouardini/Cassiopeia_Transcriptome/scvi/results/poisson/lambda1.0/500/no_fitness/bin0.1/MSE')\n",
    "df_mse.describe().iloc[1:3].drop(['Unnamed: 0'], axis=1)"
   ]
  },
  {
   "source": [
    "## 2.b Latent space metrics    "
   ],
   "cell_type": "markdown",
   "metadata": {}
  },
  {
   "source": [
    "### 2.b.i k-NN purity with K=5 neighbors"
   ],
   "cell_type": "markdown",
   "metadata": {}
  },
  {
   "cell_type": "code",
   "execution_count": 28,
   "metadata": {},
   "outputs": [
    {
     "output_type": "execute_result",
     "data": {
      "text/plain": [
       "(        K      scVI    cascVI\n",
       " mean  5.0  0.523079  0.617259\n",
       " std   0.0  0.007732  0.006807,)"
      ]
     },
     "metadata": {},
     "execution_count": 28
    }
   ],
   "source": [
    "df_purity = pd.read_csv('/home/eecs/khalil.ouardini/Cassiopeia_Transcriptome/scvi/results/poisson/lambda1.000001/500/no_fitness/bin0.1/purity_full')\n",
    "df_purity[df_purity.K == 5].drop(['Unnamed: 0'], axis=1).describe()[1:3], "
   ]
  },
  {
   "source": [
    "### 2.b.ii. Cross Entropy"
   ],
   "cell_type": "markdown",
   "metadata": {}
  },
  {
   "cell_type": "code",
   "execution_count": 62,
   "metadata": {},
   "outputs": [
    {
     "output_type": "execute_result",
     "data": {
      "text/plain": [
       "      gaussian VAE  gaussian treeVAE\n",
       "mean  -8481.557168      -1577.262068\n",
       "std    1867.786217        646.187172"
      ],
      "text/html": "<div>\n<style scoped>\n    .dataframe tbody tr th:only-of-type {\n        vertical-align: middle;\n    }\n\n    .dataframe tbody tr th {\n        vertical-align: top;\n    }\n\n    .dataframe thead th {\n        text-align: right;\n    }\n</style>\n<table border=\"1\" class=\"dataframe\">\n  <thead>\n    <tr style=\"text-align: right;\">\n      <th></th>\n      <th>gaussian VAE</th>\n      <th>gaussian treeVAE</th>\n    </tr>\n  </thead>\n  <tbody>\n    <tr>\n      <th>mean</th>\n      <td>-8481.557168</td>\n      <td>-1577.262068</td>\n    </tr>\n    <tr>\n      <th>std</th>\n      <td>1867.786217</td>\n      <td>646.187172</td>\n    </tr>\n  </tbody>\n</table>\n</div>"
     },
     "metadata": {},
     "execution_count": 62
    }
   ],
   "source": [
    "df_ce = pd.read_csv('/home/eecs/khalil.ouardini/Cassiopeia_Transcriptome/scvi/results/poisson/lambda1.0/500/no_fitness/bin0.1/Cross_Entropy')\n",
    "df_ce.drop(['Unnamed: 0'], axis=1).describe()[1:3]"
   ]
  }
 ]
}